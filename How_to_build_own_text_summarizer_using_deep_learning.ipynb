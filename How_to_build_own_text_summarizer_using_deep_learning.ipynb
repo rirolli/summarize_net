{
  "nbformat": 4,
  "nbformat_minor": 0,
  "metadata": {
    "accelerator": "GPU",
    "colab": {
      "name": "How_to_build_own_text_summarizer_using_deep_learning.ipynb",
      "provenance": [],
      "collapsed_sections": [],
      "toc_visible": true
    },
    "kernelspec": {
      "display_name": "Python 3",
      "language": "python",
      "name": "python3"
    },
    "language_info": {
      "codemirror_mode": {
        "name": "ipython",
        "version": 3
      },
      "file_extension": ".py",
      "mimetype": "text/x-python",
      "name": "python",
      "nbconvert_exporter": "python",
      "pygments_lexer": "ipython3",
      "version": "3.8.7-final"
    }
  },
  "cells": [
    {
      "cell_type": "markdown",
      "metadata": {
        "id": "qFuL-RBgXqgU"
      },
      "source": [
        "In this notebook, we will build an abstractive based text summarizer using deep learning from the scratch in python using keras\n",
        "\n",
        "I recommend you to go through the article over [here](https://www.analyticsvidhya.com/blog/2019/06/comprehensive-guide-text-summarization-using-deep-learning-python/) to cover all the concepts which is required to build our own summarizer"
      ]
    },
    {
      "cell_type": "markdown",
      "metadata": {
        "id": "F5dSoP8lGMZi"
      },
      "source": [
        "# Understanding the Problem Statement\n",
        "\n",
        "Customer reviews can often be long and descriptive. Analyzing these reviews manually, as you can imagine, is really time-consuming. This is where the brilliance of Natural Language Processing can be applied to generate a summary for long reviews.\n",
        "\n",
        "We will be working on a really cool dataset. Our objective here is to generate a summary for the Amazon Fine Food reviews using the abstraction-based approach we learned about above. You can download the dataset from[ here ](https://www.kaggle.com/snap/amazon-fine-food-reviews)\n",
        "\n",
        "It’s time to fire up our Jupyter notebooks! Let’s dive into the implementation details right away.\n",
        "\n",
        "# Custom Attention Layer\n",
        "\n",
        "Keras does not officially support attention layer. So, we can either implement our own attention layer or use a third-party implementation. We will go with the latter option for this article. You can download the attention layer from [here](https://github.com/thushv89/attention_keras/blob/master/layers/attention.py) and copy it in a different file called attention.py.\n",
        "\n",
        "Let’s import it into our environment:"
      ]
    },
    {
      "cell_type": "markdown",
      "metadata": {
        "id": "JUValOzcHtEK"
      },
      "source": [
        "# Import the Libraries"
      ]
    },
    {
      "cell_type": "code",
      "metadata": {
        "id": "_Jpu8qLEFxcY",
        "colab": {
          "base_uri": "https://localhost:8080/"
        },
        "outputId": "85b46eb9-7e6b-4df6-cded-4ecfabe3cf46"
      },
      "source": [
        "!pip3 install -r requirements.txt\n",
        "\n",
        "import numpy as np\n",
        "import pandas as pd\n",
        "\n",
        "import re\n",
        "import warnings\n",
        "import nltk\n",
        "import datetime\n",
        "import math\n",
        "import rouge\n",
        "\n",
        "from IPython.display import clear_output\n",
        "\n",
        "from pathlib import Path\n",
        "\n",
        "from bs4 import BeautifulSoup\n",
        "\n",
        "from nltk.corpus import stopwords\n",
        "from nltk.util import ngrams\n",
        "from nltk.translate.bleu_score import modified_precision\n",
        "from nltk.translate.bleu_score import SmoothingFunction\n",
        "\n",
        "from matplotlib import pyplot\n",
        "import matplotlib.pyplot as plt\n",
        "\n",
        "from tensorflow.keras import Sequential\n",
        "from tensorflow.keras.preprocessing.text import Tokenizer\n",
        "from tensorflow.keras.preprocessing.sequence import pad_sequences\n",
        "from tensorflow.keras.layers import Input, LSTM, Embedding, Dense, Concatenate, TimeDistributed, Attention, Bidirectional, Dropout, GRU\n",
        "from tensorflow.keras.models import Model\n",
        "from tensorflow.keras.callbacks import EarlyStopping, TensorBoard\n",
        "\n",
        "from sklearn.metrics import confusion_matrix, accuracy_score, precision_score, recall_score, classification_report\n",
        "from sklearn.model_selection import train_test_split\n",
        "\n",
        "pd.set_option(\"display.max_colwidth\", 200)\n",
        "warnings.filterwarnings(\"ignore\")\n",
        "\n",
        "nltk.download('punkt')\n",
        "\n",
        "%load_ext tensorboard"
      ],
      "execution_count": 156,
      "outputs": [
        {
          "output_type": "stream",
          "text": [
            "Requirement already satisfied: beautifulsoup4==4.9.3 in /usr/local/lib/python3.7/dist-packages (from -r requirements.txt (line 1)) (4.9.3)\n",
            "Requirement already satisfied: nltk==3.5 in /usr/local/lib/python3.7/dist-packages (from -r requirements.txt (line 2)) (3.5)\n",
            "Requirement already satisfied: numpy==1.19.5 in /usr/local/lib/python3.7/dist-packages (from -r requirements.txt (line 3)) (1.19.5)\n",
            "Requirement already satisfied: tensorflow==2.4.0 in /usr/local/lib/python3.7/dist-packages (from -r requirements.txt (line 4)) (2.4.0)\n",
            "Requirement already satisfied: lxml==4.6.2 in /usr/local/lib/python3.7/dist-packages (from -r requirements.txt (line 5)) (4.6.2)\n",
            "Requirement already satisfied: matplotlib==3.3.3 in /usr/local/lib/python3.7/dist-packages (from -r requirements.txt (line 6)) (3.3.3)\n",
            "Requirement already satisfied: scikit-learn==0.24.0 in /usr/local/lib/python3.7/dist-packages (from -r requirements.txt (line 7)) (0.24.0)\n",
            "Requirement already satisfied: html5lib==1.1 in /usr/local/lib/python3.7/dist-packages (from -r requirements.txt (line 8)) (1.1)\n",
            "Requirement already satisfied: py-rouge==1.1 in /usr/local/lib/python3.7/dist-packages (from -r requirements.txt (line 9)) (1.1)\n",
            "Requirement already satisfied: soupsieve>1.2; python_version >= \"3.0\" in /usr/local/lib/python3.7/dist-packages (from beautifulsoup4==4.9.3->-r requirements.txt (line 1)) (2.2.1)\n",
            "Requirement already satisfied: click in /usr/local/lib/python3.7/dist-packages (from nltk==3.5->-r requirements.txt (line 2)) (7.1.2)\n",
            "Requirement already satisfied: joblib in /usr/local/lib/python3.7/dist-packages (from nltk==3.5->-r requirements.txt (line 2)) (1.0.1)\n",
            "Requirement already satisfied: regex in /usr/local/lib/python3.7/dist-packages (from nltk==3.5->-r requirements.txt (line 2)) (2019.12.20)\n",
            "Requirement already satisfied: tqdm in /usr/local/lib/python3.7/dist-packages (from nltk==3.5->-r requirements.txt (line 2)) (4.41.1)\n",
            "Requirement already satisfied: six~=1.15.0 in /usr/local/lib/python3.7/dist-packages (from tensorflow==2.4.0->-r requirements.txt (line 4)) (1.15.0)\n",
            "Requirement already satisfied: tensorflow-estimator<2.5.0,>=2.4.0rc0 in /usr/local/lib/python3.7/dist-packages (from tensorflow==2.4.0->-r requirements.txt (line 4)) (2.4.0)\n",
            "Requirement already satisfied: h5py~=2.10.0 in /usr/local/lib/python3.7/dist-packages (from tensorflow==2.4.0->-r requirements.txt (line 4)) (2.10.0)\n",
            "Requirement already satisfied: wrapt~=1.12.1 in /usr/local/lib/python3.7/dist-packages (from tensorflow==2.4.0->-r requirements.txt (line 4)) (1.12.1)\n",
            "Requirement already satisfied: wheel~=0.35 in /usr/local/lib/python3.7/dist-packages (from tensorflow==2.4.0->-r requirements.txt (line 4)) (0.36.2)\n",
            "Requirement already satisfied: opt-einsum~=3.3.0 in /usr/local/lib/python3.7/dist-packages (from tensorflow==2.4.0->-r requirements.txt (line 4)) (3.3.0)\n",
            "Requirement already satisfied: tensorboard~=2.4 in /usr/local/lib/python3.7/dist-packages (from tensorflow==2.4.0->-r requirements.txt (line 4)) (2.4.1)\n",
            "Requirement already satisfied: astunparse~=1.6.3 in /usr/local/lib/python3.7/dist-packages (from tensorflow==2.4.0->-r requirements.txt (line 4)) (1.6.3)\n",
            "Requirement already satisfied: keras-preprocessing~=1.1.2 in /usr/local/lib/python3.7/dist-packages (from tensorflow==2.4.0->-r requirements.txt (line 4)) (1.1.2)\n",
            "Requirement already satisfied: absl-py~=0.10 in /usr/local/lib/python3.7/dist-packages (from tensorflow==2.4.0->-r requirements.txt (line 4)) (0.10.0)\n",
            "Requirement already satisfied: typing-extensions~=3.7.4 in /usr/local/lib/python3.7/dist-packages (from tensorflow==2.4.0->-r requirements.txt (line 4)) (3.7.4.3)\n",
            "Requirement already satisfied: gast==0.3.3 in /usr/local/lib/python3.7/dist-packages (from tensorflow==2.4.0->-r requirements.txt (line 4)) (0.3.3)\n",
            "Requirement already satisfied: grpcio~=1.32.0 in /usr/local/lib/python3.7/dist-packages (from tensorflow==2.4.0->-r requirements.txt (line 4)) (1.32.0)\n",
            "Requirement already satisfied: protobuf>=3.9.2 in /usr/local/lib/python3.7/dist-packages (from tensorflow==2.4.0->-r requirements.txt (line 4)) (3.12.4)\n",
            "Requirement already satisfied: termcolor~=1.1.0 in /usr/local/lib/python3.7/dist-packages (from tensorflow==2.4.0->-r requirements.txt (line 4)) (1.1.0)\n",
            "Requirement already satisfied: flatbuffers~=1.12.0 in /usr/local/lib/python3.7/dist-packages (from tensorflow==2.4.0->-r requirements.txt (line 4)) (1.12)\n",
            "Requirement already satisfied: google-pasta~=0.2 in /usr/local/lib/python3.7/dist-packages (from tensorflow==2.4.0->-r requirements.txt (line 4)) (0.2.0)\n",
            "Requirement already satisfied: pillow>=6.2.0 in /usr/local/lib/python3.7/dist-packages (from matplotlib==3.3.3->-r requirements.txt (line 6)) (7.0.0)\n",
            "Requirement already satisfied: pyparsing!=2.0.4,!=2.1.2,!=2.1.6,>=2.0.3 in /usr/local/lib/python3.7/dist-packages (from matplotlib==3.3.3->-r requirements.txt (line 6)) (2.4.7)\n",
            "Requirement already satisfied: python-dateutil>=2.1 in /usr/local/lib/python3.7/dist-packages (from matplotlib==3.3.3->-r requirements.txt (line 6)) (2.8.1)\n",
            "Requirement already satisfied: cycler>=0.10 in /usr/local/lib/python3.7/dist-packages (from matplotlib==3.3.3->-r requirements.txt (line 6)) (0.10.0)\n",
            "Requirement already satisfied: kiwisolver>=1.0.1 in /usr/local/lib/python3.7/dist-packages (from matplotlib==3.3.3->-r requirements.txt (line 6)) (1.3.1)\n",
            "Requirement already satisfied: threadpoolctl>=2.0.0 in /usr/local/lib/python3.7/dist-packages (from scikit-learn==0.24.0->-r requirements.txt (line 7)) (2.1.0)\n",
            "Requirement already satisfied: scipy>=0.19.1 in /usr/local/lib/python3.7/dist-packages (from scikit-learn==0.24.0->-r requirements.txt (line 7)) (1.4.1)\n",
            "Requirement already satisfied: webencodings in /usr/local/lib/python3.7/dist-packages (from html5lib==1.1->-r requirements.txt (line 8)) (0.5.1)\n",
            "Requirement already satisfied: google-auth<2,>=1.6.3 in /usr/local/lib/python3.7/dist-packages (from tensorboard~=2.4->tensorflow==2.4.0->-r requirements.txt (line 4)) (1.27.1)\n",
            "Requirement already satisfied: requests<3,>=2.21.0 in /usr/local/lib/python3.7/dist-packages (from tensorboard~=2.4->tensorflow==2.4.0->-r requirements.txt (line 4)) (2.23.0)\n",
            "Requirement already satisfied: google-auth-oauthlib<0.5,>=0.4.1 in /usr/local/lib/python3.7/dist-packages (from tensorboard~=2.4->tensorflow==2.4.0->-r requirements.txt (line 4)) (0.4.3)\n",
            "Requirement already satisfied: setuptools>=41.0.0 in /usr/local/lib/python3.7/dist-packages (from tensorboard~=2.4->tensorflow==2.4.0->-r requirements.txt (line 4)) (54.1.2)\n",
            "Requirement already satisfied: tensorboard-plugin-wit>=1.6.0 in /usr/local/lib/python3.7/dist-packages (from tensorboard~=2.4->tensorflow==2.4.0->-r requirements.txt (line 4)) (1.8.0)\n",
            "Requirement already satisfied: werkzeug>=0.11.15 in /usr/local/lib/python3.7/dist-packages (from tensorboard~=2.4->tensorflow==2.4.0->-r requirements.txt (line 4)) (1.0.1)\n",
            "Requirement already satisfied: markdown>=2.6.8 in /usr/local/lib/python3.7/dist-packages (from tensorboard~=2.4->tensorflow==2.4.0->-r requirements.txt (line 4)) (3.3.4)\n",
            "Requirement already satisfied: rsa<5,>=3.1.4; python_version >= \"3.6\" in /usr/local/lib/python3.7/dist-packages (from google-auth<2,>=1.6.3->tensorboard~=2.4->tensorflow==2.4.0->-r requirements.txt (line 4)) (4.7.2)\n",
            "Requirement already satisfied: cachetools<5.0,>=2.0.0 in /usr/local/lib/python3.7/dist-packages (from google-auth<2,>=1.6.3->tensorboard~=2.4->tensorflow==2.4.0->-r requirements.txt (line 4)) (4.2.1)\n",
            "Requirement already satisfied: pyasn1-modules>=0.2.1 in /usr/local/lib/python3.7/dist-packages (from google-auth<2,>=1.6.3->tensorboard~=2.4->tensorflow==2.4.0->-r requirements.txt (line 4)) (0.2.8)\n",
            "Requirement already satisfied: urllib3!=1.25.0,!=1.25.1,<1.26,>=1.21.1 in /usr/local/lib/python3.7/dist-packages (from requests<3,>=2.21.0->tensorboard~=2.4->tensorflow==2.4.0->-r requirements.txt (line 4)) (1.24.3)\n",
            "Requirement already satisfied: chardet<4,>=3.0.2 in /usr/local/lib/python3.7/dist-packages (from requests<3,>=2.21.0->tensorboard~=2.4->tensorflow==2.4.0->-r requirements.txt (line 4)) (3.0.4)\n",
            "Requirement already satisfied: certifi>=2017.4.17 in /usr/local/lib/python3.7/dist-packages (from requests<3,>=2.21.0->tensorboard~=2.4->tensorflow==2.4.0->-r requirements.txt (line 4)) (2020.12.5)\n",
            "Requirement already satisfied: idna<3,>=2.5 in /usr/local/lib/python3.7/dist-packages (from requests<3,>=2.21.0->tensorboard~=2.4->tensorflow==2.4.0->-r requirements.txt (line 4)) (2.10)\n",
            "Requirement already satisfied: requests-oauthlib>=0.7.0 in /usr/local/lib/python3.7/dist-packages (from google-auth-oauthlib<0.5,>=0.4.1->tensorboard~=2.4->tensorflow==2.4.0->-r requirements.txt (line 4)) (1.3.0)\n",
            "Requirement already satisfied: importlib-metadata; python_version < \"3.8\" in /usr/local/lib/python3.7/dist-packages (from markdown>=2.6.8->tensorboard~=2.4->tensorflow==2.4.0->-r requirements.txt (line 4)) (3.7.2)\n",
            "Requirement already satisfied: pyasn1>=0.1.3 in /usr/local/lib/python3.7/dist-packages (from rsa<5,>=3.1.4; python_version >= \"3.6\"->google-auth<2,>=1.6.3->tensorboard~=2.4->tensorflow==2.4.0->-r requirements.txt (line 4)) (0.4.8)\n",
            "Requirement already satisfied: oauthlib>=3.0.0 in /usr/local/lib/python3.7/dist-packages (from requests-oauthlib>=0.7.0->google-auth-oauthlib<0.5,>=0.4.1->tensorboard~=2.4->tensorflow==2.4.0->-r requirements.txt (line 4)) (3.1.0)\n",
            "Requirement already satisfied: zipp>=0.5 in /usr/local/lib/python3.7/dist-packages (from importlib-metadata; python_version < \"3.8\"->markdown>=2.6.8->tensorboard~=2.4->tensorflow==2.4.0->-r requirements.txt (line 4)) (3.4.1)\n",
            "The tensorboard extension is already loaded. To reload it, use:\n",
            "  %reload_ext tensorboard\n"
          ],
          "name": "stdout"
        },
        {
          "output_type": "stream",
          "text": [
            "[nltk_data] Downloading package punkt to /root/nltk_data...\n",
            "[nltk_data]   Package punkt is already up-to-date!\n"
          ],
          "name": "stderr"
        }
      ]
    },
    {
      "cell_type": "code",
      "metadata": {
        "id": "INVwbcdnscXr"
      },
      "source": [
        "# Print iterations progress\n",
        "def printProgressBar (iteration, total, suffix = 'Complete', decimals = 1, length = 20, fill = '█', printEnd = \"\\r\"):\n",
        "    \"\"\"\n",
        "    Call in a loop to create terminal progress bar\n",
        "    @params:\n",
        "        iteration   - Required  : current iteration (Int)\n",
        "        total       - Required  : total iterations (Int)\n",
        "        prefix      - Optional  : prefix string (Str)\n",
        "        suffix      - Optional  : suffix string (Str)\n",
        "        decimals    - Optional  : positive number of decimals in percent complete (Int)\n",
        "        length      - Optional  : character length of bar (Int)\n",
        "        fill        - Optional  : bar fill character (Str)\n",
        "        printEnd    - Optional  : end character (e.g. \"\\r\", \"\\r\\n\") (Str)\n",
        "    \"\"\"\n",
        "    percent = (\"{0:.\" + str(decimals) + \"f}\").format(100 * (iteration / float(total)))\n",
        "    filledLength = int(length * iteration // total)\n",
        "    bar = fill * filledLength + '-' * (length - filledLength)\n",
        "    print(f'\\r> {iteration}/{total} |{bar}| {percent}% {suffix}', end = printEnd)\n",
        "    # Print New Line on Complete\n",
        "    if iteration == total:\n",
        "        clear_output(wait=True)\n",
        "        print()"
      ],
      "execution_count": 157,
      "outputs": []
    },
    {
      "cell_type": "markdown",
      "metadata": {
        "id": "UVakjZ3oICgx"
      },
      "source": [
        "# Read the dataset\n",
        "\n",
        "This dataset consists of reviews of fine foods from Amazon. The data spans a period of more than 10 years, including all ~500,000 reviews up to October 2012. These reviews include product and user information, ratings, plain text review, and summary. It also includes reviews from all other Amazon categories.\n",
        "\n",
        "We’ll take a sample of 100,000 reviews to reduce the training time of our model. Feel free to use the entire dataset for training your model if your machine has that kind of computational power."
      ]
    },
    {
      "cell_type": "code",
      "metadata": {
        "id": "MsbCBg-8KVzr",
        "colab": {
          "base_uri": "https://localhost:8080/"
        },
        "outputId": "cc5819aa-7894-4c47-d109-7024136ff86b"
      },
      "source": [
        "# True if in Google Colab, else if in local.\n",
        "colab = True\n",
        "\n",
        "if colab:\n",
        "    from google.colab import drive\n",
        "    drive.mount('/content/drive')\n",
        "    pj_path = \"/content/drive/MyDrive/Colab Notebooks\"\n",
        "else:\n",
        "    pj_path = \".\"\n",
        "\n",
        "url = pj_path + \"/dataset/Reviews.csv\"\n",
        "data=pd.read_csv(url, nrows=100000)"
      ],
      "execution_count": 158,
      "outputs": [
        {
          "output_type": "stream",
          "text": [
            "Drive already mounted at /content/drive; to attempt to forcibly remount, call drive.mount(\"/content/drive\", force_remount=True).\n"
          ],
          "name": "stdout"
        }
      ]
    },
    {
      "cell_type": "markdown",
      "metadata": {
        "id": "kGNQKvCaISIn"
      },
      "source": [
        "# Drop Duplicates and NA values"
      ]
    },
    {
      "cell_type": "code",
      "metadata": {
        "id": "Cjul88oOFxcr"
      },
      "source": [
        "data.drop_duplicates(subset=['Text'],inplace=True) # Dropping duplicates\n",
        "data.dropna(axis=0,inplace=True) # Dropping na"
      ],
      "execution_count": 159,
      "outputs": []
    },
    {
      "cell_type": "markdown",
      "metadata": {
        "id": "qi0xD6BkIWAm"
      },
      "source": [
        "# Information about dataset\n",
        "\n",
        "Let us look at datatypes and shape of the dataset"
      ]
    },
    {
      "cell_type": "code",
      "metadata": {
        "id": "__fy-JxTFxc9",
        "colab": {
          "base_uri": "https://localhost:8080/"
        },
        "outputId": "22ce0b0d-1f32-4857-a3f4-1464715d55ac"
      },
      "source": [
        "data.info()"
      ],
      "execution_count": 160,
      "outputs": [
        {
          "output_type": "stream",
          "text": [
            "<class 'pandas.core.frame.DataFrame'>\n",
            "Int64Index: 88421 entries, 0 to 99999\n",
            "Data columns (total 10 columns):\n",
            " #   Column                  Non-Null Count  Dtype \n",
            "---  ------                  --------------  ----- \n",
            " 0   Id                      88421 non-null  int64 \n",
            " 1   ProductId               88421 non-null  object\n",
            " 2   UserId                  88421 non-null  object\n",
            " 3   ProfileName             88421 non-null  object\n",
            " 4   HelpfulnessNumerator    88421 non-null  int64 \n",
            " 5   HelpfulnessDenominator  88421 non-null  int64 \n",
            " 6   Score                   88421 non-null  int64 \n",
            " 7   Time                    88421 non-null  int64 \n",
            " 8   Summary                 88421 non-null  object\n",
            " 9   Text                    88421 non-null  object\n",
            "dtypes: int64(5), object(5)\n",
            "memory usage: 7.4+ MB\n"
          ],
          "name": "stdout"
        }
      ]
    },
    {
      "cell_type": "code",
      "metadata": {
        "id": "35xiqnC4scXu",
        "colab": {
          "base_uri": "https://localhost:8080/",
          "height": 374
        },
        "outputId": "08cc8dfa-4897-47f0-ca48-01387ced937a"
      },
      "source": [
        "data.head()"
      ],
      "execution_count": 161,
      "outputs": [
        {
          "output_type": "execute_result",
          "data": {
            "text/html": [
              "<div>\n",
              "<style scoped>\n",
              "    .dataframe tbody tr th:only-of-type {\n",
              "        vertical-align: middle;\n",
              "    }\n",
              "\n",
              "    .dataframe tbody tr th {\n",
              "        vertical-align: top;\n",
              "    }\n",
              "\n",
              "    .dataframe thead th {\n",
              "        text-align: right;\n",
              "    }\n",
              "</style>\n",
              "<table border=\"1\" class=\"dataframe\">\n",
              "  <thead>\n",
              "    <tr style=\"text-align: right;\">\n",
              "      <th></th>\n",
              "      <th>Id</th>\n",
              "      <th>ProductId</th>\n",
              "      <th>UserId</th>\n",
              "      <th>ProfileName</th>\n",
              "      <th>HelpfulnessNumerator</th>\n",
              "      <th>HelpfulnessDenominator</th>\n",
              "      <th>Score</th>\n",
              "      <th>Time</th>\n",
              "      <th>Summary</th>\n",
              "      <th>Text</th>\n",
              "    </tr>\n",
              "  </thead>\n",
              "  <tbody>\n",
              "    <tr>\n",
              "      <th>0</th>\n",
              "      <td>1</td>\n",
              "      <td>B001E4KFG0</td>\n",
              "      <td>A3SGXH7AUHU8GW</td>\n",
              "      <td>delmartian</td>\n",
              "      <td>1</td>\n",
              "      <td>1</td>\n",
              "      <td>5</td>\n",
              "      <td>1303862400</td>\n",
              "      <td>Good Quality Dog Food</td>\n",
              "      <td>I have bought several of the Vitality canned dog food products and have found them all to be of good quality. The product looks more like a stew than a processed meat and it smells better. My Labr...</td>\n",
              "    </tr>\n",
              "    <tr>\n",
              "      <th>1</th>\n",
              "      <td>2</td>\n",
              "      <td>B00813GRG4</td>\n",
              "      <td>A1D87F6ZCVE5NK</td>\n",
              "      <td>dll pa</td>\n",
              "      <td>0</td>\n",
              "      <td>0</td>\n",
              "      <td>1</td>\n",
              "      <td>1346976000</td>\n",
              "      <td>Not as Advertised</td>\n",
              "      <td>Product arrived labeled as Jumbo Salted Peanuts...the peanuts were actually small sized unsalted. Not sure if this was an error or if the vendor intended to represent the product as \"Jumbo\".</td>\n",
              "    </tr>\n",
              "    <tr>\n",
              "      <th>2</th>\n",
              "      <td>3</td>\n",
              "      <td>B000LQOCH0</td>\n",
              "      <td>ABXLMWJIXXAIN</td>\n",
              "      <td>Natalia Corres \"Natalia Corres\"</td>\n",
              "      <td>1</td>\n",
              "      <td>1</td>\n",
              "      <td>4</td>\n",
              "      <td>1219017600</td>\n",
              "      <td>\"Delight\" says it all</td>\n",
              "      <td>This is a confection that has been around a few centuries.  It is a light, pillowy citrus gelatin with nuts - in this case Filberts. And it is cut into tiny squares and then liberally coated with ...</td>\n",
              "    </tr>\n",
              "    <tr>\n",
              "      <th>3</th>\n",
              "      <td>4</td>\n",
              "      <td>B000UA0QIQ</td>\n",
              "      <td>A395BORC6FGVXV</td>\n",
              "      <td>Karl</td>\n",
              "      <td>3</td>\n",
              "      <td>3</td>\n",
              "      <td>2</td>\n",
              "      <td>1307923200</td>\n",
              "      <td>Cough Medicine</td>\n",
              "      <td>If you are looking for the secret ingredient in Robitussin I believe I have found it.  I got this in addition to the Root Beer Extract I ordered (which was good) and made some cherry soda.  The fl...</td>\n",
              "    </tr>\n",
              "    <tr>\n",
              "      <th>4</th>\n",
              "      <td>5</td>\n",
              "      <td>B006K2ZZ7K</td>\n",
              "      <td>A1UQRSCLF8GW1T</td>\n",
              "      <td>Michael D. Bigham \"M. Wassir\"</td>\n",
              "      <td>0</td>\n",
              "      <td>0</td>\n",
              "      <td>5</td>\n",
              "      <td>1350777600</td>\n",
              "      <td>Great taffy</td>\n",
              "      <td>Great taffy at a great price.  There was a wide assortment of yummy taffy.  Delivery was very quick.  If your a taffy lover, this is a deal.</td>\n",
              "    </tr>\n",
              "  </tbody>\n",
              "</table>\n",
              "</div>"
            ],
            "text/plain": [
              "   Id  ...                                                                                                                                                                                                     Text\n",
              "0   1  ...  I have bought several of the Vitality canned dog food products and have found them all to be of good quality. The product looks more like a stew than a processed meat and it smells better. My Labr...\n",
              "1   2  ...           Product arrived labeled as Jumbo Salted Peanuts...the peanuts were actually small sized unsalted. Not sure if this was an error or if the vendor intended to represent the product as \"Jumbo\".\n",
              "2   3  ...  This is a confection that has been around a few centuries.  It is a light, pillowy citrus gelatin with nuts - in this case Filberts. And it is cut into tiny squares and then liberally coated with ...\n",
              "3   4  ...  If you are looking for the secret ingredient in Robitussin I believe I have found it.  I got this in addition to the Root Beer Extract I ordered (which was good) and made some cherry soda.  The fl...\n",
              "4   5  ...                                                             Great taffy at a great price.  There was a wide assortment of yummy taffy.  Delivery was very quick.  If your a taffy lover, this is a deal.\n",
              "\n",
              "[5 rows x 10 columns]"
            ]
          },
          "metadata": {
            "tags": []
          },
          "execution_count": 161
        }
      ]
    },
    {
      "cell_type": "markdown",
      "metadata": {
        "id": "r0xLYACiFxdJ"
      },
      "source": [
        "# Preprocessing\n",
        "\n",
        "Performing basic preprocessing steps is very important before we get to the model building part. Using messy and uncleaned text data is a potentially disastrous move. So in this step, we will drop all the unwanted symbols, characters, etc. from the text that do not affect the objective of our problem.\n",
        "\n",
        "Here is the dictionary that we will use for expanding the contractions:"
      ]
    },
    {
      "cell_type": "code",
      "metadata": {
        "id": "0s6IY-x2FxdL"
      },
      "source": [
        "contraction_mapping = {\"ain't\": \"is not\", \"aren't\": \"are not\",\"can't\": \"cannot\", \"'cause\": \"because\", \"could've\": \"could have\", \"couldn't\": \"could not\",\n",
        "                           \"didn't\": \"did not\",  \"doesn't\": \"does not\", \"don't\": \"do not\", \"hadn't\": \"had not\", \"hasn't\": \"has not\", \"haven't\": \"have not\",\n",
        "                           \"he'd\": \"he would\",\"he'll\": \"he will\", \"he's\": \"he is\", \"how'd\": \"how did\", \"how'd'y\": \"how do you\", \"how'll\": \"how will\", \"how's\": \"how is\",\n",
        "                           \"I'd\": \"I would\", \"I'd've\": \"I would have\", \"I'll\": \"I will\", \"I'll've\": \"I will have\",\"I'm\": \"I am\", \"I've\": \"I have\", \"i'd\": \"i would\",\n",
        "                           \"i'd've\": \"i would have\", \"i'll\": \"i will\",  \"i'll've\": \"i will have\",\"i'm\": \"i am\", \"i've\": \"i have\", \"isn't\": \"is not\", \"it'd\": \"it would\",\n",
        "                           \"it'd've\": \"it would have\", \"it'll\": \"it will\", \"it'll've\": \"it will have\",\"it's\": \"it is\", \"let's\": \"let us\", \"ma'am\": \"madam\",\n",
        "                           \"mayn't\": \"may not\", \"might've\": \"might have\",\"mightn't\": \"might not\",\"mightn't've\": \"might not have\", \"must've\": \"must have\",\n",
        "                           \"mustn't\": \"must not\", \"mustn't've\": \"must not have\", \"needn't\": \"need not\", \"needn't've\": \"need not have\",\"o'clock\": \"of the clock\",\n",
        "                           \"oughtn't\": \"ought not\", \"oughtn't've\": \"ought not have\", \"shan't\": \"shall not\", \"sha'n't\": \"shall not\", \"shan't've\": \"shall not have\",\n",
        "                           \"she'd\": \"she would\", \"she'd've\": \"she would have\", \"she'll\": \"she will\", \"she'll've\": \"she will have\", \"she's\": \"she is\",\n",
        "                           \"should've\": \"should have\", \"shouldn't\": \"should not\", \"shouldn't've\": \"should not have\", \"so've\": \"so have\",\"so's\": \"so as\",\n",
        "                           \"this's\": \"this is\",\"that'd\": \"that would\", \"that'd've\": \"that would have\", \"that's\": \"that is\", \"there'd\": \"there would\",\n",
        "                           \"there'd've\": \"there would have\", \"there's\": \"there is\", \"here's\": \"here is\",\"they'd\": \"they would\", \"they'd've\": \"they would have\",\n",
        "                           \"they'll\": \"they will\", \"they'll've\": \"they will have\", \"they're\": \"they are\", \"they've\": \"they have\", \"to've\": \"to have\",\n",
        "                           \"wasn't\": \"was not\", \"we'd\": \"we would\", \"we'd've\": \"we would have\", \"we'll\": \"we will\", \"we'll've\": \"we will have\", \"we're\": \"we are\",\n",
        "                           \"we've\": \"we have\", \"weren't\": \"were not\", \"what'll\": \"what will\", \"what'll've\": \"what will have\", \"what're\": \"what are\",\n",
        "                           \"what's\": \"what is\", \"what've\": \"what have\", \"when's\": \"when is\", \"when've\": \"when have\", \"where'd\": \"where did\", \"where's\": \"where is\",\n",
        "                           \"where've\": \"where have\", \"who'll\": \"who will\", \"who'll've\": \"who will have\", \"who's\": \"who is\", \"who've\": \"who have\",\n",
        "                           \"why's\": \"why is\", \"why've\": \"why have\", \"will've\": \"will have\", \"won't\": \"will not\", \"won't've\": \"will not have\",\n",
        "                           \"would've\": \"would have\", \"wouldn't\": \"would not\", \"wouldn't've\": \"would not have\", \"y'all\": \"you all\",\n",
        "                           \"y'all'd\": \"you all would\",\"y'all'd've\": \"you all would have\",\"y'all're\": \"you all are\",\"y'all've\": \"you all have\",\n",
        "                           \"you'd\": \"you would\", \"you'd've\": \"you would have\", \"you'll\": \"you will\", \"you'll've\": \"you will have\",\n",
        "                           \"you're\": \"you are\", \"you've\": \"you have\"}"
      ],
      "execution_count": 162,
      "outputs": []
    },
    {
      "cell_type": "markdown",
      "metadata": {
        "id": "2JFRXFHmI7Mj"
      },
      "source": [
        "We will perform the below preprocessing tasks for our data:\n",
        "\n",
        "1.Convert everything to lowercase\n",
        "\n",
        "2.Remove HTML tags\n",
        "\n",
        "3.Contraction mapping\n",
        "\n",
        "4.Remove (‘s)\n",
        "\n",
        "5.Remove any text inside the parenthesis ( )\n",
        "\n",
        "6.Eliminate punctuations and special characters\n",
        "\n",
        "7.Remove stopwords\n",
        "\n",
        "8.Remove short words\n",
        "\n",
        "Let’s define the function:"
      ]
    },
    {
      "cell_type": "code",
      "metadata": {
        "id": "XZr-u3OEFxdT",
        "colab": {
          "base_uri": "https://localhost:8080/"
        },
        "outputId": "56d841ab-a592-4dd5-df63-b4dd3d932844"
      },
      "source": [
        "nltk.download('stopwords')\n",
        "stop_words = set(stopwords.words('english')) \n",
        "\n",
        "def text_cleaner(text,num):\n",
        "    newString = text.lower()\n",
        "    newString = BeautifulSoup(newString, \"lxml\").text\n",
        "    newString = re.sub(r'\\([^)]*\\)', '', newString)\n",
        "    newString = re.sub('\"','', newString)\n",
        "    newString = ' '.join([contraction_mapping[t] if t in contraction_mapping else t for t in newString.split(\" \")])    \n",
        "    newString = re.sub(r\"'s\\b\",\"\",newString)\n",
        "    newString = re.sub(\"[^a-zA-Z]\", \" \", newString) \n",
        "    newString = re.sub('[m]{2,}', 'mm', newString)\n",
        "    if(num==0):\n",
        "        tokens = [w for w in newString.split() if not w in stop_words]\n",
        "    else:\n",
        "        tokens=newString.split()\n",
        "    long_words=[]\n",
        "    for i in tokens:\n",
        "        if len(i)>1:                                                 #removing short word\n",
        "            long_words.append(i)   \n",
        "    return (\" \".join(long_words)).strip()"
      ],
      "execution_count": 163,
      "outputs": [
        {
          "output_type": "stream",
          "text": [
            "[nltk_data] Downloading package stopwords to /root/nltk_data...\n",
            "[nltk_data]   Package stopwords is already up-to-date!\n"
          ],
          "name": "stderr"
        }
      ]
    },
    {
      "cell_type": "code",
      "metadata": {
        "id": "A2QAeCHWFxdY"
      },
      "source": [
        "# call the function\n",
        "cleaned_text = []\n",
        "for t in data['Text']:\n",
        "    cleaned_text.append(text_cleaner(t,0)) "
      ],
      "execution_count": 164,
      "outputs": []
    },
    {
      "cell_type": "markdown",
      "metadata": {
        "id": "snRZY8wjLao2"
      },
      "source": [
        "Let us look at the first five preprocessed reviews"
      ]
    },
    {
      "cell_type": "code",
      "metadata": {
        "colab": {
          "base_uri": "https://localhost:8080/"
        },
        "id": "NCAIkhWbFxdh",
        "outputId": "bf762d02-c907-4ea4-acdb-4c90bc9d1426"
      },
      "source": [
        "cleaned_text[:5]  "
      ],
      "execution_count": 165,
      "outputs": [
        {
          "output_type": "execute_result",
          "data": {
            "text/plain": [
              "['bought several vitality canned dog food products found good quality product looks like stew processed meat smells better labrador finicky appreciates product better',\n",
              " 'product arrived labeled jumbo salted peanuts peanuts actually small sized unsalted sure error vendor intended represent product jumbo',\n",
              " 'confection around centuries light pillowy citrus gelatin nuts case filberts cut tiny squares liberally coated powdered sugar tiny mouthful heaven chewy flavorful highly recommend yummy treat familiar story lewis lion witch wardrobe treat seduces edmund selling brother sisters witch',\n",
              " 'looking secret ingredient robitussin believe found got addition root beer extract ordered made cherry soda flavor medicinal',\n",
              " 'great taffy great price wide assortment yummy taffy delivery quick taffy lover deal']"
            ]
          },
          "metadata": {
            "tags": []
          },
          "execution_count": 165
        }
      ]
    },
    {
      "cell_type": "code",
      "metadata": {
        "id": "GsRXocxoFxd-"
      },
      "source": [
        "# Call the function\n",
        "cleaned_summary = []\n",
        "for t in data['Summary']:\n",
        "    cleaned_summary.append(text_cleaner(t,1))"
      ],
      "execution_count": 166,
      "outputs": []
    },
    {
      "cell_type": "markdown",
      "metadata": {
        "id": "oZeD0gs6Lnb-"
      },
      "source": [
        "Let us look at the first 10 preprocessed summaries"
      ]
    },
    {
      "cell_type": "code",
      "metadata": {
        "colab": {
          "base_uri": "https://localhost:8080/"
        },
        "id": "jQJdZcAzFxee",
        "outputId": "f9c3fc56-72a1-411c-c6ff-dbbc9a14d201"
      },
      "source": [
        "cleaned_summary[:10]"
      ],
      "execution_count": 167,
      "outputs": [
        {
          "output_type": "execute_result",
          "data": {
            "text/plain": [
              "['good quality dog food',\n",
              " 'not as advertised',\n",
              " 'delight says it all',\n",
              " 'cough medicine',\n",
              " 'great taffy',\n",
              " 'nice taffy',\n",
              " 'great just as good as the expensive brands',\n",
              " 'wonderful tasty taffy',\n",
              " 'yay barley',\n",
              " 'healthy dog food']"
            ]
          },
          "metadata": {
            "tags": []
          },
          "execution_count": 167
        }
      ]
    },
    {
      "cell_type": "code",
      "metadata": {
        "id": "L1zLpnqsFxey"
      },
      "source": [
        "data['cleaned_text']=cleaned_text\n",
        "data['cleaned_summary']=cleaned_summary"
      ],
      "execution_count": 168,
      "outputs": []
    },
    {
      "cell_type": "markdown",
      "metadata": {
        "id": "KT_D2cLiLy77"
      },
      "source": [
        "# Drop empty rows"
      ]
    },
    {
      "cell_type": "code",
      "metadata": {
        "colab": {
          "base_uri": "https://localhost:8080/"
        },
        "id": "sYK390unFxfA",
        "outputId": "1706232d-42da-43f8-d1f0-1cba7559ef11"
      },
      "source": [
        "data.replace('', np.nan, inplace=True)\n",
        "data.replace(' ', np.nan, inplace=True)\n",
        "print(data.isna().sum())\n",
        "data.dropna(axis=0,inplace=True)"
      ],
      "execution_count": 169,
      "outputs": [
        {
          "output_type": "stream",
          "text": [
            "Id                         0\n",
            "ProductId                  0\n",
            "UserId                     0\n",
            "ProfileName                0\n",
            "HelpfulnessNumerator       0\n",
            "HelpfulnessDenominator     0\n",
            "Score                      0\n",
            "Time                       0\n",
            "Summary                    0\n",
            "Text                       0\n",
            "cleaned_text               0\n",
            "cleaned_summary           70\n",
            "dtype: int64\n"
          ],
          "name": "stdout"
        }
      ]
    },
    {
      "cell_type": "markdown",
      "metadata": {
        "id": "Vm8Fk2TCL7Sp"
      },
      "source": [
        "# Understanding the distribution of the sequences\n",
        "\n",
        "Here, we will analyze the length of the reviews and the summary to get an overall idea about the distribution of length of the text. This will help us fix the maximum length of the sequence:"
      ]
    },
    {
      "cell_type": "code",
      "metadata": {
        "colab": {
          "base_uri": "https://localhost:8080/",
          "height": 281
        },
        "id": "MdF76AHHFxgw",
        "outputId": "61516eea-59f4-4417-8bc0-0e73fc42e483"
      },
      "source": [
        "import matplotlib.pyplot as plt\n",
        "\n",
        "text_word_count = []\n",
        "summary_word_count = []\n",
        "\n",
        "# populate the lists with sentence lengths\n",
        "for i in data['cleaned_text']:\n",
        "      text_word_count.append(len(i.split()))\n",
        "\n",
        "for i in data['cleaned_summary']:\n",
        "      summary_word_count.append(len(i.split()))\n",
        "\n",
        "length_df = pd.DataFrame({'text':text_word_count, 'summary':summary_word_count})\n",
        "\n",
        "length_df.hist(bins = 30)\n",
        "plt.show()"
      ],
      "execution_count": 170,
      "outputs": [
        {
          "output_type": "display_data",
          "data": {
            "image/png": "[encoded data removed]",
            "text/plain": [
              "<Figure size 432x288 with 2 Axes>"
            ]
          },
          "metadata": {
            "tags": [],
            "needs_background": "light"
          }
        }
      ]
    },
    {
      "cell_type": "markdown",
      "metadata": {
        "id": "QwdSGIhGMEbz"
      },
      "source": [
        "Interesting. We can fix the maximum length of the summary to 8 since that seems to be the majority summary length.\n",
        "\n",
        "Let us understand the proportion of the length of summaries below 8"
      ]
    },
    {
      "cell_type": "code",
      "metadata": {
        "colab": {
          "base_uri": "https://localhost:8080/"
        },
        "id": "7JRjwdIOFxg3",
        "outputId": "7f394d22-8cf4-460d-8ff0-25846b2c10f4"
      },
      "source": [
        "cnt=0\n",
        "for i in data['cleaned_summary']:\n",
        "    if(len(i.split())<=10):\n",
        "        cnt=cnt+1\n",
        "print(cnt/len(data['cleaned_summary']))"
      ],
      "execution_count": 171,
      "outputs": [
        {
          "output_type": "stream",
          "text": [
            "0.9788683772679426\n"
          ],
          "name": "stdout"
        }
      ]
    },
    {
      "cell_type": "markdown",
      "metadata": {
        "id": "yYB4Ga9KMjEu"
      },
      "source": [
        "We observe that 94% of the summaries have length below 8. So, we can fix maximum length of summary to 8.\n",
        "\n",
        "Let us fix the maximum length of review to 30"
      ]
    },
    {
      "cell_type": "code",
      "metadata": {
        "id": "ZKD5VOWqFxhC"
      },
      "source": [
        "max_text_len=30\n",
        "# max_summary_len = 8\n",
        "max_summary_len = 10"
      ],
      "execution_count": 172,
      "outputs": []
    },
    {
      "cell_type": "markdown",
      "metadata": {
        "id": "E6d48E-8M4VO"
      },
      "source": [
        "Let us select the reviews and summaries whose length falls below or equal to **max_text_len** and **max_summary_len**"
      ]
    },
    {
      "cell_type": "code",
      "metadata": {
        "id": "yY0tEJP0FxhI"
      },
      "source": [
        "cleaned_text =np.array(data['cleaned_text'])\n",
        "cleaned_summary=np.array(data['cleaned_summary'])\n",
        "cleaned_score = np.array(data['Score'])\n",
        "\n",
        "short_text=[]\n",
        "short_summary=[]\n",
        "short_score=[]\n",
        "\n",
        "for i in range(len(cleaned_text)):\n",
        "#    if(len(cleaned_summary[i].split())<=max_summary_len and len(cleaned_text[i].split())<=max_text_len):\n",
        "    if(len(cleaned_summary[i].split())<=max_summary_len-2 and len(cleaned_text[i].split())<=max_text_len):\n",
        "        short_text.append(cleaned_text[i])\n",
        "        short_summary.append(cleaned_summary[i])\n",
        "        short_score.append(cleaned_score[i])\n",
        "        \n",
        "df_start=pd.DataFrame({'text':short_text,'summary':short_summary,'score':short_score})\n",
        "df_start=pd.get_dummies(df_start, columns = ['score'])\n",
        "df_start['sentiment'] = [(lambda s: 1 if s>3 else 0)(score) for score in short_score]\n",
        "df_start=pd.get_dummies(df_start, columns = ['sentiment'])\n",
        "\n",
        "df = df_start.copy()\n"
      ],
      "execution_count": 173,
      "outputs": []
    },
    {
      "cell_type": "code",
      "metadata": {
        "colab": {
          "base_uri": "https://localhost:8080/",
          "height": 272
        },
        "id": "tb_4q3nOscYA",
        "outputId": "7c5f34a7-8c55-4db1-9b81-be6078a7392a"
      },
      "source": [
        "df_start.head()"
      ],
      "execution_count": 174,
      "outputs": [
        {
          "output_type": "execute_result",
          "data": {
            "text/html": [
              "<div>\n",
              "<style scoped>\n",
              "    .dataframe tbody tr th:only-of-type {\n",
              "        vertical-align: middle;\n",
              "    }\n",
              "\n",
              "    .dataframe tbody tr th {\n",
              "        vertical-align: top;\n",
              "    }\n",
              "\n",
              "    .dataframe thead th {\n",
              "        text-align: right;\n",
              "    }\n",
              "</style>\n",
              "<table border=\"1\" class=\"dataframe\">\n",
              "  <thead>\n",
              "    <tr style=\"text-align: right;\">\n",
              "      <th></th>\n",
              "      <th>text</th>\n",
              "      <th>summary</th>\n",
              "      <th>score_1</th>\n",
              "      <th>score_2</th>\n",
              "      <th>score_3</th>\n",
              "      <th>score_4</th>\n",
              "      <th>score_5</th>\n",
              "      <th>sentiment_0</th>\n",
              "      <th>sentiment_1</th>\n",
              "    </tr>\n",
              "  </thead>\n",
              "  <tbody>\n",
              "    <tr>\n",
              "      <th>0</th>\n",
              "      <td>bought several vitality canned dog food products found good quality product looks like stew processed meat smells better labrador finicky appreciates product better</td>\n",
              "      <td>good quality dog food</td>\n",
              "      <td>0</td>\n",
              "      <td>0</td>\n",
              "      <td>0</td>\n",
              "      <td>0</td>\n",
              "      <td>1</td>\n",
              "      <td>0</td>\n",
              "      <td>1</td>\n",
              "    </tr>\n",
              "    <tr>\n",
              "      <th>1</th>\n",
              "      <td>product arrived labeled jumbo salted peanuts peanuts actually small sized unsalted sure error vendor intended represent product jumbo</td>\n",
              "      <td>not as advertised</td>\n",
              "      <td>1</td>\n",
              "      <td>0</td>\n",
              "      <td>0</td>\n",
              "      <td>0</td>\n",
              "      <td>0</td>\n",
              "      <td>1</td>\n",
              "      <td>0</td>\n",
              "    </tr>\n",
              "    <tr>\n",
              "      <th>2</th>\n",
              "      <td>looking secret ingredient robitussin believe found got addition root beer extract ordered made cherry soda flavor medicinal</td>\n",
              "      <td>cough medicine</td>\n",
              "      <td>0</td>\n",
              "      <td>1</td>\n",
              "      <td>0</td>\n",
              "      <td>0</td>\n",
              "      <td>0</td>\n",
              "      <td>1</td>\n",
              "      <td>0</td>\n",
              "    </tr>\n",
              "    <tr>\n",
              "      <th>3</th>\n",
              "      <td>great taffy great price wide assortment yummy taffy delivery quick taffy lover deal</td>\n",
              "      <td>great taffy</td>\n",
              "      <td>0</td>\n",
              "      <td>0</td>\n",
              "      <td>0</td>\n",
              "      <td>0</td>\n",
              "      <td>1</td>\n",
              "      <td>0</td>\n",
              "      <td>1</td>\n",
              "    </tr>\n",
              "    <tr>\n",
              "      <th>4</th>\n",
              "      <td>saltwater taffy great flavors soft chewy candy individually wrapped well none candies stuck together happen expensive version fralinger would highly recommend candy served beach themed party every...</td>\n",
              "      <td>great just as good as the expensive brands</td>\n",
              "      <td>0</td>\n",
              "      <td>0</td>\n",
              "      <td>0</td>\n",
              "      <td>0</td>\n",
              "      <td>1</td>\n",
              "      <td>0</td>\n",
              "      <td>1</td>\n",
              "    </tr>\n",
              "  </tbody>\n",
              "</table>\n",
              "</div>"
            ],
            "text/plain": [
              "                                                                                                                                                                                                      text  ... sentiment_1\n",
              "0                                     bought several vitality canned dog food products found good quality product looks like stew processed meat smells better labrador finicky appreciates product better  ...           1\n",
              "1                                                                    product arrived labeled jumbo salted peanuts peanuts actually small sized unsalted sure error vendor intended represent product jumbo  ...           0\n",
              "2                                                                              looking secret ingredient robitussin believe found got addition root beer extract ordered made cherry soda flavor medicinal  ...           0\n",
              "3                                                                                                                      great taffy great price wide assortment yummy taffy delivery quick taffy lover deal  ...           1\n",
              "4  saltwater taffy great flavors soft chewy candy individually wrapped well none candies stuck together happen expensive version fralinger would highly recommend candy served beach themed party every...  ...           1\n",
              "\n",
              "[5 rows x 9 columns]"
            ]
          },
          "metadata": {
            "tags": []
          },
          "execution_count": 174
        }
      ]
    },
    {
      "cell_type": "markdown",
      "metadata": {
        "id": "tR1uh8xSNUma"
      },
      "source": [
        "Remember to add the **START** and **END** special tokens at the beginning and end of the summary. Here, I have chosen **sostok** and **eostok** as START and END tokens\n",
        "\n",
        "**Note:** Be sure that the chosen special tokens never appear in the summary"
      ]
    },
    {
      "cell_type": "code",
      "metadata": {
        "id": "EwLUH78CFxhg"
      },
      "source": [
        "df['summary'] = df_start['summary'].apply(lambda x : 'sostok '+ x + ' eostok')"
      ],
      "execution_count": 175,
      "outputs": []
    },
    {
      "cell_type": "code",
      "metadata": {
        "colab": {
          "base_uri": "https://localhost:8080/",
          "height": 272
        },
        "id": "hvth3YtRscYA",
        "outputId": "c2e9f9c1-2c28-47c1-8274-21c82d1e2275"
      },
      "source": [
        "df.head()"
      ],
      "execution_count": 176,
      "outputs": [
        {
          "output_type": "execute_result",
          "data": {
            "text/html": [
              "<div>\n",
              "<style scoped>\n",
              "    .dataframe tbody tr th:only-of-type {\n",
              "        vertical-align: middle;\n",
              "    }\n",
              "\n",
              "    .dataframe tbody tr th {\n",
              "        vertical-align: top;\n",
              "    }\n",
              "\n",
              "    .dataframe thead th {\n",
              "        text-align: right;\n",
              "    }\n",
              "</style>\n",
              "<table border=\"1\" class=\"dataframe\">\n",
              "  <thead>\n",
              "    <tr style=\"text-align: right;\">\n",
              "      <th></th>\n",
              "      <th>text</th>\n",
              "      <th>summary</th>\n",
              "      <th>score_1</th>\n",
              "      <th>score_2</th>\n",
              "      <th>score_3</th>\n",
              "      <th>score_4</th>\n",
              "      <th>score_5</th>\n",
              "      <th>sentiment_0</th>\n",
              "      <th>sentiment_1</th>\n",
              "    </tr>\n",
              "  </thead>\n",
              "  <tbody>\n",
              "    <tr>\n",
              "      <th>0</th>\n",
              "      <td>bought several vitality canned dog food products found good quality product looks like stew processed meat smells better labrador finicky appreciates product better</td>\n",
              "      <td>sostok good quality dog food eostok</td>\n",
              "      <td>0</td>\n",
              "      <td>0</td>\n",
              "      <td>0</td>\n",
              "      <td>0</td>\n",
              "      <td>1</td>\n",
              "      <td>0</td>\n",
              "      <td>1</td>\n",
              "    </tr>\n",
              "    <tr>\n",
              "      <th>1</th>\n",
              "      <td>product arrived labeled jumbo salted peanuts peanuts actually small sized unsalted sure error vendor intended represent product jumbo</td>\n",
              "      <td>sostok not as advertised eostok</td>\n",
              "      <td>1</td>\n",
              "      <td>0</td>\n",
              "      <td>0</td>\n",
              "      <td>0</td>\n",
              "      <td>0</td>\n",
              "      <td>1</td>\n",
              "      <td>0</td>\n",
              "    </tr>\n",
              "    <tr>\n",
              "      <th>2</th>\n",
              "      <td>looking secret ingredient robitussin believe found got addition root beer extract ordered made cherry soda flavor medicinal</td>\n",
              "      <td>sostok cough medicine eostok</td>\n",
              "      <td>0</td>\n",
              "      <td>1</td>\n",
              "      <td>0</td>\n",
              "      <td>0</td>\n",
              "      <td>0</td>\n",
              "      <td>1</td>\n",
              "      <td>0</td>\n",
              "    </tr>\n",
              "    <tr>\n",
              "      <th>3</th>\n",
              "      <td>great taffy great price wide assortment yummy taffy delivery quick taffy lover deal</td>\n",
              "      <td>sostok great taffy eostok</td>\n",
              "      <td>0</td>\n",
              "      <td>0</td>\n",
              "      <td>0</td>\n",
              "      <td>0</td>\n",
              "      <td>1</td>\n",
              "      <td>0</td>\n",
              "      <td>1</td>\n",
              "    </tr>\n",
              "    <tr>\n",
              "      <th>4</th>\n",
              "      <td>saltwater taffy great flavors soft chewy candy individually wrapped well none candies stuck together happen expensive version fralinger would highly recommend candy served beach themed party every...</td>\n",
              "      <td>sostok great just as good as the expensive brands eostok</td>\n",
              "      <td>0</td>\n",
              "      <td>0</td>\n",
              "      <td>0</td>\n",
              "      <td>0</td>\n",
              "      <td>1</td>\n",
              "      <td>0</td>\n",
              "      <td>1</td>\n",
              "    </tr>\n",
              "  </tbody>\n",
              "</table>\n",
              "</div>"
            ],
            "text/plain": [
              "                                                                                                                                                                                                      text  ... sentiment_1\n",
              "0                                     bought several vitality canned dog food products found good quality product looks like stew processed meat smells better labrador finicky appreciates product better  ...           1\n",
              "1                                                                    product arrived labeled jumbo salted peanuts peanuts actually small sized unsalted sure error vendor intended represent product jumbo  ...           0\n",
              "2                                                                              looking secret ingredient robitussin believe found got addition root beer extract ordered made cherry soda flavor medicinal  ...           0\n",
              "3                                                                                                                      great taffy great price wide assortment yummy taffy delivery quick taffy lover deal  ...           1\n",
              "4  saltwater taffy great flavors soft chewy candy individually wrapped well none candies stuck together happen expensive version fralinger would highly recommend candy served beach themed party every...  ...           1\n",
              "\n",
              "[5 rows x 9 columns]"
            ]
          },
          "metadata": {
            "tags": []
          },
          "execution_count": 176
        }
      ]
    },
    {
      "cell_type": "markdown",
      "metadata": {
        "id": "1GlcX4RFOh13"
      },
      "source": [
        "We are getting closer to the model building part. Before that, we need to split our dataset into a training and validation set. We’ll use 90% of the dataset as the training data and evaluate the performance on the remaining 10% (holdout set):"
      ]
    },
    {
      "cell_type": "code",
      "metadata": {
        "id": "RakakKHcFxhl"
      },
      "source": [
        "x_tr, x_test, y_tr, y_test =train_test_split(np.array(df['text']),np.array(df['summary']),test_size=.2,random_state=0,shuffle=True) \n",
        "x_tr, x_val, y_tr, y_val =train_test_split(x_tr,y_tr,test_size=.2,random_state=0,shuffle=True) "
      ],
      "execution_count": 177,
      "outputs": []
    },
    {
      "cell_type": "markdown",
      "metadata": {
        "id": "Vq1mqyOHOtIl"
      },
      "source": [
        "# Preparing the Tokenizer\n",
        "\n",
        "A tokenizer builds the vocabulary and converts a word sequence to an integer sequence. Go ahead and build tokenizers for text and summary:\n",
        "\n",
        "## Text Tokenizer"
      ]
    },
    {
      "cell_type": "code",
      "metadata": {
        "id": "oRHTgX6hFxhq"
      },
      "source": [
        "#prepare a tokenizer for reviews on training data\n",
        "x_tokenizer = Tokenizer() \n",
        "x_tokenizer.fit_on_texts(list(x_tr))"
      ],
      "execution_count": 178,
      "outputs": []
    },
    {
      "cell_type": "markdown",
      "metadata": {
        "id": "RzvLwYL_PDcx"
      },
      "source": [
        "### Rarewords and its Coverage\n",
        "\n",
        "Let us look at the proportion rare words and its total coverage in the entire text\n",
        "\n",
        "Here, I am defining the threshold to be 4 which means word whose count is below 4 is considered as a rare word"
      ]
    },
    {
      "cell_type": "code",
      "metadata": {
        "colab": {
          "base_uri": "https://localhost:8080/"
        },
        "id": "y8KronV2Fxhx",
        "outputId": "a79c1d3f-3dea-4b51-f2b2-cfcf2f7cd705"
      },
      "source": [
        "thresh=4\n",
        "\n",
        "cnt=0\n",
        "tot_cnt=0\n",
        "freq=0\n",
        "tot_freq=0\n",
        "\n",
        "for key,value in x_tokenizer.word_counts.items():\n",
        "    tot_cnt=tot_cnt+1\n",
        "    tot_freq=tot_freq+value\n",
        "    if(value<thresh):\n",
        "        cnt=cnt+1\n",
        "        freq=freq+value\n",
        "    \n",
        "print(\"% of rare words in vocabulary:\",(cnt/tot_cnt)*100)\n",
        "print(\"Total Coverage of rare words:\",(freq/tot_freq)*100)"
      ],
      "execution_count": 179,
      "outputs": [
        {
          "output_type": "stream",
          "text": [
            "% of rare words in vocabulary: 66.24258248279136\n",
            "Total Coverage of rare words: 3.5447832609381185\n"
          ],
          "name": "stdout"
        }
      ]
    },
    {
      "cell_type": "markdown",
      "metadata": {
        "id": "So-J-5kzQIeO"
      },
      "source": [
        "**Remember**:\n",
        "\n",
        "\n",
        "* **tot_cnt** gives the size of vocabulary (which means every unique words in the text)\n",
        " \n",
        "*   **cnt** gives me the no. of rare words whose count falls below threshold\n",
        "\n",
        "*  **tot_cnt - cnt** gives me the top most common words \n",
        "\n",
        "Let us define the tokenizer with top most common words for reviews."
      ]
    },
    {
      "cell_type": "code",
      "metadata": {
        "id": "J2giEsF3Fxh3"
      },
      "source": [
        "#prepare a tokenizer for reviews on training data\n",
        "x_tokenizer = Tokenizer(num_words=tot_cnt-cnt) \n",
        "x_tokenizer.fit_on_texts(list(x_tr))\n",
        "\n",
        "#convert text sequences into integer sequences\n",
        "x_tr_seq = x_tokenizer.texts_to_sequences(x_tr) \n",
        "x_val_seq = x_tokenizer.texts_to_sequences(x_val)\n",
        "x_test_seq = x_tokenizer.texts_to_sequences(x_test)\n",
        "\n",
        "#padding zero upto maximum length\n",
        "x_tr = pad_sequences(x_tr_seq,  maxlen=max_text_len, padding='post')\n",
        "x_val = pad_sequences(x_val_seq, maxlen=max_text_len, padding='post')\n",
        "x_test = pad_sequences(x_test_seq, maxlen=max_text_len, padding='post')\n",
        "\n",
        "#size of vocabulary ( +1 for padding token)\n",
        "x_voc   =  x_tokenizer.num_words + 1"
      ],
      "execution_count": 180,
      "outputs": []
    },
    {
      "cell_type": "code",
      "metadata": {
        "colab": {
          "base_uri": "https://localhost:8080/"
        },
        "id": "DCbGMsm4FxiA",
        "outputId": "60791195-37dc-45c1-df4d-a8047dc3b230"
      },
      "source": [
        "x_voc"
      ],
      "execution_count": 181,
      "outputs": [
        {
          "output_type": "execute_result",
          "data": {
            "text/plain": [
              "7112"
            ]
          },
          "metadata": {
            "tags": []
          },
          "execution_count": 181
        }
      ]
    },
    {
      "cell_type": "markdown",
      "metadata": {
        "id": "uQfKP3sqRxi9"
      },
      "source": [
        "## Summary Tokenizer"
      ]
    },
    {
      "cell_type": "code",
      "metadata": {
        "id": "eRHqyBkBFxiJ"
      },
      "source": [
        "#prepare a tokenizer for reviews on training data\n",
        "y_tokenizer = Tokenizer()   \n",
        "y_tokenizer.fit_on_texts(list(y_tr))"
      ],
      "execution_count": 182,
      "outputs": []
    },
    {
      "cell_type": "markdown",
      "metadata": {
        "id": "KInA6O6ZSkJz"
      },
      "source": [
        "### Rarewords and its Coverage\n",
        "\n",
        "Let us look at the proportion rare words and its total coverage in the entire summary\n",
        "\n",
        "Here, I am defining the threshold to be 6 which means word whose count is below 6 is considered as a rare word"
      ]
    },
    {
      "cell_type": "code",
      "metadata": {
        "colab": {
          "base_uri": "https://localhost:8080/"
        },
        "id": "yzE5OiRLFxiM",
        "outputId": "fa28577a-9726-4ec3-975d-6c726079f06b"
      },
      "source": [
        "thresh=6\n",
        "\n",
        "cnt=0\n",
        "tot_cnt=0\n",
        "freq=0\n",
        "tot_freq=0\n",
        "\n",
        "for key,value in y_tokenizer.word_counts.items():\n",
        "    tot_cnt=tot_cnt+1\n",
        "    tot_freq=tot_freq+value\n",
        "    if(value<thresh):\n",
        "        cnt=cnt+1\n",
        "        freq=freq+value\n",
        "    \n",
        "print(\"% of rare words in vocabulary:\",(cnt/tot_cnt)*100)\n",
        "print(\"Total Coverage of rare words:\",(freq/tot_freq)*100)"
      ],
      "execution_count": 183,
      "outputs": [
        {
          "output_type": "stream",
          "text": [
            "% of rare words in vocabulary: 78.97415818324197\n",
            "Total Coverage of rare words: 6.4096809068895535\n"
          ],
          "name": "stdout"
        }
      ]
    },
    {
      "cell_type": "markdown",
      "metadata": {
        "id": "0PBhzKuRSw_9"
      },
      "source": [
        "Let us define the tokenizer with top most common words for summary."
      ]
    },
    {
      "cell_type": "code",
      "metadata": {
        "id": "-fswLvIgFxiR"
      },
      "source": [
        "#prepare a tokenizer for reviews on training data\n",
        "y_tokenizer = Tokenizer(num_words=tot_cnt-cnt) \n",
        "y_tokenizer.fit_on_texts(list(y_tr))\n",
        "\n",
        "#convert text sequences into integer sequences\n",
        "y_tr_seq = y_tokenizer.texts_to_sequences(y_tr) \n",
        "y_val_seq = y_tokenizer.texts_to_sequences(y_val) \n",
        "y_test_seq = y_tokenizer.texts_to_sequences(y_test) \n",
        "\n",
        "#padding zero upto maximum length\n",
        "y_tr = pad_sequences(y_tr_seq, maxlen=max_summary_len, padding='post')\n",
        "y_val = pad_sequences(y_val_seq, maxlen=max_summary_len, padding='post')\n",
        "y_test = pad_sequences(y_test_seq, maxlen=max_summary_len, padding='post')\n",
        "\n",
        "#size of vocabulary\n",
        "y_voc = y_tokenizer.num_words +1 # +1 per il padding 0!"
      ],
      "execution_count": 184,
      "outputs": []
    },
    {
      "cell_type": "code",
      "metadata": {
        "colab": {
          "base_uri": "https://localhost:8080/"
        },
        "id": "JUpCNXrcwJHQ",
        "outputId": "86cd47fc-ae13-4490-ee3d-02cc1deda2db"
      },
      "source": [
        "y_voc"
      ],
      "execution_count": 185,
      "outputs": [
        {
          "output_type": "execute_result",
          "data": {
            "text/plain": [
              "1612"
            ]
          },
          "metadata": {
            "tags": []
          },
          "execution_count": 185
        }
      ]
    },
    {
      "cell_type": "markdown",
      "metadata": {
        "id": "qqwDUT5oTFmn"
      },
      "source": [
        "Let us check whether word count of start token is equal to length of the training data"
      ]
    },
    {
      "cell_type": "code",
      "metadata": {
        "colab": {
          "base_uri": "https://localhost:8080/"
        },
        "id": "pR8IX9FRFxiY",
        "outputId": "c8e4d6b7-e65b-460a-a2ad-1321ad2b4256"
      },
      "source": [
        "y_tokenizer.word_counts['sostok'],len(y_tr)   "
      ],
      "execution_count": 186,
      "outputs": [
        {
          "output_type": "execute_result",
          "data": {
            "text/plain": [
              "(30188, 30188)"
            ]
          },
          "metadata": {
            "tags": []
          },
          "execution_count": 186
        }
      ]
    },
    {
      "cell_type": "markdown",
      "metadata": {
        "id": "LVFhFVguTTtw"
      },
      "source": [
        "Here, I am deleting the rows that contain only **START** and **END** tokens"
      ]
    },
    {
      "cell_type": "code",
      "metadata": {
        "id": "kZ-vW82sFxih"
      },
      "source": [
        "ind=[]\n",
        "for i in range(len(y_tr)):\n",
        "    cnt=0\n",
        "    for j in y_tr[i]:\n",
        "        if j!=0:\n",
        "            cnt=cnt+1\n",
        "    if(cnt==2):\n",
        "        ind.append(i)\n",
        "\n",
        "y_tr=np.delete(y_tr,ind, axis=0)\n",
        "x_tr=np.delete(x_tr,ind, axis=0)"
      ],
      "execution_count": 187,
      "outputs": []
    },
    {
      "cell_type": "code",
      "metadata": {
        "id": "cx5NISuMFxik"
      },
      "source": [
        "ind=[]\n",
        "for i in range(len(y_val)):\n",
        "    cnt=0\n",
        "    for j in y_val[i]:\n",
        "        if j!=0:\n",
        "            cnt=cnt+1\n",
        "    if(cnt==2):\n",
        "        ind.append(i)\n",
        "\n",
        "y_val=np.delete(y_val,ind, axis=0)\n",
        "x_val=np.delete(x_val,ind, axis=0)"
      ],
      "execution_count": 188,
      "outputs": []
    },
    {
      "cell_type": "code",
      "metadata": {
        "id": "ZVo_DfwiscYE"
      },
      "source": [
        "ind=[]\n",
        "for i in range(len(y_test)):\n",
        "    cnt=0\n",
        "    for j in y_test[i]:\n",
        "        if j!=0:\n",
        "            cnt=cnt+1\n",
        "    if(cnt==2):\n",
        "        ind.append(i)\n",
        "\n",
        "y_test=np.delete(y_test,ind, axis=0)\n",
        "x_test=np.delete(x_test,ind, axis=0)"
      ],
      "execution_count": 189,
      "outputs": []
    },
    {
      "cell_type": "markdown",
      "metadata": {
        "id": "wOtlDcthFxip"
      },
      "source": [
        "# Model building\n",
        "\n",
        "Here we have all the functions used to create and use the models."
      ]
    },
    {
      "cell_type": "markdown",
      "metadata": {
        "id": "v91m3mAqZj60"
      },
      "source": [
        "## Help functions\n",
        "\n",
        "This cells hold all the utilities we'll need to work on a general model.\n",
        "\n",
        "This first cell defines the functions we will use to save the model after training and load it to avoid annecessary training. "
      ]
    },
    {
      "cell_type": "code",
      "metadata": {
        "id": "B70omdVWZtg4"
      },
      "source": [
        "import os\n",
        "\n",
        "def save_model(model):\n",
        "  path = pj_path + \"/saved_models/\" + model.name + \"/ckpt\"\n",
        "  \n",
        "  if not os.path.exists(os.path.dirname(path)):\n",
        "    try:\n",
        "      Path(path).mkdir(parents=True, exist_ok=True)\n",
        "      print(\"Successfully created the directory %s \" % path)\n",
        "    except:\n",
        "      print(\"Creation of the directory %s failed\" % path)      \n",
        "  model.save_weights(path)\n",
        "  print(\"Model saved succesfully!\") \n",
        "\n",
        "def load_model(model):\n",
        "  path = pj_path + \"/saved_models/\" + model.name + \"/ckpt\"\n",
        "\n",
        "  if os.path.exists(os.path.dirname(path)): \n",
        "    model.load_weights(path)\n",
        "    print(\"Model loaded\")\n",
        "  else:\n",
        "    raise IOError(\"Path not found\")"
      ],
      "execution_count": 190,
      "outputs": []
    },
    {
      "cell_type": "markdown",
      "metadata": {
        "id": "hHne03YRafvX"
      },
      "source": [
        "This function will be useful after trainings. It let us plot the trainig's history (the evolution of the Accuracy and the Loss during training) given as the input."
      ]
    },
    {
      "cell_type": "code",
      "metadata": {
        "id": "5PzrDnLFavR4"
      },
      "source": [
        "def plot_history(history, model):\n",
        "  print(history.history.keys())\n",
        "\n",
        "  savefig_url = f\"{pj_path}/graphs/{model.name}/\"\n",
        "  if not os.path.exists(os.path.dirname(savefig_url)):\n",
        "    try:\n",
        "      Path(savefig_url).mkdir(parents=True, exist_ok=True)\n",
        "      print(f\"Folder {savefig_url} created\")\n",
        "    except:\n",
        "      raise OSError(f\"Creation of the directory {savefig_url} failed\")\n",
        "\n",
        "  # Accuracy\n",
        "  plt.plot(history.history['accuracy'])\n",
        "  plt.plot(history.history['val_accuracy'])\n",
        "  plt.title('model accuracy')\n",
        "  plt.ylabel('accuracy')\n",
        "  plt.xlabel('epoch')\n",
        "  plt.legend(['train', 'test'], loc='upper left')\n",
        "  fig1 = plt.gcf()\n",
        "  plt.show()\n",
        "  fig1.savefig(savefig_url+\"Accuracy.png\", dpi=600)\n",
        "  print(f\"Accuracy graph saved in {savefig_url}\")\n",
        "\n",
        "  # Loss\n",
        "  plt.plot(history.history['loss'])\n",
        "  plt.plot(history.history['val_loss'])\n",
        "  plt.title('model loss')\n",
        "  plt.ylabel('loss')\n",
        "  plt.xlabel('epoch')\n",
        "  plt.legend(['train', 'test'], loc='upper left')\n",
        "  fig2 = plt.gcf()\n",
        "  plt.show()\n",
        "  fig2.savefig(savefig_url+\"Loss.png\", dpi=600)\n",
        "  print(f\"Loss graph saved in {savefig_url}\")"
      ],
      "execution_count": 191,
      "outputs": []
    },
    {
      "cell_type": "markdown",
      "metadata": {
        "id": "tqE03ArB6YBf"
      },
      "source": [
        ""
      ]
    },
    {
      "cell_type": "code",
      "metadata": {
        "id": "0JXPQZ016XnZ"
      },
      "source": [
        "def bleu_score(labels, predictions):\n",
        "    b_score = 0\n",
        "    for l, p in zip(labels, predictions):\n",
        "        b_score += float(modified_precision([l.split()], p.split(), n=1))\n",
        "    b_score=b_score/len(labels)\n",
        "    return b_score\n",
        "\n",
        "def rouge_score_avg(labels, predictions):\n",
        "    for aggregator in ['Avg', 'Best']:\n",
        "        apply_avg = aggregator == 'Avg'\n",
        "        apply_best = aggregator == 'Best'\n",
        "\n",
        "\n",
        "        evaluator = rouge.Rouge(metrics=['rouge-n', 'rouge-l', 'rouge-w'], \n",
        "                           max_n=4,\n",
        "                           limit_length=True,\n",
        "                           length_limit=100,\n",
        "                           length_limit_type='words',\n",
        "                           apply_avg=apply_avg,\n",
        "                           apply_best=apply_best,\n",
        "                           alpha=0.5, # Default F1_score\n",
        "                           weight_factor=1.2,\n",
        "                           stemming=True)\n",
        "        \n",
        "        all_hypothesis = []\n",
        "        all_references = []\n",
        "        for l,p in zip(labels, predictions):\n",
        "            all_hypothesis.append(l)\n",
        "            all_references.append(p)\n",
        "        scores = evaluator.get_scores(all_hypothesis, all_references)\n",
        "        for metric, results in sorted(scores.items(), key=lambda x: x[0]):\n",
        "            if apply_avg and metric == 'rouge-1':\n",
        "                return results['f']  #'f' effettua una media tra recall 'r' e precision 'p'\n",
        "\n",
        "def get_bleu_rouge_score(labels, predictions):\n",
        "    bleau_s = bleu_score(labels, predictions)\n",
        "    rouge_s = rouge_score_avg(labels, predictions)\n",
        "    return bleau_s, rouge_s"
      ],
      "execution_count": 269,
      "outputs": []
    },
    {
      "cell_type": "markdown",
      "metadata": {
        "id": "G6DpGi97fYXn"
      },
      "source": [
        "## Hyperparameters"
      ]
    },
    {
      "cell_type": "code",
      "metadata": {
        "id": "KqyATXg2faha"
      },
      "source": [
        "date_now = datetime.datetime.now().strftime(\"%Y%m%d-%H%M%S\")\n",
        "\n",
        "EPOCHS = 50\n",
        "BATCH_SIZE = 128\n",
        "\n",
        "latent_dim    = 300\n",
        "embedding_dim = 100\n",
        "\n",
        "drop = .4\n",
        "recurrent_drop = .4\n",
        "\n",
        "is_model_lstm_trained = True\n",
        "is_model_gru_trained  = True\n",
        "is_model_bi_trained   = True"
      ],
      "execution_count": 193,
      "outputs": []
    },
    {
      "cell_type": "markdown",
      "metadata": {
        "id": "v47mWVoQPs6F"
      },
      "source": [
        "## Attention Layer"
      ]
    },
    {
      "cell_type": "code",
      "metadata": {
        "id": "MvIS3ZAkCWfe"
      },
      "source": [
        "import tensorflow as tf\n",
        "import os\n",
        "from tensorflow.python.keras.layers import Layer\n",
        "from tensorflow.python.keras import backend as K\n",
        "\n",
        "\n",
        "class AttentionLayer(Layer):\n",
        "    \"\"\"\n",
        "    This class implements Bahdanau attention (https://arxiv.org/pdf/1409.0473.pdf).\n",
        "    There are three sets of weights introduced W_a, U_a, and V_a\n",
        "     \"\"\"\n",
        "\n",
        "    def __init__(self, **kwargs):\n",
        "        super(AttentionLayer, self).__init__(**kwargs)\n",
        "\n",
        "    def build(self, input_shape):\n",
        "        assert isinstance(input_shape, list)\n",
        "        # Create a trainable weight variable for this layer.\n",
        "\n",
        "        self.W_a = self.add_weight(name='W_a',\n",
        "                                   shape=tf.TensorShape((input_shape[0][2], input_shape[0][2])),\n",
        "                                   initializer='uniform',\n",
        "                                   trainable=True)\n",
        "        self.U_a = self.add_weight(name='U_a',\n",
        "                                   shape=tf.TensorShape((input_shape[1][2], input_shape[0][2])),\n",
        "                                   initializer='uniform',\n",
        "                                   trainable=True)\n",
        "        self.V_a = self.add_weight(name='V_a',\n",
        "                                   shape=tf.TensorShape((input_shape[0][2], 1)),\n",
        "                                   initializer='uniform',\n",
        "                                   trainable=True)\n",
        "\n",
        "        super(AttentionLayer, self).build(input_shape)  # Be sure to call this at the end\n",
        "\n",
        "    def call(self, inputs, verbose=False):\n",
        "        \"\"\"\n",
        "        inputs: [encoder_output_sequence, decoder_output_sequence]\n",
        "        \"\"\"\n",
        "        assert type(inputs) == list\n",
        "        encoder_out_seq, decoder_out_seq = inputs\n",
        "        if verbose:\n",
        "            print('encoder_out_seq>', encoder_out_seq.shape)\n",
        "            print('decoder_out_seq>', decoder_out_seq.shape)\n",
        "\n",
        "        def energy_step(inputs, states):\n",
        "            \"\"\" Step function for computing energy for a single decoder state\n",
        "            inputs: (batchsize * 1 * de_in_dim)\n",
        "            states: (batchsize * 1 * de_latent_dim)\n",
        "            \"\"\"\n",
        "\n",
        "            assert_msg = \"States must be an iterable. Got {} of type {}\".format(states, type(states))\n",
        "            assert isinstance(states, list) or isinstance(states, tuple), assert_msg\n",
        "\n",
        "            \"\"\" Some parameters required for shaping tensors\"\"\"\n",
        "            en_seq_len, en_hidden = encoder_out_seq.shape[1], encoder_out_seq.shape[2]\n",
        "            de_hidden = inputs.shape[-1]\n",
        "\n",
        "            \"\"\" Computing S.Wa where S=[s0, s1, ..., si]\"\"\"\n",
        "            # <= batch size * en_seq_len * latent_dim\n",
        "            W_a_dot_s = K.dot(encoder_out_seq, self.W_a)\n",
        "\n",
        "            \"\"\" Computing hj.Ua \"\"\"\n",
        "            U_a_dot_h = K.expand_dims(K.dot(inputs, self.U_a), 1)  # <= batch_size, 1, latent_dim\n",
        "            if verbose:\n",
        "                print('Ua.h>', U_a_dot_h.shape)\n",
        "\n",
        "            \"\"\" tanh(S.Wa + hj.Ua) \"\"\"\n",
        "            # <= batch_size*en_seq_len, latent_dim\n",
        "            Ws_plus_Uh = K.tanh(W_a_dot_s + U_a_dot_h)\n",
        "            if verbose:\n",
        "                print('Ws+Uh>', Ws_plus_Uh.shape)\n",
        "\n",
        "            \"\"\" softmax(va.tanh(S.Wa + hj.Ua)) \"\"\"\n",
        "            # <= batch_size, en_seq_len\n",
        "            e_i = K.squeeze(K.dot(Ws_plus_Uh, self.V_a), axis=-1)\n",
        "            # <= batch_size, en_seq_len\n",
        "            e_i = K.softmax(e_i)\n",
        "\n",
        "            if verbose:\n",
        "                print('ei>', e_i.shape)\n",
        "\n",
        "            return e_i, [e_i]\n",
        "\n",
        "        def context_step(inputs, states):\n",
        "            \"\"\" Step function for computing ci using ei \"\"\"\n",
        "\n",
        "            assert_msg = \"States must be an iterable. Got {} of type {}\".format(states, type(states))\n",
        "            assert isinstance(states, list) or isinstance(states, tuple), assert_msg\n",
        "\n",
        "            # <= batch_size, hidden_size\n",
        "            c_i = K.sum(encoder_out_seq * K.expand_dims(inputs, -1), axis=1)\n",
        "            if verbose:\n",
        "                print('ci>', c_i.shape)\n",
        "            return c_i, [c_i]\n",
        "\n",
        "        fake_state_c = K.sum(encoder_out_seq, axis=1)\n",
        "        fake_state_e = K.sum(encoder_out_seq, axis=2)  # <= (batch_size, enc_seq_len, latent_dim\n",
        "\n",
        "        \"\"\" Computing energy outputs \"\"\"\n",
        "        # e_outputs => (batch_size, de_seq_len, en_seq_len)\n",
        "        last_out, e_outputs, _ = K.rnn(\n",
        "            energy_step, decoder_out_seq, [fake_state_e],\n",
        "        )\n",
        "\n",
        "        \"\"\" Computing context vectors \"\"\"\n",
        "        last_out, c_outputs, _ = K.rnn(\n",
        "            context_step, e_outputs, [fake_state_c],\n",
        "        )\n",
        "\n",
        "        return c_outputs, e_outputs\n",
        "\n",
        "    def compute_output_shape(self, input_shape):\n",
        "        \"\"\" Outputs produced by the layer \"\"\"\n",
        "        return [\n",
        "            tf.TensorShape((input_shape[1][0], input_shape[1][1], input_shape[1][2])),\n",
        "            tf.TensorShape((input_shape[1][0], input_shape[1][1], input_shape[0][1]))\n",
        "        ]\n"
      ],
      "execution_count": 194,
      "outputs": []
    },
    {
      "cell_type": "markdown",
      "metadata": {
        "id": "6fviHUww2Wft"
      },
      "source": [
        "## LSTM Model\n"
      ]
    },
    {
      "cell_type": "markdown",
      "metadata": {
        "id": "ubYPF78sPz-w"
      },
      "source": [
        "### Defining the training model\n",
        "\n",
        "Here we're defining the LSTM model we'll use to train all the needed layers. After the training we'll separate them to get a proper encoder and a proper decoder we'll able to use to make new summmaries."
      ]
    },
    {
      "cell_type": "code",
      "metadata": {
        "id": "zXef38nBFxir"
      },
      "source": [
        "from tensorflow.keras import backend as K \n",
        "\n",
        "def get_model_lstm():\n",
        "  K.clear_session()\n",
        "\n",
        "  # Encoder\n",
        "  encoder_inputs = Input(shape=(max_text_len,))\n",
        "\n",
        "  #embedding layer\n",
        "  enc_emb =  Embedding(x_voc, embedding_dim,trainable=True)(encoder_inputs)\n",
        "\n",
        "  #encoder lstm 1\n",
        "  encoder_lstm1 = LSTM(latent_dim,return_sequences=True,return_state=True,\n",
        "                       dropout=drop, recurrent_dropout=recurrent_drop)\n",
        "\n",
        "  encoder_output1, state_h1, state_c1 = encoder_lstm1(enc_emb)\n",
        "\n",
        "  #encoder lstm 2\n",
        "  encoder_lstm2 = LSTM(latent_dim,return_sequences=True,return_state=True,\n",
        "                       dropout=drop, recurrent_dropout=recurrent_drop)\n",
        "\n",
        "  encoder_output2, state_h2, state_c2 = encoder_lstm2(encoder_output1)\n",
        "\n",
        "  #encoder lstm 3\n",
        "  encoder_lstm3 = LSTM(latent_dim, return_state=True, return_sequences=True,\n",
        "                       dropout=drop, recurrent_dropout=recurrent_drop)\n",
        "\n",
        "  encoder_outputs, state_h, state_c= encoder_lstm3(encoder_output2)\n",
        "\n",
        "  # Set up the decoder, using `encoder_states` as initial state.\n",
        "  decoder_inputs = Input(shape=(None,))\n",
        "\n",
        "  #embedding layer\n",
        "  dec_emb_layer = Embedding(y_voc, embedding_dim,trainable=True)\n",
        "  dec_emb = dec_emb_layer(decoder_inputs)\n",
        "\n",
        "  decoder_lstm = LSTM(latent_dim, return_sequences=True, return_state=True,\n",
        "                      dropout=drop, recurrent_dropout=recurrent_drop)\n",
        "  decoder_outputs,decoder_fwd_state, decoder_back_state = decoder_lstm(dec_emb, initial_state=[state_h, state_c])\n",
        "\n",
        "  # Attention layer\n",
        "  attn_layer = AttentionLayer(name='attention_layer')\n",
        "  attn_out, attn_states = attn_layer([encoder_outputs, decoder_outputs])\n",
        "\n",
        "  # Concat attention input and decoder LSTM output\n",
        "  decoder_concat_input = Concatenate(axis=-1, name='concat_layer')([decoder_outputs, attn_out])\n",
        "\n",
        "  #dense layer\n",
        "  decoder_dense =  TimeDistributed(Dense(y_voc, activation='softmax'))\n",
        "  decoder_outputs = decoder_dense(decoder_concat_input)\n",
        "\n",
        "  # Define the model \n",
        "  model_lstm = Model([encoder_inputs, decoder_inputs], decoder_outputs, \n",
        "                     name = \"model_lstm\")\n",
        "\n",
        "  model_lstm.summary() \n",
        "\n",
        "  # Compile the model using Adam as the optimizer and \n",
        "  # sparse categorical crossentropy as the loss function\n",
        "  model_lstm.compile(optimizer='adam', \n",
        "                     loss='sparse_categorical_crossentropy', \n",
        "                     metrics=['accuracy'])\n",
        "\n",
        "  # Let's stop the training as soon as it hits a minimum\n",
        "  es = EarlyStopping(monitor='val_loss', mode='min', verbose=1, patience=2)\n",
        "\n",
        "  # Tensorboard will let us see the logs \n",
        "  log_dir = pj_path + \"/tensorboard/\"+ model_lstm.name +\"/\" + date_now\n",
        "  tb = TensorBoard(log_dir=log_dir, histogram_freq=1)\n",
        "\n",
        "  # We’ll train the model on a batch size of 128 and validate it on the \n",
        "  # holdout set (which is 10% of our dataset):\n",
        "  if not is_model_lstm_trained:\n",
        "      history=model_lstm.fit([x_tr,y_tr[:,:-1]], \n",
        "                             y_tr.reshape(y_tr.shape[0],y_tr.shape[1], 1)[:,1:],\n",
        "                             epochs=EPOCHS,\n",
        "                             callbacks=[es,tb],\n",
        "                             batch_size=BATCH_SIZE, \n",
        "                             validation_data=([x_val,y_val[:,:-1]], \n",
        "                                              y_val.reshape(y_val.shape[0],\n",
        "                                                            y_val.shape[1], \n",
        "                                                            1)[:,1:]))\n",
        "      plot_history(history, model_lstm)\n",
        "      save_model(model_lstm)  \n",
        "  else:\n",
        "      load_model(model_lstm)\n",
        "\n",
        "  # Encode the input sequence to get the feature vector\n",
        "  encoder_model = Model(inputs=encoder_inputs,outputs=[encoder_outputs, state_h, state_c])\n",
        "\n",
        "  # Decoder setup\n",
        "  # Below tensors will hold the states of the previous time step\n",
        "  decoder_state_input_h = Input(shape=(latent_dim,))\n",
        "  decoder_state_input_c = Input(shape=(latent_dim,))\n",
        "  decoder_hidden_state_input = Input(shape=(max_text_len,latent_dim))\n",
        "\n",
        "  # Get the embeddings of the decoder sequence\n",
        "  dec_emb2= dec_emb_layer(decoder_inputs) \n",
        "  # To predict the next word in the sequence, set the initial states to the states from the previous time step\n",
        "  decoder_outputs2, state_h2, state_c2 = decoder_lstm(dec_emb2, initial_state=[decoder_state_input_h, decoder_state_input_c])\n",
        "\n",
        "  #attention inference\n",
        "  attn_out_inf, attn_states_inf = attn_layer([decoder_hidden_state_input, decoder_outputs2])\n",
        "  decoder_inf_concat = Concatenate(axis=-1, name='concat')([decoder_outputs2, attn_out_inf])\n",
        "\n",
        "  # A dense softmax layer to generate prob dist. over the target vocabulary\n",
        "  decoder_outputs2 = decoder_dense(decoder_inf_concat) \n",
        "\n",
        "  # Final decoder model\n",
        "  decoder_model = Model(\n",
        "      [decoder_inputs] + [decoder_hidden_state_input,decoder_state_input_h, decoder_state_input_c],\n",
        "      [decoder_outputs2] + [state_h2, state_c2])\n",
        "  \n",
        "  return (encoder_model, decoder_model)"
      ],
      "execution_count": 195,
      "outputs": []
    },
    {
      "cell_type": "markdown",
      "metadata": {
        "id": "Va1TjE53aQFq"
      },
      "source": [
        "Let's create the model."
      ]
    },
    {
      "cell_type": "code",
      "metadata": {
        "colab": {
          "base_uri": "https://localhost:8080/"
        },
        "id": "JxeOf9LOaV3Q",
        "outputId": "eed32d40-de79-45fc-be79-9670bd8722d7"
      },
      "source": [
        "encoder_lstm, decoder_lstm = get_model_lstm()    "
      ],
      "execution_count": 196,
      "outputs": [
        {
          "output_type": "stream",
          "text": [
            "WARNING:tensorflow:Layer lstm will not use cuDNN kernel since it doesn't meet the cuDNN kernel criteria. It will use generic GPU kernel as fallback when running on GPU\n",
            "WARNING:tensorflow:Layer lstm_1 will not use cuDNN kernel since it doesn't meet the cuDNN kernel criteria. It will use generic GPU kernel as fallback when running on GPU\n",
            "WARNING:tensorflow:Layer lstm_2 will not use cuDNN kernel since it doesn't meet the cuDNN kernel criteria. It will use generic GPU kernel as fallback when running on GPU\n",
            "WARNING:tensorflow:Layer lstm_3 will not use cuDNN kernel since it doesn't meet the cuDNN kernel criteria. It will use generic GPU kernel as fallback when running on GPU\n",
            "Model: \"model_lstm\"\n",
            "__________________________________________________________________________________________________\n",
            "Layer (type)                    Output Shape         Param #     Connected to                     \n",
            "==================================================================================================\n",
            "input_1 (InputLayer)            [(None, 30)]         0                                            \n",
            "__________________________________________________________________________________________________\n",
            "embedding (Embedding)           (None, 30, 100)      711200      input_1[0][0]                    \n",
            "__________________________________________________________________________________________________\n",
            "lstm (LSTM)                     [(None, 30, 300), (N 481200      embedding[0][0]                  \n",
            "__________________________________________________________________________________________________\n",
            "input_2 (InputLayer)            [(None, None)]       0                                            \n",
            "__________________________________________________________________________________________________\n",
            "lstm_1 (LSTM)                   [(None, 30, 300), (N 721200      lstm[0][0]                       \n",
            "__________________________________________________________________________________________________\n",
            "embedding_1 (Embedding)         (None, None, 100)    161200      input_2[0][0]                    \n",
            "__________________________________________________________________________________________________\n",
            "lstm_2 (LSTM)                   [(None, 30, 300), (N 721200      lstm_1[0][0]                     \n",
            "__________________________________________________________________________________________________\n",
            "lstm_3 (LSTM)                   [(None, None, 300),  481200      embedding_1[0][0]                \n",
            "                                                                 lstm_2[0][1]                     \n",
            "                                                                 lstm_2[0][2]                     \n",
            "__________________________________________________________________________________________________\n",
            "attention_layer (AttentionLayer ((None, None, 300),  180300      lstm_2[0][0]                     \n",
            "                                                                 lstm_3[0][0]                     \n",
            "__________________________________________________________________________________________________\n",
            "concat_layer (Concatenate)      (None, None, 600)    0           lstm_3[0][0]                     \n",
            "                                                                 attention_layer[0][0]            \n",
            "__________________________________________________________________________________________________\n",
            "time_distributed (TimeDistribut (None, None, 1612)   968812      concat_layer[0][0]               \n",
            "==================================================================================================\n",
            "Total params: 4,426,312\n",
            "Trainable params: 4,426,312\n",
            "Non-trainable params: 0\n",
            "__________________________________________________________________________________________________\n",
            "Model loaded\n",
            "WARNING:tensorflow:Unresolved object in checkpoint: (root).optimizer.iter\n",
            "WARNING:tensorflow:Unresolved object in checkpoint: (root).optimizer.beta_1\n",
            "WARNING:tensorflow:Unresolved object in checkpoint: (root).optimizer.beta_2\n",
            "WARNING:tensorflow:Unresolved object in checkpoint: (root).optimizer.decay\n",
            "WARNING:tensorflow:Unresolved object in checkpoint: (root).optimizer.learning_rate\n",
            "WARNING:tensorflow:A checkpoint was restored (e.g. tf.train.Checkpoint.restore or tf.keras.Model.load_weights) but not all checkpointed values were used. See above for specific issues. Use expect_partial() on the load status object, e.g. tf.train.Checkpoint.restore(...).expect_partial(), to silence these warnings, or use assert_consumed() to make the check explicit. See https://www.tensorflow.org/guide/checkpoint#loading_mechanics for details.\n"
          ],
          "name": "stdout"
        }
      ]
    },
    {
      "cell_type": "markdown",
      "metadata": {
        "id": "KBJ8kU6W3T2J"
      },
      "source": [
        "## GRU Model\n",
        "\n"
      ]
    },
    {
      "cell_type": "markdown",
      "metadata": {
        "id": "uR9aacQVTarf"
      },
      "source": [
        "### Defining the training model\n",
        "\n",
        "Here we're defining the GRU model we'll use to train all the needed layers. After the training we'll separate them to get a proper encoder and a proper decoder we'll able to use to make new summmaries."
      ]
    },
    {
      "cell_type": "code",
      "metadata": {
        "id": "H8ZtJ9NT3rez"
      },
      "source": [
        "from tensorflow.keras import backend as K \n",
        "\n",
        "def get_model_gru():\n",
        "  K.clear_session()\n",
        "\n",
        "  # Encoder\n",
        "  encoder_inputs = Input(shape=(max_text_len,))\n",
        "\n",
        "  #embedding layer\n",
        "  enc_emb =  Embedding(x_voc, embedding_dim,trainable=True)(encoder_inputs)\n",
        "\n",
        "  #encoder GRU 1\n",
        "  encoder_gru1 = GRU(latent_dim,return_sequences=True,return_state=True,dropout=drop, recurrent_dropout=recurrent_drop)\n",
        "  encoder_output1, state_1 = encoder_gru1(enc_emb)\n",
        "\n",
        "  #encoder GRU 2\n",
        "  encoder_gru2 = GRU(latent_dim,return_sequences=True,return_state=True,dropout=drop, recurrent_dropout=recurrent_drop)\n",
        "  encoder_output2, state_2 = encoder_gru2(encoder_output1)\n",
        "\n",
        "  #encoder GRU 3\n",
        "  encoder_gru3 = GRU(latent_dim, return_state=True, return_sequences=True,dropout=drop, recurrent_dropout=recurrent_drop)\n",
        "  encoder_outputs, state = encoder_gru3(encoder_output2)\n",
        "\n",
        "  # Set up the decoder, using `encoder_states` as initial state.\n",
        "  decoder_inputs = Input(shape=(None,))\n",
        "\n",
        "  #embedding layer\n",
        "  dec_emb_layer = Embedding(y_voc, embedding_dim,trainable=True)\n",
        "  dec_emb = dec_emb_layer(decoder_inputs)\n",
        "\n",
        "  decoder_gru = GRU(latent_dim, return_sequences=True, return_state=True,dropout=drop, recurrent_dropout=recurrent_drop)\n",
        "  decoder_outputs, decoder_state = decoder_gru(dec_emb,initial_state=state)\n",
        "\n",
        "  # Attention layer\n",
        "  attn_layer = AttentionLayer(name='attention_layer')\n",
        "  attn_out, attn_states = attn_layer([encoder_outputs, decoder_outputs])\n",
        "\n",
        "  # Concat attention input and decoder GRU output\n",
        "  decoder_concat_input = Concatenate(axis=-1, name='concat_layer')([decoder_outputs, attn_out])\n",
        "\n",
        "  # dense layer\n",
        "  decoder_dense =  TimeDistributed(Dense(y_voc, activation='softmax'))\n",
        "  decoder_outputs = decoder_dense(decoder_concat_input)\n",
        "\n",
        "  # Define the model \n",
        "  model_gru = Model([encoder_inputs, decoder_inputs], decoder_outputs,\n",
        "                    name = \"model_gru\")\n",
        "\n",
        "  model_gru.summary() \n",
        "\n",
        "  # Compile the model using Adam as the optimizer and \n",
        "  # sparse categorical crossentropy as the loss function\n",
        "  model_gru.compile(optimizer='adam', \n",
        "                    loss='sparse_categorical_crossentropy',\n",
        "                    metrics=['accuracy'])\n",
        "\n",
        "\n",
        "  es = EarlyStopping(monitor='val_loss', mode='min', verbose=1,patience=2)\n",
        "\n",
        "  # Train the model if it's not already trained\n",
        "  log_dir = pj_path + \"/tensorboard/\"+ model_gru.name +\"/\" + date_now\n",
        "  tb = TensorBoard(log_dir=log_dir, histogram_freq=1)\n",
        "\n",
        "  if not is_model_gru_trained:\n",
        "      history = model_gru.fit([x_tr,y_tr[:,:-1]], \n",
        "                              y_tr.reshape(y_tr.shape[0],y_tr.shape[1], 1)[:,1:],\n",
        "                              epochs=EPOCHS,\n",
        "                              callbacks=[es,tb],\n",
        "                              batch_size=BATCH_SIZE, \n",
        "                              validation_data=([x_val,y_val[:,:-1]], \n",
        "                                              y_val.reshape(y_val.shape[0],\n",
        "                                                            y_val.shape[1], \n",
        "                                                            1)[:,1:]))\n",
        "      plot_history(history, model_gru)\n",
        "      save_model(model_gru)  \n",
        "  else:\n",
        "      load_model(model_gru)\n",
        "      \n",
        "  # Encode the input sequence to get the feature vector\n",
        "  encoder_model = Model(inputs=encoder_inputs,outputs=[encoder_outputs, state])\n",
        "\n",
        "  # Decoder setup\n",
        "  # Below tensors will hold the states of the previous time step\n",
        "  decoder_state_input = Input(shape=(latent_dim,))\n",
        "  decoder_hidden_state_input = Input(shape=(max_text_len,latent_dim))\n",
        "\n",
        "  # Get the embeddings of the decoder sequence\n",
        "  dec_emb2= dec_emb_layer(decoder_inputs) \n",
        "  # To predict the next word in the sequence, set the initial states to the states from the previous time step\n",
        "  decoder_outputs2, state_2 = decoder_gru(dec_emb2, initial_state=[decoder_state_input])\n",
        "\n",
        "  #attention inference\n",
        "  attn_out_inf, attn_states_inf = attn_layer([decoder_hidden_state_input, decoder_outputs2])\n",
        "  decoder_inf_concat = Concatenate(axis=-1, name='concat')([decoder_outputs2, attn_out_inf])\n",
        "\n",
        "  # A dense softmax layer to generate prob dist. over the target vocabulary\n",
        "  decoder_outputs2 = decoder_dense(decoder_inf_concat) \n",
        "\n",
        "  # Final decoder model\n",
        "  decoder_model = Model(\n",
        "      [decoder_inputs] + [decoder_hidden_state_input,decoder_state_input],\n",
        "      [decoder_outputs2] + [state_2])\n",
        "  \n",
        "  return (encoder_model, decoder_model)"
      ],
      "execution_count": 197,
      "outputs": []
    },
    {
      "cell_type": "markdown",
      "metadata": {
        "id": "AvPG9ildTEk7"
      },
      "source": [
        "Let's create the model."
      ]
    },
    {
      "cell_type": "code",
      "metadata": {
        "colab": {
          "base_uri": "https://localhost:8080/"
        },
        "id": "SGqswiNy21Gw",
        "outputId": "ff9f0f00-7eaa-4517-ecac-86d1affea045"
      },
      "source": [
        "encoder_gru, decoder_gru = get_model_gru()"
      ],
      "execution_count": 198,
      "outputs": [
        {
          "output_type": "stream",
          "text": [
            "WARNING:tensorflow:Layer gru will not use cuDNN kernel since it doesn't meet the cuDNN kernel criteria. It will use generic GPU kernel as fallback when running on GPU\n",
            "WARNING:tensorflow:Layer gru_1 will not use cuDNN kernel since it doesn't meet the cuDNN kernel criteria. It will use generic GPU kernel as fallback when running on GPU\n",
            "WARNING:tensorflow:Layer gru_2 will not use cuDNN kernel since it doesn't meet the cuDNN kernel criteria. It will use generic GPU kernel as fallback when running on GPU\n",
            "WARNING:tensorflow:Layer gru_3 will not use cuDNN kernel since it doesn't meet the cuDNN kernel criteria. It will use generic GPU kernel as fallback when running on GPU\n",
            "Model: \"model_gru\"\n",
            "__________________________________________________________________________________________________\n",
            "Layer (type)                    Output Shape         Param #     Connected to                     \n",
            "==================================================================================================\n",
            "input_1 (InputLayer)            [(None, 30)]         0                                            \n",
            "__________________________________________________________________________________________________\n",
            "embedding (Embedding)           (None, 30, 100)      711200      input_1[0][0]                    \n",
            "__________________________________________________________________________________________________\n",
            "gru (GRU)                       [(None, 30, 300), (N 361800      embedding[0][0]                  \n",
            "__________________________________________________________________________________________________\n",
            "input_2 (InputLayer)            [(None, None)]       0                                            \n",
            "__________________________________________________________________________________________________\n",
            "gru_1 (GRU)                     [(None, 30, 300), (N 541800      gru[0][0]                        \n",
            "__________________________________________________________________________________________________\n",
            "embedding_1 (Embedding)         (None, None, 100)    161200      input_2[0][0]                    \n",
            "__________________________________________________________________________________________________\n",
            "gru_2 (GRU)                     [(None, 30, 300), (N 541800      gru_1[0][0]                      \n",
            "__________________________________________________________________________________________________\n",
            "gru_3 (GRU)                     [(None, None, 300),  361800      embedding_1[0][0]                \n",
            "                                                                 gru_2[0][1]                      \n",
            "__________________________________________________________________________________________________\n",
            "attention_layer (AttentionLayer ((None, None, 300),  180300      gru_2[0][0]                      \n",
            "                                                                 gru_3[0][0]                      \n",
            "__________________________________________________________________________________________________\n",
            "concat_layer (Concatenate)      (None, None, 600)    0           gru_3[0][0]                      \n",
            "                                                                 attention_layer[0][0]            \n",
            "__________________________________________________________________________________________________\n",
            "time_distributed (TimeDistribut (None, None, 1612)   968812      concat_layer[0][0]               \n",
            "==================================================================================================\n",
            "Total params: 3,828,712\n",
            "Trainable params: 3,828,712\n",
            "Non-trainable params: 0\n",
            "__________________________________________________________________________________________________\n",
            "Model loaded\n",
            "WARNING:tensorflow:Unresolved object in checkpoint: (root).optimizer.iter\n",
            "WARNING:tensorflow:Unresolved object in checkpoint: (root).optimizer.beta_1\n",
            "WARNING:tensorflow:Unresolved object in checkpoint: (root).optimizer.beta_2\n",
            "WARNING:tensorflow:Unresolved object in checkpoint: (root).optimizer.decay\n",
            "WARNING:tensorflow:Unresolved object in checkpoint: (root).optimizer.learning_rate\n",
            "WARNING:tensorflow:A checkpoint was restored (e.g. tf.train.Checkpoint.restore or tf.keras.Model.load_weights) but not all checkpointed values were used. See above for specific issues. Use expect_partial() on the load status object, e.g. tf.train.Checkpoint.restore(...).expect_partial(), to silence these warnings, or use assert_consumed() to make the check explicit. See https://www.tensorflow.org/guide/checkpoint#loading_mechanics for details.\n"
          ],
          "name": "stdout"
        }
      ]
    },
    {
      "cell_type": "markdown",
      "metadata": {
        "id": "gCV-EUt_7STe"
      },
      "source": [
        "## Bidirectional GRU Model"
      ]
    },
    {
      "cell_type": "code",
      "metadata": {
        "id": "NW5-bvpD7WqN"
      },
      "source": [
        "from tensorflow.keras import backend as K \n",
        "\n",
        "def get_model_bi():\n",
        "  K.clear_session()\n",
        "\n",
        "  # Encoder\n",
        "  encoder_inputs = Input(shape=(max_text_len,))\n",
        "\n",
        "  #embedding layer\n",
        "  enc_emb =  Embedding(x_voc, embedding_dim,trainable=True)(encoder_inputs)\n",
        "\n",
        "  #encoder bi_gru 1\n",
        "  encoder_gru1 = Bidirectional(GRU(latent_dim,return_sequences=True,return_state=True,dropout=drop, recurrent_dropout=recurrent_drop),\n",
        "                               merge_mode=\"ave\")\n",
        "  encoder_output1, state_fw_1, state_bw_1 = encoder_gru1(enc_emb)\n",
        "\n",
        "  #encoder bi_gru 2\n",
        "  encoder_gru2 = Bidirectional(GRU(latent_dim,return_sequences=True,return_state=True,dropout=drop, recurrent_dropout=recurrent_drop),\n",
        "                              merge_mode=\"ave\")\n",
        "  encoder_output2, state_fw_2, state_bw_2 = encoder_gru2(encoder_output1)\n",
        "\n",
        "  #encoder bi_gru 3\n",
        "  encoder_gru3 = Bidirectional(GRU(latent_dim, return_state=True, return_sequences=True,dropout=drop, recurrent_dropout=recurrent_drop),\n",
        "                              merge_mode=\"ave\")\n",
        "  encoder_outputs, state_fw_3, state_bw_3 = encoder_gru3(encoder_output2)\n",
        "\n",
        "  # Decoder\n",
        "  decoder_inputs = Input(shape=(None,))\n",
        "\n",
        "  #embedding layer\n",
        "  dec_emb_layer = Embedding(y_voc, embedding_dim,trainable=True)\n",
        "  dec_emb = dec_emb_layer(decoder_inputs)\n",
        "\n",
        "  # decoder_gru = Bidirectional(GRU(latent_dim, return_sequences=True, return_state=True,dropout=0.4),\n",
        "  #                             merge_mode=\"ave\")\n",
        "  decoder_gru = GRU(latent_dim, return_sequences=True, return_state=True,dropout=drop, recurrent_dropout=recurrent_drop)\n",
        "  # decoder_outputs, decoder_fw_state, decoder_bw_state = decoder_gru(dec_emb, initial_state=[state_fw_3, state_bw_3])\n",
        "  decoder_outputs, decoder_state = decoder_gru(dec_emb, initial_state=state_fw_3)\n",
        "\n",
        "  # Attention layer\n",
        "  attn_layer = AttentionLayer(name='attention_layer')\n",
        "  attn_out, attn_states = attn_layer([encoder_outputs, decoder_outputs])\n",
        "\n",
        "  # Concat attention input and decoder bi_gru output\n",
        "  decoder_concat_input = Concatenate(axis=-1, name='concat_layer')([decoder_outputs, attn_out])\n",
        "\n",
        "  # dense layer\n",
        "  decoder_dense =  TimeDistributed(Dense(y_voc, activation='softmax'))\n",
        "  decoder_outputs = decoder_dense(decoder_concat_input)\n",
        "\n",
        "  # Define the model \n",
        "  model_bi = Model([encoder_inputs, decoder_inputs], decoder_outputs,\n",
        "                  name = \"model_bi\")\n",
        "\n",
        "  model_bi.summary() \n",
        "\n",
        "  model_bi.compile(optimizer='adam', \n",
        "                  loss='sparse_categorical_crossentropy',\n",
        "                  metrics=['accuracy'])\n",
        "\n",
        "  # Callbacks\n",
        "  log_dir = pj_path + \"/tensorboard/\"+ model_bi.name + \"/\" + date_now\n",
        "\n",
        "  early_stopping_callback   = EarlyStopping(monitor='val_loss', mode='min', verbose=1,patience=2)\n",
        "  tensorboard_callback      = TensorBoard(log_dir=log_dir, histogram_freq=1)\n",
        "  \n",
        "  callbacks = [early_stopping_callback,\n",
        "               tensorboard_callback]\n",
        "               # model_checkpoint_callback]\n",
        "\n",
        "  \n",
        "  if not is_model_bi_trained:\n",
        "    history = model_bi.fit([x_tr,y_tr[:,:-1]], \n",
        "                            y_tr.reshape(y_tr.shape[0],y_tr.shape[1], 1)[:,1:],\n",
        "                            epochs=EPOCHS,\n",
        "                            callbacks=callbacks,\n",
        "                            batch_size=BATCH_SIZE, \n",
        "                            validation_data=([x_val,y_val[:,:-1]], \n",
        "                                              y_val.reshape(y_val.shape[0],\n",
        "                                                            y_val.shape[1], \n",
        "                                                            1)[:,1:]))\n",
        "    plot_history(history, model_bi)\n",
        "    save_model(model_bi)\n",
        "  else:\n",
        "    load_model(model_bi)\n",
        "\n",
        "  # Encode the input sequence to get the feature vector\n",
        "  encoder_model = Model(inputs=encoder_inputs, outputs=[encoder_outputs, state_fw_3, state_bw_3])\n",
        "\n",
        "  # Decoder setup\n",
        "  # Below tensors will hold the states of the previous time step\n",
        "  decoder_state_input_fw = Input(shape=(latent_dim,))\n",
        "  decoder_state_input_bw = Input(shape=(latent_dim,))\n",
        "  decoder_hidden_state_input = Input(shape=(max_text_len,latent_dim))\n",
        "\n",
        "  # Get the embeddings of the decoder sequence\n",
        "  dec_emb2 =  dec_emb_layer(decoder_inputs) \n",
        "  # To predict the next word in the sequence, set the initial states to the states from the previous time step\n",
        "  # decoder_outputs2, state_fw_2, state_bw_2 = decoder_gru(dec_emb2, initial_state=[decoder_state_input_fw, decoder_state_input_bw])\n",
        "  decoder_outputs2, state_fw_2 = decoder_gru(dec_emb2, initial_state=decoder_state_input_fw)\n",
        "\n",
        "  #attention inference\n",
        "  attn_out_inf, attn_states_inf = attn_layer([decoder_hidden_state_input, decoder_outputs2])\n",
        "  decoder_inf_concat = Concatenate(axis=-1, name='concat')([decoder_outputs2, attn_out_inf])\n",
        "\n",
        "  # A dense softmax layer to generate prob dist. over the target vocabulary\n",
        "  decoder_outputs2 = decoder_dense(decoder_inf_concat) \n",
        "\n",
        "  # Final decoder model\n",
        "  decoder_model = Model(\n",
        "      [decoder_inputs] + [decoder_hidden_state_input,decoder_state_input_fw],\n",
        "      [decoder_outputs2] + [state_fw_2])\n",
        "  \n",
        "  return (encoder_model, decoder_model)"
      ],
      "execution_count": 199,
      "outputs": []
    },
    {
      "cell_type": "markdown",
      "metadata": {
        "id": "gESK0sOSqteI"
      },
      "source": [
        "Let's create the model."
      ]
    },
    {
      "cell_type": "code",
      "metadata": {
        "colab": {
          "base_uri": "https://localhost:8080/"
        },
        "id": "RzNBjrNQ3gBI",
        "outputId": "b4621377-3707-4ac8-9e4c-b1af1fc14a98"
      },
      "source": [
        "encoder_bi, decoder_bi = get_model_bi()"
      ],
      "execution_count": 200,
      "outputs": [
        {
          "output_type": "stream",
          "text": [
            "WARNING:tensorflow:Layer gru will not use cuDNN kernel since it doesn't meet the cuDNN kernel criteria. It will use generic GPU kernel as fallback when running on GPU\n",
            "WARNING:tensorflow:Layer gru will not use cuDNN kernel since it doesn't meet the cuDNN kernel criteria. It will use generic GPU kernel as fallback when running on GPU\n",
            "WARNING:tensorflow:Layer gru will not use cuDNN kernel since it doesn't meet the cuDNN kernel criteria. It will use generic GPU kernel as fallback when running on GPU\n",
            "WARNING:tensorflow:Layer gru_1 will not use cuDNN kernel since it doesn't meet the cuDNN kernel criteria. It will use generic GPU kernel as fallback when running on GPU\n",
            "WARNING:tensorflow:Layer gru_1 will not use cuDNN kernel since it doesn't meet the cuDNN kernel criteria. It will use generic GPU kernel as fallback when running on GPU\n",
            "WARNING:tensorflow:Layer gru_1 will not use cuDNN kernel since it doesn't meet the cuDNN kernel criteria. It will use generic GPU kernel as fallback when running on GPU\n",
            "WARNING:tensorflow:Layer gru_2 will not use cuDNN kernel since it doesn't meet the cuDNN kernel criteria. It will use generic GPU kernel as fallback when running on GPU\n",
            "WARNING:tensorflow:Layer gru_2 will not use cuDNN kernel since it doesn't meet the cuDNN kernel criteria. It will use generic GPU kernel as fallback when running on GPU\n",
            "WARNING:tensorflow:Layer gru_2 will not use cuDNN kernel since it doesn't meet the cuDNN kernel criteria. It will use generic GPU kernel as fallback when running on GPU\n",
            "WARNING:tensorflow:Layer gru_3 will not use cuDNN kernel since it doesn't meet the cuDNN kernel criteria. It will use generic GPU kernel as fallback when running on GPU\n",
            "Model: \"model_bi\"\n",
            "__________________________________________________________________________________________________\n",
            "Layer (type)                    Output Shape         Param #     Connected to                     \n",
            "==================================================================================================\n",
            "input_1 (InputLayer)            [(None, 30)]         0                                            \n",
            "__________________________________________________________________________________________________\n",
            "embedding (Embedding)           (None, 30, 100)      711200      input_1[0][0]                    \n",
            "__________________________________________________________________________________________________\n",
            "bidirectional (Bidirectional)   [(None, 30, 300), (N 723600      embedding[0][0]                  \n",
            "__________________________________________________________________________________________________\n",
            "input_2 (InputLayer)            [(None, None)]       0                                            \n",
            "__________________________________________________________________________________________________\n",
            "bidirectional_1 (Bidirectional) [(None, 30, 300), (N 1083600     bidirectional[0][0]              \n",
            "__________________________________________________________________________________________________\n",
            "embedding_1 (Embedding)         (None, None, 100)    161200      input_2[0][0]                    \n",
            "__________________________________________________________________________________________________\n",
            "bidirectional_2 (Bidirectional) [(None, 30, 300), (N 1083600     bidirectional_1[0][0]            \n",
            "__________________________________________________________________________________________________\n",
            "gru_3 (GRU)                     [(None, None, 300),  361800      embedding_1[0][0]                \n",
            "                                                                 bidirectional_2[0][1]            \n",
            "__________________________________________________________________________________________________\n",
            "attention_layer (AttentionLayer ((None, None, 300),  180300      bidirectional_2[0][0]            \n",
            "                                                                 gru_3[0][0]                      \n",
            "__________________________________________________________________________________________________\n",
            "concat_layer (Concatenate)      (None, None, 600)    0           gru_3[0][0]                      \n",
            "                                                                 attention_layer[0][0]            \n",
            "__________________________________________________________________________________________________\n",
            "time_distributed (TimeDistribut (None, None, 1612)   968812      concat_layer[0][0]               \n",
            "==================================================================================================\n",
            "Total params: 5,274,112\n",
            "Trainable params: 5,274,112\n",
            "Non-trainable params: 0\n",
            "__________________________________________________________________________________________________\n",
            "Model loaded\n",
            "WARNING:tensorflow:Unresolved object in checkpoint: (root).optimizer.iter\n",
            "WARNING:tensorflow:Unresolved object in checkpoint: (root).optimizer.beta_1\n",
            "WARNING:tensorflow:Unresolved object in checkpoint: (root).optimizer.beta_2\n",
            "WARNING:tensorflow:Unresolved object in checkpoint: (root).optimizer.decay\n",
            "WARNING:tensorflow:Unresolved object in checkpoint: (root).optimizer.learning_rate\n",
            "WARNING:tensorflow:A checkpoint was restored (e.g. tf.train.Checkpoint.restore or tf.keras.Model.load_weights) but not all checkpointed values were used. See above for specific issues. Use expect_partial() on the load status object, e.g. tf.train.Checkpoint.restore(...).expect_partial(), to silence these warnings, or use assert_consumed() to make the check explicit. See https://www.tensorflow.org/guide/checkpoint#loading_mechanics for details.\n"
          ],
          "name": "stdout"
        }
      ]
    },
    {
      "cell_type": "markdown",
      "metadata": {
        "id": "eM_nU_VvFxjq"
      },
      "source": [
        "# Inference"
      ]
    },
    {
      "cell_type": "markdown",
      "metadata": {
        "id": "3k4tU1G64_zA"
      },
      "source": [
        "First, let’s build the dictionary to convert the index to word for target and source vocabulary:"
      ]
    },
    {
      "cell_type": "code",
      "metadata": {
        "id": "sBX0zZnOFxjW"
      },
      "source": [
        "target_word_index = y_tokenizer.word_index\n",
        "reverse_target_word_index = y_tokenizer.index_word\n",
        "\n",
        "source_word_index = x_tokenizer.word_index\n",
        "reverse_source_word_index = x_tokenizer.index_word"
      ],
      "execution_count": 201,
      "outputs": []
    },
    {
      "cell_type": "markdown",
      "metadata": {
        "id": "PHgvuSycvx3U"
      },
      "source": [
        "We are defining a function below which is the implementation of the inference process (which we covered [here](https://www.analyticsvidhya.com/blog/2019/06/comprehensive-guide-text-summarization-using-deep-learning-python/)):"
      ]
    },
    {
      "cell_type": "code",
      "metadata": {
        "id": "6f6TTFnBFxj6"
      },
      "source": [
        "def decode_sequence(input_seq,\n",
        "                    model_type = \"LSTM\", \n",
        "                    encoder_model=encoder_lstm, \n",
        "                    decoder_model=decoder_lstm):\n",
        "\n",
        "    if model_type in [\"LSTM\", \"Bi\"]:\n",
        "      e_out, h, c = encoder_model.predict(input_seq)\n",
        "    else:\n",
        "      e_out, h = encoder_model.predict(input_seq)\n",
        "\n",
        "    # Generate empty target sequence of length 1.\n",
        "    target_seq = np.zeros((1,1))\n",
        "    \n",
        "    # Populate the first word of target sequence with the start word.\n",
        "    target_seq[0, 0] = target_word_index['sostok']\n",
        "\n",
        "    stop_condition = False\n",
        "    decoded_sentence = ''\n",
        "\n",
        "    while not stop_condition:\n",
        "        \n",
        "        if model_type in [\"LSTM\"]:\n",
        "          output_tokens, h, c = decoder_model.predict([target_seq] + [e_out, h, c])\n",
        "        else:\n",
        "          output_tokens, h = decoder_model.predict([target_seq] + [e_out, h])\n",
        "          \n",
        "        # Sample a token\n",
        "        sampled_token_index = np.argmax(output_tokens[0, -1, :])\n",
        "        sampled_token = reverse_target_word_index[sampled_token_index]\n",
        "\n",
        "        if (sampled_token!='eostok'):\n",
        "            decoded_sentence += ' '+sampled_token\n",
        "\n",
        "        # Exit condition: either hit max length or find stop word.\n",
        "        if (sampled_token == 'eostok'  or len(decoded_sentence.split()) >= (max_summary_len-1)):\n",
        "            stop_condition = True\n",
        "\n",
        "        # Update the target sequence (of length 1).\n",
        "        target_seq = np.zeros((1,1))\n",
        "        target_seq[0, 0] = sampled_token_index\n",
        "\n",
        "    return decoded_sentence"
      ],
      "execution_count": 202,
      "outputs": []
    },
    {
      "cell_type": "markdown",
      "metadata": {
        "id": "6GuDf4TPWt6_"
      },
      "source": [
        "Let us define the functions to convert an integer sequence to a word sequence for summary as well as the reviews:"
      ]
    },
    {
      "cell_type": "code",
      "metadata": {
        "id": "aAUntznIFxj9"
      },
      "source": [
        "def seq2summary(input_seq):\n",
        "    newString=''\n",
        "    for i in input_seq:\n",
        "        if((i!=0 and i!=target_word_index['sostok']) and i!=target_word_index['eostok']):\n",
        "            newString=newString+reverse_target_word_index[i]+' '\n",
        "    return newString\n",
        "\n",
        "def seq2text(input_seq):\n",
        "    newString=''\n",
        "    for i in input_seq:\n",
        "        if(i!=0):\n",
        "            newString=newString+reverse_source_word_index[i]+' '\n",
        "    return newString"
      ],
      "execution_count": 203,
      "outputs": []
    },
    {
      "cell_type": "markdown",
      "metadata": {
        "id": "9gM4ALyfWwA9"
      },
      "source": [
        "Here are a few summaries generated by the model:"
      ]
    },
    {
      "cell_type": "code",
      "metadata": {
        "colab": {
          "base_uri": "https://localhost:8080/"
        },
        "id": "Zp4pdZklv31K",
        "outputId": "04268cf6-f19c-43db-e1c4-0f59fcab7e6e"
      },
      "source": [
        "for i in range(0,25):\n",
        "    print(\"Review:\",seq2text(x_test[i]))\n",
        "    print(\"Original summary:\",seq2summary(y_test[i]))\n",
        "\n",
        "    input_seq = x_test[i].reshape(1,max_text_len)\n",
        "    print(\"Predicted summary - LSTM model:\\n\\t\", \n",
        "          decode_sequence(input_seq,\n",
        "                          \"LSTM\",\n",
        "                          encoder_lstm,\n",
        "                          decoder_lstm))\n",
        "    \n",
        "    print(\"Predicted summary - GRU  model:\\n\\t\", \n",
        "          decode_sequence(input_seq,\n",
        "                          \"GRU\",\n",
        "                          encoder_gru,\n",
        "                          decoder_gru))\n",
        "    \n",
        "    print(\"Predicted summary - Bi   model:\\n\\t\", \n",
        "          decode_sequence(input_seq,\n",
        "                          \"Bi\",\n",
        "                          encoder_bi,\n",
        "                          decoder_bi))\n",
        "\n",
        "    print(\"\\n\")"
      ],
      "execution_count": 204,
      "outputs": [
        {
          "output_type": "stream",
          "text": [
            "Review: great healthy chew old beagle loves taste sure beats arm \n",
            "Original summary: yummy \n",
            "Predicted summary - LSTM model:\n",
            "\t  my loves these\n",
            "WARNING:tensorflow:5 out of the last 4122 calls to <function Model.make_predict_function.<locals>.predict_function at 0x7fe4d9f78830> triggered tf.function retracing. Tracing is expensive and the excessive number of tracings could be due to (1) creating @tf.function repeatedly in a loop, (2) passing tensors with different shapes, (3) passing Python objects instead of tensors. For (1), please define your @tf.function outside of the loop. For (2), @tf.function has experimental_relax_shapes=True option that relaxes argument shapes that can avoid unnecessary retracing. For (3), please refer to https://www.tensorflow.org/guide/function#controlling_retracing and https://www.tensorflow.org/api_docs/python/tf/function for  more details.\n",
            "Predicted summary - GRU  model:\n",
            "\t  my dog loves these\n",
            "WARNING:tensorflow:5 out of the last 12 calls to <function Model.make_predict_function.<locals>.predict_function at 0x7fe4f8806710> triggered tf.function retracing. Tracing is expensive and the excessive number of tracings could be due to (1) creating @tf.function repeatedly in a loop, (2) passing tensors with different shapes, (3) passing Python objects instead of tensors. For (1), please define your @tf.function outside of the loop. For (2), @tf.function has experimental_relax_shapes=True option that relaxes argument shapes that can avoid unnecessary retracing. For (3), please refer to https://www.tensorflow.org/guide/function#controlling_retracing and https://www.tensorflow.org/api_docs/python/tf/function for  more details.\n",
            "Predicted summary - Bi   model:\n",
            "\t  great product\n",
            "\n",
            "\n",
            "Review: thank goodness carbonated drink tasty without additives taste like cherry drinks slightly lighter flavoring although less half volume normal wonder things good comes small size least recycled \n",
            "Original summary: it is tasty \n",
            "Predicted summary - LSTM model:\n",
            "\t  delicious\n",
            "Predicted summary - GRU  model:\n",
            "\t  not my favorite flavor\n",
            "Predicted summary - Bi   model:\n",
            "\t  great product\n",
            "\n",
            "\n",
            "Review: extra bold coffee one favorites extra bold could compared bold coffee regular coffee brewer \n",
            "Original summary: great coffee for keurig brewer \n",
            "Predicted summary - LSTM model:\n",
            "\t  great coffee\n",
            "Predicted summary - GRU  model:\n",
            "\t  great coffee\n",
            "Predicted summary - Bi   model:\n",
            "\t  great coffee\n",
            "\n",
            "\n",
            "Review: like flavored coffee taste like coffee may could taste coffee travel size brew smaller brew sizes bit better \n",
            "Original summary: too much caramel cream not enough coffee \n",
            "Predicted summary - LSTM model:\n",
            "\t  not fan\n",
            "Predicted summary - GRU  model:\n",
            "\t  good coffee\n",
            "Predicted summary - Bi   model:\n",
            "\t  great coffee\n",
            "\n",
            "\n",
            "Review: slightly overpriced one kitty last month less pound bags recently purchased petsmart dollars pound bag \n",
            "Original summary: great food \n",
            "Predicted summary - LSTM model:\n",
            "\t  great food\n",
            "Predicted summary - GRU  model:\n",
            "\t  my cats love it\n",
            "Predicted summary - Bi   model:\n",
            "\t  my cat loves it\n",
            "\n",
            "\n",
            "Review: boss likes saw giant thought would funny handed small said call giant thought looked \n",
            "Original summary: big hit at the office \n",
            "Predicted summary - LSTM model:\n",
            "\t  not what expected\n",
            "Predicted summary - GRU  model:\n",
            "\t  not what expected\n",
            "Predicted summary - Bi   model:\n",
            "\t  great product\n",
            "\n",
            "\n",
            "Review: grateful amazing mix used make best gluten free products break us gluten free individuals miss real mixes ones market dont trick like \n",
            "Original summary: amazing \n",
            "Predicted summary - LSTM model:\n",
            "\t  great taste\n",
            "Predicted summary - GRU  model:\n",
            "\t  delicious\n",
            "Predicted summary - Bi   model:\n",
            "\t  great taste\n",
            "\n",
            "\n",
            "Review: like even regular bisquick mix make pancakes taste closer scratch wheat flour pancakes members family tried yet used pizza crust biscuits \n",
            "Original summary: just about perfect for pancakes \n",
            "Predicted summary - LSTM model:\n",
            "\t  great gluten free\n",
            "Predicted summary - GRU  model:\n",
            "\t  best gluten free bread mix\n",
            "Predicted summary - Bi   model:\n",
            "\t  great chips\n",
            "\n",
            "\n",
            "Review: product wonderful like hot also good mixed ice milk blender love \n",
            "Original summary: great \n",
            "Predicted summary - LSTM model:\n",
            "\t  great taste\n",
            "Predicted summary - GRU  model:\n",
            "\t  great taste\n",
            "Predicted summary - Bi   model:\n",
            "\t  great product\n",
            "\n",
            "\n",
            "Review: better tasting cheaper hr energy experience energy boost equal hr energy lasts long however prefer taste saves money \n",
            "Original summary: better tasting than energy \n",
            "Predicted summary - LSTM model:\n",
            "\t  good product\n",
            "Predicted summary - GRU  model:\n",
            "\t  great product\n",
            "Predicted summary - Bi   model:\n",
            "\t  great product\n",
            "\n",
            "\n",
            "Review: product makes medicine oh easy big ol chocolate lab would sell soul greenies pill pocket \n",
            "Original summary: idea for pet \n",
            "Predicted summary - LSTM model:\n",
            "\t  made in china\n",
            "Predicted summary - GRU  model:\n",
            "\t  not as usual\n",
            "Predicted summary - Bi   model:\n",
            "\t  great product\n",
            "\n",
            "\n",
            "Review: cherry pie favorite larabar apple pie also good however banana bread blueberry leaves much desired cannot recommend flavors local grocery store sells time amazon competing local retailers product \n",
            "Original summary: most flavors are excellent amazon overpriced \n",
            "Predicted summary - LSTM model:\n",
            "\t  delicious\n",
            "Predicted summary - GRU  model:\n",
            "\t  delicious\n",
            "Predicted summary - Bi   model:\n",
            "\t  great snack\n",
            "\n",
            "\n",
            "Review: syrup right flavor perfect blend toffee nut dab added cup coffee dinner makes perfect desert coffee anyone drinks coffee highly recommended \n",
            "Original summary: wonderful \n",
            "Predicted summary - LSTM model:\n",
            "\t  great coffee\n",
            "Predicted summary - GRU  model:\n",
            "\t  great flavor\n",
            "Predicted summary - Bi   model:\n",
            "\t  great coffee\n",
            "\n",
            "\n",
            "Review: wow drink tastes terrible made heart really jittery handle caffiene good enough stuff much never drink stuff \n",
            "Original summary: tastes terrible and made my heart \n",
            "Predicted summary - LSTM model:\n",
            "\t  great tasting tea\n",
            "Predicted summary - GRU  model:\n",
            "\t  not bad\n",
            "Predicted summary - Bi   model:\n",
            "\t  great product\n",
            "\n",
            "\n",
            "Review: stuff awesome nice see coffee drink natural tastes great much energy drink cup morning one lunch used cup desk time lost weight energy level way highly recommend \n",
            "Original summary: great coffee so much energy \n",
            "Predicted summary - LSTM model:\n",
            "\t  great coffee\n",
            "Predicted summary - GRU  model:\n",
            "\t  great taste\n",
            "Predicted summary - Bi   model:\n",
            "\t  great coffee\n",
            "\n",
            "\n",
            "Review: get taken picture show get entire package many bars get one small bar shame shame showing false advertising \n",
            "Original summary: not what you see \n",
            "Predicted summary - LSTM model:\n",
            "\t  not what expected\n",
            "Predicted summary - GRU  model:\n",
            "\t  not what expected\n",
            "Predicted summary - Bi   model:\n",
            "\t  great product\n",
            "\n",
            "\n",
            "Review: excellent cooking nice fragrance slight coconutty taste nutiva favorite brand virgin coconut oil bad batch yet \n",
            "Original summary: this is the stuff you are looking for \n",
            "Predicted summary - LSTM model:\n",
            "\t  great taste\n",
            "Predicted summary - GRU  model:\n",
            "\t  good stuff\n",
            "Predicted summary - Bi   model:\n",
            "\t  great\n",
            "\n",
            "\n",
            "Review: product chewy good flavor first tried cracker amazon cheaper get product buck \n",
            "Original summary: lucky country licorice \n",
            "Predicted summary - LSTM model:\n",
            "\t  great product\n",
            "Predicted summary - GRU  model:\n",
            "\t  good stuff\n",
            "Predicted summary - Bi   model:\n",
            "\t  great product\n",
            "\n",
            "\n",
            "Review: like taste fact organic first bottle using clumps badly get couple shakes bang bottle something rather frustrating \n",
            "Original summary: good taste \n",
            "Predicted summary - LSTM model:\n",
            "\t  not bad\n",
            "Predicted summary - GRU  model:\n",
            "\t  not bad\n",
            "Predicted summary - Bi   model:\n",
            "\t  great product\n",
            "\n",
            "\n",
            "Review: great idea works intended even small bit gives one dogs really bad runs might try different flavor see cause problem \n",
            "Original summary: good idea \n",
            "Predicted summary - LSTM model:\n",
            "\t  great product\n",
            "Predicted summary - GRU  model:\n",
            "\t  works well\n",
            "Predicted summary - Bi   model:\n",
            "\t  great product\n",
            "\n",
            "\n",
            "Review: bars tasty larger regular granola bar keep full longer complaint available flavors little spendy ounce ounce probably price similar bar \n",
            "Original summary: better than regular granola bar \n",
            "Predicted summary - LSTM model:\n",
            "\t  great snack\n",
            "Predicted summary - GRU  model:\n",
            "\t  great tasting snack\n",
            "Predicted summary - Bi   model:\n",
            "\t  great taste\n",
            "\n",
            "\n",
            "Review: unlike rye crisp products ryvita offers several varieties without wheat cannot tolerate wasa discontinued one wheat free product without source discovered amazon carried ryvita thank wonderful \n",
            "Original summary: allergy delight \n",
            "Predicted summary - LSTM model:\n",
            "\t  best gluten free\n",
            "Predicted summary - GRU  model:\n",
            "\t  best ever\n",
            "Predicted summary - Bi   model:\n",
            "\t  great product\n",
            "\n",
            "\n",
            "Review: love product measuring coffee morning throwing old coffee best ideal ever \n",
            "Original summary: excellent product \n",
            "Predicted summary - LSTM model:\n",
            "\t  great coffee\n",
            "Predicted summary - GRU  model:\n",
            "\t  coffee\n",
            "Predicted summary - Bi   model:\n",
            "\t  great coffee\n",
            "\n",
            "\n",
            "Review: chips best tasted filled chemicals taste tangy vinegar well potato greasy perfectly crispy like salt vinegar tanginess even bother try definitely zip love children friends love even year old loves \n",
            "Original summary: fabulous \n",
            "Predicted summary - LSTM model:\n",
            "\t  great chips\n",
            "Predicted summary - GRU  model:\n",
            "\t  great chips\n",
            "Predicted summary - Bi   model:\n",
            "\t  great chips\n",
            "\n",
            "\n",
            "Review: best moroccan style green mint tea ever reasonably priced little dispenser containers well like mild minty tea little caffeine highly recommend \n",
            "Original summary: delicious tea \n",
            "Predicted summary - LSTM model:\n",
            "\t  great tea\n",
            "Predicted summary - GRU  model:\n",
            "\t  best tea ever\n",
            "Predicted summary - Bi   model:\n",
            "\t  great tea\n",
            "\n",
            "\n"
          ],
          "name": "stdout"
        }
      ]
    },
    {
      "cell_type": "code",
      "metadata": {
        "colab": {
          "base_uri": "https://localhost:8080/"
        },
        "id": "a5YLWQY_scYI",
        "outputId": "b6a7589b-8b68-4a8d-bbbc-45e45f2ee91c"
      },
      "source": [
        "verbose = True\n",
        "predicted_list = []\n",
        "review_list = []\n",
        "original_summary_list = []\n",
        "\n",
        "# dimension = x_test.shape[0]\n",
        "dimension = 1\n",
        "\n",
        "for i in range(dimension):\n",
        "    review_list.append(seq2text(x_test[i]))\n",
        "    original_summary_list.append(seq2summary(y_test[i]))\n",
        "    predicted_list.append(decode_sequence(x_test[i].reshape(1,max_text_len)))\n",
        "    if i%1==0 and verbose:\n",
        "        clear_output(wait=True)\n",
        "        print(\"> {0} / {1} \\t {2:.2f}%\".format(i+1, dimension, ((i+1)/dimension)*100))"
      ],
      "execution_count": 205,
      "outputs": [
        {
          "output_type": "stream",
          "text": [
            "> 1 / 1 \t 100.00%\n"
          ],
          "name": "stdout"
        }
      ]
    },
    {
      "cell_type": "code",
      "metadata": {
        "id": "56QYnuD1scYI"
      },
      "source": [
        "pred_dict = {'review': review_list, 'original_summary':original_summary_list, 'predicted_list':predicted_list}\n",
        "pred_df = pd.DataFrame(data=pred_dict)\n",
        "pred_df.to_csv(pj_path + '/dataset/predicted_reviews.csv', index=False)"
      ],
      "execution_count": 206,
      "outputs": []
    },
    {
      "cell_type": "code",
      "metadata": {
        "colab": {
          "base_uri": "https://localhost:8080/",
          "height": 80
        },
        "id": "CbTghR7wscYI",
        "outputId": "846fa4a9-2668-441c-abb3-4b36f2e210d0"
      },
      "source": [
        "pred_df.head()"
      ],
      "execution_count": 207,
      "outputs": [
        {
          "output_type": "execute_result",
          "data": {
            "text/html": [
              "<div>\n",
              "<style scoped>\n",
              "    .dataframe tbody tr th:only-of-type {\n",
              "        vertical-align: middle;\n",
              "    }\n",
              "\n",
              "    .dataframe tbody tr th {\n",
              "        vertical-align: top;\n",
              "    }\n",
              "\n",
              "    .dataframe thead th {\n",
              "        text-align: right;\n",
              "    }\n",
              "</style>\n",
              "<table border=\"1\" class=\"dataframe\">\n",
              "  <thead>\n",
              "    <tr style=\"text-align: right;\">\n",
              "      <th></th>\n",
              "      <th>review</th>\n",
              "      <th>original_summary</th>\n",
              "      <th>predicted_list</th>\n",
              "    </tr>\n",
              "  </thead>\n",
              "  <tbody>\n",
              "    <tr>\n",
              "      <th>0</th>\n",
              "      <td>great healthy chew old beagle loves taste sure beats arm</td>\n",
              "      <td>yummy</td>\n",
              "      <td>my loves these</td>\n",
              "    </tr>\n",
              "  </tbody>\n",
              "</table>\n",
              "</div>"
            ],
            "text/plain": [
              "                                                      review  ...   predicted_list\n",
              "0  great healthy chew old beagle loves taste sure beats arm   ...   my loves these\n",
              "\n",
              "[1 rows x 3 columns]"
            ]
          },
          "metadata": {
            "tags": []
          },
          "execution_count": 207
        }
      ]
    },
    {
      "cell_type": "code",
      "metadata": {
        "id": "3YTuW_RuscYI"
      },
      "source": [
        "from nltk.translate.bleu_score import sentence_bleu\n",
        "\n",
        "tot_score = 0\n",
        "\n",
        "for ref, cand in zip(review_list, predicted_list):\n",
        "    score = sentence_bleu(ref, cand)\n",
        "    tot_score = tot_score + score\n",
        "mean_score = tot_score/(len(review_list))"
      ],
      "execution_count": 208,
      "outputs": []
    },
    {
      "cell_type": "code",
      "metadata": {
        "colab": {
          "base_uri": "https://localhost:8080/"
        },
        "id": "v9OI9UC9scYI",
        "outputId": "6281e74e-57f7-449b-ab2c-84845679b271"
      },
      "source": [
        "print(mean_score)"
      ],
      "execution_count": 209,
      "outputs": [
        {
          "output_type": "stream",
          "text": [
            "1.646211035903463e-231\n"
          ],
          "name": "stdout"
        }
      ]
    },
    {
      "cell_type": "markdown",
      "metadata": {
        "id": "gnfppPC1scYJ"
      },
      "source": [
        "# Evaluation of the Summary Model\n",
        "Adesso bisogna risolvere il problema della valutazione del modello della summary che abbiamo precedentemente addestrato. Per la valutazione possiamo utilizzare tre possibili approcci:\n",
        "* rating prediction;\n",
        "* sentiment analisys;\n",
        "* bleau score.\n",
        "In questa sezione andremo prima a creare quattro diversi modelli per poi valutarli e scegliere il migliore per effettuare la valutazione del summary model."
      ]
    },
    {
      "cell_type": "code",
      "metadata": {
        "colab": {
          "base_uri": "https://localhost:8080/",
          "height": 272
        },
        "id": "8ydkrJ1SscYJ",
        "outputId": "4350c660-8413-45e7-e213-77647c2a0635"
      },
      "source": [
        "df_start.head()"
      ],
      "execution_count": 210,
      "outputs": [
        {
          "output_type": "execute_result",
          "data": {
            "text/html": [
              "<div>\n",
              "<style scoped>\n",
              "    .dataframe tbody tr th:only-of-type {\n",
              "        vertical-align: middle;\n",
              "    }\n",
              "\n",
              "    .dataframe tbody tr th {\n",
              "        vertical-align: top;\n",
              "    }\n",
              "\n",
              "    .dataframe thead th {\n",
              "        text-align: right;\n",
              "    }\n",
              "</style>\n",
              "<table border=\"1\" class=\"dataframe\">\n",
              "  <thead>\n",
              "    <tr style=\"text-align: right;\">\n",
              "      <th></th>\n",
              "      <th>text</th>\n",
              "      <th>summary</th>\n",
              "      <th>score_1</th>\n",
              "      <th>score_2</th>\n",
              "      <th>score_3</th>\n",
              "      <th>score_4</th>\n",
              "      <th>score_5</th>\n",
              "      <th>sentiment_0</th>\n",
              "      <th>sentiment_1</th>\n",
              "    </tr>\n",
              "  </thead>\n",
              "  <tbody>\n",
              "    <tr>\n",
              "      <th>0</th>\n",
              "      <td>bought several vitality canned dog food products found good quality product looks like stew processed meat smells better labrador finicky appreciates product better</td>\n",
              "      <td>good quality dog food</td>\n",
              "      <td>0</td>\n",
              "      <td>0</td>\n",
              "      <td>0</td>\n",
              "      <td>0</td>\n",
              "      <td>1</td>\n",
              "      <td>0</td>\n",
              "      <td>1</td>\n",
              "    </tr>\n",
              "    <tr>\n",
              "      <th>1</th>\n",
              "      <td>product arrived labeled jumbo salted peanuts peanuts actually small sized unsalted sure error vendor intended represent product jumbo</td>\n",
              "      <td>not as advertised</td>\n",
              "      <td>1</td>\n",
              "      <td>0</td>\n",
              "      <td>0</td>\n",
              "      <td>0</td>\n",
              "      <td>0</td>\n",
              "      <td>1</td>\n",
              "      <td>0</td>\n",
              "    </tr>\n",
              "    <tr>\n",
              "      <th>2</th>\n",
              "      <td>looking secret ingredient robitussin believe found got addition root beer extract ordered made cherry soda flavor medicinal</td>\n",
              "      <td>cough medicine</td>\n",
              "      <td>0</td>\n",
              "      <td>1</td>\n",
              "      <td>0</td>\n",
              "      <td>0</td>\n",
              "      <td>0</td>\n",
              "      <td>1</td>\n",
              "      <td>0</td>\n",
              "    </tr>\n",
              "    <tr>\n",
              "      <th>3</th>\n",
              "      <td>great taffy great price wide assortment yummy taffy delivery quick taffy lover deal</td>\n",
              "      <td>great taffy</td>\n",
              "      <td>0</td>\n",
              "      <td>0</td>\n",
              "      <td>0</td>\n",
              "      <td>0</td>\n",
              "      <td>1</td>\n",
              "      <td>0</td>\n",
              "      <td>1</td>\n",
              "    </tr>\n",
              "    <tr>\n",
              "      <th>4</th>\n",
              "      <td>saltwater taffy great flavors soft chewy candy individually wrapped well none candies stuck together happen expensive version fralinger would highly recommend candy served beach themed party every...</td>\n",
              "      <td>great just as good as the expensive brands</td>\n",
              "      <td>0</td>\n",
              "      <td>0</td>\n",
              "      <td>0</td>\n",
              "      <td>0</td>\n",
              "      <td>1</td>\n",
              "      <td>0</td>\n",
              "      <td>1</td>\n",
              "    </tr>\n",
              "  </tbody>\n",
              "</table>\n",
              "</div>"
            ],
            "text/plain": [
              "                                                                                                                                                                                                      text  ... sentiment_1\n",
              "0                                     bought several vitality canned dog food products found good quality product looks like stew processed meat smells better labrador finicky appreciates product better  ...           1\n",
              "1                                                                    product arrived labeled jumbo salted peanuts peanuts actually small sized unsalted sure error vendor intended represent product jumbo  ...           0\n",
              "2                                                                              looking secret ingredient robitussin believe found got addition root beer extract ordered made cherry soda flavor medicinal  ...           0\n",
              "3                                                                                                                      great taffy great price wide assortment yummy taffy delivery quick taffy lover deal  ...           1\n",
              "4  saltwater taffy great flavors soft chewy candy individually wrapped well none candies stuck together happen expensive version fralinger would highly recommend candy served beach themed party every...  ...           1\n",
              "\n",
              "[5 rows x 9 columns]"
            ]
          },
          "metadata": {
            "tags": []
          },
          "execution_count": 210
        }
      ]
    },
    {
      "cell_type": "markdown",
      "metadata": {
        "id": "bf1AbvcMscYJ"
      },
      "source": [
        "## Split del Dataset\n",
        "Considerando il dataset composto dalle seguenti colonne:\n",
        "* text: contiene il testo da dare in input al summary model per generare le predicted summaries;\n",
        "* summary: le summaries che veranno usate come label;\n",
        "* score: gli scores associati da ogni utente alla recensione;\n",
        "* sentiment: il valore di sentiment da utilizzare come label dedotto utilizzando la seguente regola:\n",
        "   * se lo score del rating è > 3 allora sentiment uguale a 1;\n",
        "   * se lo score del rating è <= 3 allora sentiment uguale a 0.\n",
        "\n",
        "Ora eseguiamo lo split del dataset associando le lettere x, y, z e k nel seguente modo:\n",
        "* x = colonna _summary_;\n",
        "* y = le colonne _score_;\n",
        "* z = la colonna _text_;\n",
        "* k = le colonne _sentiment_."
      ]
    },
    {
      "cell_type": "code",
      "metadata": {
        "id": "d_FOqLYNscYJ"
      },
      "source": [
        "y_classes=['score_1','score_2','score_3','score_4','score_5',]\n",
        "y = df_start[y_classes].values\n",
        "k_classes=['sentiment_0','sentiment_1']\n",
        "K = df_start[k_classes].values\n",
        "\n",
        "X = df_start['summary']\n",
        "Z = df_start['text']"
      ],
      "execution_count": 211,
      "outputs": []
    },
    {
      "cell_type": "code",
      "metadata": {
        "id": "vl0MZVAjscYJ"
      },
      "source": [
        "# x = the original summaries\n",
        "# y = the scores\n",
        "# z = the texts\n",
        "# k = sentiment\n",
        "\n",
        "x_tr_sent, x_test_sent, y_tr_sent, y_test_sent, _ , z_test, k_tr_sent, k_test_sent = train_test_split(np.array(X),np.array(y),np.array(Z),np.array(K),test_size=.2,random_state=0,shuffle=True)\n",
        "\n",
        "x_tr_sent, x_val_sent, y_tr_sent, y_val_sent, k_tr_sent, k_val_sent = train_test_split(x_tr_sent,y_tr_sent,k_tr_sent,test_size=0.2,random_state=0,shuffle=True)"
      ],
      "execution_count": 212,
      "outputs": []
    },
    {
      "cell_type": "markdown",
      "metadata": {
        "id": "iXBbdkAYscYJ"
      },
      "source": [
        "## Tokenizer\n",
        "Come è stato fatto per il summary model è molto importante creare un tokenizzatore per convertire le stringhe in numeri da poter sottoporre alle reti neurali."
      ]
    },
    {
      "cell_type": "markdown",
      "metadata": {
        "id": "yIKV1ADbscYK"
      },
      "source": [
        "### Summary Tokenizer\n",
        "Per la tokenizzazione dei summary possiamo utilizzare lo stesso Tokenizzatore creato in precedenza per il modello della summary."
      ]
    },
    {
      "cell_type": "code",
      "metadata": {
        "id": "WqCj8ipHRhgX"
      },
      "source": [
        "#convert text sequences into integer sequences\n",
        "x_tr_seq = y_tokenizer.texts_to_sequences(x_tr_sent) \n",
        "x_val_seq = y_tokenizer.texts_to_sequences(x_val_sent)\n",
        "x_test_seq = y_tokenizer.texts_to_sequences(x_test_sent)\n",
        "\n",
        "#padding zero upto maximum length\n",
        "x_tr_sent = pad_sequences(x_tr_seq,  maxlen=max_summary_len, padding='post')\n",
        "x_val_sent = pad_sequences(x_val_seq, maxlen=max_summary_len, padding='post')\n",
        "x_test_sent = pad_sequences(x_test_seq, maxlen=max_summary_len, padding='post')\n",
        "\n",
        "#size of vocabulary ( +1 for padding token)\n",
        "x_voc_sent = y_tokenizer.num_words + 1"
      ],
      "execution_count": 213,
      "outputs": []
    },
    {
      "cell_type": "markdown",
      "metadata": {
        "id": "RpcctIi8scYL"
      },
      "source": [
        "### Text Tokenizer\n",
        "Per il text tokenizer dobbiamo utilizzare quello creato in precedenza per il modello della summary prediction così da poter poi passare i tokens al modello della summary."
      ]
    },
    {
      "cell_type": "code",
      "metadata": {
        "id": "FwtYm8lAscYL"
      },
      "source": [
        "#save a copy of z_test for bleu and rouge score.\n",
        "z_test_original = z_test.copy()\n",
        "\n",
        "#convert text sequences into integer sequences\n",
        "z_test_seq = x_tokenizer.texts_to_sequences(z_test)\n",
        "\n",
        "#padding zero upto maximum length\n",
        "z_test = pad_sequences(z_test_seq, maxlen=max_text_len, padding='post')\n",
        "\n",
        "#size of vocabulary ( +1 for padding token)\n",
        "z_voc   =  x_tokenizer.num_words + 1"
      ],
      "execution_count": 214,
      "outputs": []
    },
    {
      "cell_type": "code",
      "metadata": {
        "colab": {
          "base_uri": "https://localhost:8080/"
        },
        "id": "_LwYsS2oscYL",
        "outputId": "93cefde1-77d1-4330-b8af-4492a77be35e"
      },
      "source": [
        "z_voc"
      ],
      "execution_count": 215,
      "outputs": [
        {
          "output_type": "execute_result",
          "data": {
            "text/plain": [
              "7112"
            ]
          },
          "metadata": {
            "tags": []
          },
          "execution_count": 215
        }
      ]
    },
    {
      "cell_type": "markdown",
      "metadata": {
        "id": "NgsGvOsOscYL"
      },
      "source": [
        "## Creazione e Addestramento dei modelli"
      ]
    },
    {
      "cell_type": "markdown",
      "metadata": {
        "id": "KjM2c6n3KV0D"
      },
      "source": [
        "### Hyperparameters"
      ]
    },
    {
      "cell_type": "code",
      "metadata": {
        "id": "Q0IiTEUWKV0E"
      },
      "source": [
        "is_model_rating_lstm_trained = True\n",
        "is_model_sentiment_lstm_trained = True\n",
        "is_model_sentiment_gru_trained = True"
      ],
      "execution_count": 216,
      "outputs": []
    },
    {
      "cell_type": "markdown",
      "metadata": {
        "id": "g_Gn_94yKV0E"
      },
      "source": [
        "### Help Function"
      ]
    },
    {
      "cell_type": "code",
      "metadata": {
        "id": "UU5c43eTKV0E"
      },
      "source": [
        "def get_test_results(labels, predictions, model:str, file_name:str):\n",
        "    path_results = f\"{pj_path}/evaluation_results/{model}/\"\n",
        "    w = False\n",
        "\n",
        "    if not os.path.exists(os.path.dirname(path_results)):\n",
        "        try:\n",
        "            Path(path_results).mkdir(parents=True, exist_ok=True)\n",
        "            print(f\"Folder {path_results} created\")\n",
        "        except:\n",
        "            print(f\"Creation of the directory {path_results} failed\")\n",
        "        else:\n",
        "            w = True\n",
        "    else:\n",
        "      w = True\n",
        "\n",
        "    # Counts of unique\n",
        "    unique, counts = np.unique(labels, return_counts=True)\n",
        "    dict_real = dict(zip(unique, counts))\n",
        "    unique, counts = np.unique(predictions, return_counts=True)\n",
        "    dict_pred = dict(zip(unique, counts))\n",
        "\n",
        "    # Confusion Matrix\n",
        "    cnf_matrix = confusion_matrix(labels, predictions)\n",
        "\n",
        "    # Classification Report\n",
        "    class_rep = classification_report(labels, predictions)\n",
        "\n",
        "    results_str = f\"Valori reali: {dict_real}\\nValori predetti: {dict_pred}\\n\\nConfusion Matrix:\\n{cnf_matrix}\\n\\nClassification Report:\\n{class_rep}\"\n",
        "\n",
        "    if w:\n",
        "        writable_file = open(path_results+f\"{file_name}.txt\",'w')\n",
        "        writable_file.write(results_str)\n",
        "        writable_file.close()\n",
        "    \n",
        "    print(results_str)"
      ],
      "execution_count": 217,
      "outputs": []
    },
    {
      "cell_type": "markdown",
      "metadata": {
        "id": "-I6EAKoWscYL"
      },
      "source": [
        "### Modello per il Rating\n",
        "Generiamo un modello che sia in grado di predire un valore di rating intero in un intervallo tra 1 e 5. L'idea alla base è che una frase e la summary della stessa frase generano lo stesso valore di rating."
      ]
    },
    {
      "cell_type": "code",
      "metadata": {
        "id": "YSNYL1tUKV0E"
      },
      "source": [
        "def get_rating_model_lstm(h_drop=0, h_rec_drop=0):\n",
        "    rating_model = Sequential([\n",
        "        Embedding(x_voc_sent, 64, trainable=True, mask_zero=True),\n",
        "        Bidirectional(LSTM(64,  return_sequences=True, dropout=h_drop, recurrent_dropout=h_rec_drop)),\n",
        "        Bidirectional(LSTM(32, dropout=h_drop, recurrent_dropout=h_rec_drop)),\n",
        "        Dense(64, activation='elu'),\n",
        "        Dropout(0.5),\n",
        "        Dense(5, activation='sigmoid')],\n",
        "        name=\"rating_LSTM_evaluation_model\")\n",
        "\n",
        "    tb_dir = pj_path + \"/tensorboard/\"+ rating_model.name +\"/\" + date_now\n",
        "\n",
        "    tb = TensorBoard(log_dir=tb_dir, histogram_freq=1)\n",
        "    earlystop = EarlyStopping(monitor='val_loss', mode='min', verbose=1, patience=2)\n",
        "\n",
        "    rating_model.compile(loss='binary_crossentropy', optimizer='adam', metrics=['accuracy'])\n",
        "\n",
        "    rating_model.summary()\n",
        "\n",
        "    if not is_model_rating_lstm_trained:\n",
        "        history = rating_model.fit(x_tr_sent[:,:],\n",
        "                                   y_tr_sent, \n",
        "                                   batch_size=128, \n",
        "                                   validation_data=(x_val_sent[:,:], y_val_sent), \n",
        "                                   epochs=EPOCHS,\n",
        "                                   callbacks=[earlystop, tb])\n",
        "        plot_history(history, rating_model)\n",
        "        save_model(rating_model)\n",
        "    else:\n",
        "        load_model(rating_model)\n",
        "\n",
        "    return rating_model"
      ],
      "execution_count": 218,
      "outputs": []
    },
    {
      "cell_type": "code",
      "metadata": {
        "colab": {
          "base_uri": "https://localhost:8080/"
        },
        "id": "OmZ8-lGrscYL",
        "outputId": "a2ab586f-2fb4-4444-84d5-faee59115f98"
      },
      "source": [
        "rating_model = get_rating_model_lstm()"
      ],
      "execution_count": 219,
      "outputs": [
        {
          "output_type": "stream",
          "text": [
            "Model: \"rating_LSTM_evaluation_model\"\n",
            "_________________________________________________________________\n",
            "Layer (type)                 Output Shape              Param #   \n",
            "=================================================================\n",
            "embedding_2 (Embedding)      (None, None, 64)          103168    \n",
            "_________________________________________________________________\n",
            "bidirectional_3 (Bidirection (None, None, 128)         66048     \n",
            "_________________________________________________________________\n",
            "bidirectional_4 (Bidirection (None, 64)                41216     \n",
            "_________________________________________________________________\n",
            "dense_1 (Dense)              (None, 64)                4160      \n",
            "_________________________________________________________________\n",
            "dropout (Dropout)            (None, 64)                0         \n",
            "_________________________________________________________________\n",
            "dense_2 (Dense)              (None, 5)                 325       \n",
            "=================================================================\n",
            "Total params: 214,917\n",
            "Trainable params: 214,917\n",
            "Non-trainable params: 0\n",
            "_________________________________________________________________\n",
            "Model loaded\n"
          ],
          "name": "stdout"
        }
      ]
    },
    {
      "cell_type": "markdown",
      "metadata": {
        "id": "SwBH7UHbscYM"
      },
      "source": [
        "Infine eseguiamo il modello sul dataset di test."
      ]
    },
    {
      "cell_type": "code",
      "metadata": {
        "id": "rbxTqRSDscYM"
      },
      "source": [
        "x_test_sent_resh = x_test_sent\n",
        "for i in range(x_test_sent.shape[0]):\n",
        "    x_test_sent_resh[i].reshape(1,max_summary_len)"
      ],
      "execution_count": 220,
      "outputs": []
    },
    {
      "cell_type": "code",
      "metadata": {
        "colab": {
          "base_uri": "https://localhost:8080/"
        },
        "id": "o3ZKBRKescYN",
        "outputId": "107edfc3-92e8-4aac-8246-842e640a20c1"
      },
      "source": [
        "predictions = rating_model.predict(x_test_sent_resh[:,:], verbose=1)"
      ],
      "execution_count": 221,
      "outputs": [
        {
          "output_type": "stream",
          "text": [
            "295/295 [==============================] - 7s 9ms/step\n"
          ],
          "name": "stdout"
        }
      ]
    },
    {
      "cell_type": "code",
      "metadata": {
        "id": "Dr3dySuVscYN"
      },
      "source": [
        "test_scores = y_test_sent.argmax(axis=1)\n",
        "test_predicted_scores = predictions.argmax(axis=1)"
      ],
      "execution_count": 222,
      "outputs": []
    },
    {
      "cell_type": "markdown",
      "metadata": {
        "id": "dWwr4p_QscYN"
      },
      "source": [
        "Tramite la confusion matrix possiamo calcolarci alcuni diversi indici:\n",
        "\n",
        "* Accuracy $\\frac{TP+TN}{TP+FP+TN+FN}$ che rappresenta la percentuale di classificazioni corrette;\n",
        "* Precision $\\frac{TP}{TP+FP}$ che rappresenta la percentuale di classificazioni positive che sono corrette;\n",
        "* Recall $\\frac{TP}{TP+FN}$ che rappresenta la percentuale di elementi positivi che sono stati classificati come positivi\n",
        "* F1 score $2\\cdot\\frac{Precision \\cdot Recall}{Precision + Recall}$ che rappresenta la media pesata della precisione e della recall.\n"
      ]
    },
    {
      "cell_type": "code",
      "metadata": {
        "colab": {
          "base_uri": "https://localhost:8080/"
        },
        "id": "L6afctUDscYN",
        "outputId": "f5bc8a8e-cdce-4d87-938b-13be19716e58"
      },
      "source": [
        "get_test_results(test_scores, test_predicted_scores, rating_model.name, \"test\")"
      ],
      "execution_count": 223,
      "outputs": [
        {
          "output_type": "stream",
          "text": [
            "Valori reali: {0: 806, 1: 468, 2: 591, 3: 1199, 4: 6370}\n",
            "Valori predetti: {0: 880, 1: 99, 2: 463, 3: 202, 4: 7790}\n",
            "\n",
            "Confusion Matrix:\n",
            "[[ 458   32   56    3  257]\n",
            " [ 177   40   80    3  168]\n",
            " [  99   18  168   41  265]\n",
            " [  44    4   90   94  967]\n",
            " [ 102    5   69   61 6133]]\n",
            "\n",
            "Classification Report:\n",
            "              precision    recall  f1-score   support\n",
            "\n",
            "           0       0.52      0.57      0.54       806\n",
            "           1       0.40      0.09      0.14       468\n",
            "           2       0.36      0.28      0.32       591\n",
            "           3       0.47      0.08      0.13      1199\n",
            "           4       0.79      0.96      0.87      6370\n",
            "\n",
            "    accuracy                           0.73      9434\n",
            "   macro avg       0.51      0.40      0.40      9434\n",
            "weighted avg       0.68      0.73      0.68      9434\n",
            "\n"
          ],
          "name": "stdout"
        }
      ]
    },
    {
      "cell_type": "markdown",
      "metadata": {
        "id": "G-BcDLHJscYO"
      },
      "source": [
        "Nonostante si possa osservare un buon livello di accuracy in realtà questo modello non è adatto per valutare le summary generate per due motivi principali:\n",
        "* il linguaggio naturale è difficile da interpretare;\n",
        "* pre predire dei ratings è meglio utilizzare altri approcci che siano in gradi di tenere conto anche del rating medio di un singolo utente (cosa che in questo caso non si può fare per via della mancanza dei dati necessari)."
      ]
    },
    {
      "cell_type": "markdown",
      "metadata": {
        "id": "sKnDxeF_scYO"
      },
      "source": [
        "### Modello per il Sentiment (LSTM)\n",
        "Un altro modello che possiamo utilizzare per valutare il modello per la generazione dei summaries è un modello in grado di effettuare il sentiment analisys. Tale modello è in grado di estrarre il sentiment dell'utente che ha scritto il text.\n",
        "\n",
        "La valutazione si basa sull'idea che una summary genera lo stesso sentiment del testo da cui viene generata."
      ]
    },
    {
      "cell_type": "code",
      "metadata": {
        "id": "_XjCWva2KV0G"
      },
      "source": [
        "def get_sentiment_model_lstm(h_drop=0, h_rec_drop=0):\n",
        "    sentiment_model = Sequential([\n",
        "        Embedding(x_voc_sent, 64, trainable=True, mask_zero=True),\n",
        "        Bidirectional(LSTM(64,  return_sequences=True, dropout=h_drop, recurrent_dropout=h_rec_drop)),\n",
        "        Bidirectional(LSTM(32, dropout=h_drop, recurrent_dropout=h_rec_drop)),\n",
        "        Dense(64, activation='elu'),\n",
        "        Dropout(0.5),\n",
        "        Dense(2)\n",
        "        ], name=\"sentiment_LSTM_evaluation_model\")\n",
        "\n",
        "    tb_dir = pj_path + \"/tensorboard/\"+ sentiment_model.name +\"/\" + date_now\n",
        "\n",
        "    tb = TensorBoard(log_dir=tb_dir, histogram_freq=1)\n",
        "    earlystop = EarlyStopping(monitor = 'val_loss', mode='min', verbose=1,patience=2)\n",
        "\n",
        "    sentiment_model.compile(loss = 'binary_crossentropy', optimizer = 'adam', metrics = ['accuracy'])\n",
        "\n",
        "    sentiment_model.summary()\n",
        "\n",
        "    if not is_model_sentiment_lstm_trained:\n",
        "        # Train del modello. Il train sfrutta come labels le colonne _sentiment_ del dataset create nel seguente modo:\n",
        "        # * se lo score del rating è > 3 allora sentiment uguale a 1 (positivo);\n",
        "        # * se lo score del rating è <= 3 allora sentiment uguale a 0 (negativo).\n",
        "        history=sentiment_model.fit(\n",
        "            x_tr_sent[:,:],\n",
        "            k_tr_sent,\n",
        "            batch_size=128,\n",
        "            validation_data=(x_val_sent[:,:], k_val_sent),\n",
        "            epochs=EPOCHS,\n",
        "            callbacks=[earlystop, tb])\n",
        "\n",
        "        plot_history(history, sentiment_model)\n",
        "        save_model(sentiment_model)\n",
        "    else:\n",
        "        load_model(sentiment_model)\n",
        "\n",
        "    return sentiment_model"
      ],
      "execution_count": 224,
      "outputs": []
    },
    {
      "cell_type": "code",
      "metadata": {
        "id": "gEmgS2xTscYP",
        "colab": {
          "base_uri": "https://localhost:8080/"
        },
        "outputId": "8a39c8a7-f673-44df-9bf3-d488c98b58f8"
      },
      "source": [
        "sentiment_model = get_sentiment_model_lstm()"
      ],
      "execution_count": 225,
      "outputs": [
        {
          "output_type": "stream",
          "text": [
            "WARNING:tensorflow:Unresolved object in checkpoint: (root).optimizer.iter\n",
            "WARNING:tensorflow:Unresolved object in checkpoint: (root).optimizer.beta_1\n",
            "WARNING:tensorflow:Unresolved object in checkpoint: (root).optimizer.beta_2\n",
            "WARNING:tensorflow:Unresolved object in checkpoint: (root).optimizer.decay\n",
            "WARNING:tensorflow:Unresolved object in checkpoint: (root).optimizer.learning_rate\n",
            "WARNING:tensorflow:A checkpoint was restored (e.g. tf.train.Checkpoint.restore or tf.keras.Model.load_weights) but not all checkpointed values were used. See above for specific issues. Use expect_partial() on the load status object, e.g. tf.train.Checkpoint.restore(...).expect_partial(), to silence these warnings, or use assert_consumed() to make the check explicit. See https://www.tensorflow.org/guide/checkpoint#loading_mechanics for details.\n",
            "Model: \"sentiment_LSTM_evaluation_model\"\n",
            "_________________________________________________________________\n",
            "Layer (type)                 Output Shape              Param #   \n",
            "=================================================================\n",
            "embedding_3 (Embedding)      (None, None, 64)          103168    \n",
            "_________________________________________________________________\n",
            "bidirectional_5 (Bidirection (None, None, 128)         66048     \n",
            "_________________________________________________________________\n",
            "bidirectional_6 (Bidirection (None, 64)                41216     \n",
            "_________________________________________________________________\n",
            "dense_3 (Dense)              (None, 64)                4160      \n",
            "_________________________________________________________________\n",
            "dropout_1 (Dropout)          (None, 64)                0         \n",
            "_________________________________________________________________\n",
            "dense_4 (Dense)              (None, 2)                 130       \n",
            "=================================================================\n",
            "Total params: 214,722\n",
            "Trainable params: 214,722\n",
            "Non-trainable params: 0\n",
            "_________________________________________________________________\n",
            "Model loaded\n"
          ],
          "name": "stdout"
        }
      ]
    },
    {
      "cell_type": "markdown",
      "metadata": {
        "id": "k-rrIfk-scYP"
      },
      "source": [
        "Infine eseguiamo il modello sul dataset di test."
      ]
    },
    {
      "cell_type": "code",
      "metadata": {
        "id": "UYNZ17UfscYP",
        "colab": {
          "base_uri": "https://localhost:8080/"
        },
        "outputId": "dcabfb38-d6a7-49b5-f024-a8d89f8e57f7"
      },
      "source": [
        "predictions = sentiment_model.predict(x_test_sent_resh[:,:], verbose=1)"
      ],
      "execution_count": 226,
      "outputs": [
        {
          "output_type": "stream",
          "text": [
            "295/295 [==============================] - 7s 9ms/step\n"
          ],
          "name": "stdout"
        }
      ]
    },
    {
      "cell_type": "markdown",
      "metadata": {
        "id": "VjBKLmh-scYQ"
      },
      "source": [
        "Tramite la confusion matrix possiamo calcolarci alcuni diversi indici:\n",
        "\n",
        "* Accuracy $\\frac{TP+TN}{TP+FP+TN+FN}$ che rappresenta la percentuale di classificazioni corrette;\n",
        "* Precision $\\frac{TP}{TP+FP}$ che rappresenta la percentuale di classificazioni positive che sono corrette;\n",
        "* Recall $\\frac{TP}{TP+FN}$ che rappresenta la percentuale di elementi positivi che sono stati classificati come positivi\n",
        "* F1 score $2\\cdot\\frac{Precision \\cdot Recall}{Precision + Recall}$ che rappresenta la media pesata della precisione e della recall.\n"
      ]
    },
    {
      "cell_type": "code",
      "metadata": {
        "id": "mWyypL8pscYP",
        "colab": {
          "base_uri": "https://localhost:8080/"
        },
        "outputId": "58a64775-6747-46dd-c6dd-75f7121b68e6"
      },
      "source": [
        "test_scores = k_test_sent.argmax(axis=1)\n",
        "test_predicted_scores = predictions.argmax(axis=1)\n",
        "\n",
        "get_test_results(test_scores, test_predicted_scores, sentiment_model.name, \"test\")"
      ],
      "execution_count": 227,
      "outputs": [
        {
          "output_type": "stream",
          "text": [
            "Valori reali: {0: 1865, 1: 7569}\n",
            "Valori predetti: {0: 1201, 1: 8233}\n",
            "\n",
            "Confusion Matrix:\n",
            "[[ 982  883]\n",
            " [ 219 7350]]\n",
            "\n",
            "Classification Report:\n",
            "              precision    recall  f1-score   support\n",
            "\n",
            "           0       0.82      0.53      0.64      1865\n",
            "           1       0.89      0.97      0.93      7569\n",
            "\n",
            "    accuracy                           0.88      9434\n",
            "   macro avg       0.86      0.75      0.79      9434\n",
            "weighted avg       0.88      0.88      0.87      9434\n",
            "\n"
          ],
          "name": "stdout"
        }
      ]
    },
    {
      "cell_type": "markdown",
      "metadata": {
        "id": "88fq8OpfscYQ"
      },
      "source": [
        "Rispetto al precedente modello di predizione del rating si può osservare un aumento dell'accuracy. In particolare il modello sembrerebbe mostrare dei buoni risultati se si considera il fatto che il dataset è fortemente squilibrato rispetto ai valori di label e nonostante ciò riesce a generalizzare abbastanza bene."
      ]
    },
    {
      "cell_type": "markdown",
      "metadata": {
        "id": "4OmHtR6IscYQ"
      },
      "source": [
        "### Modello per il Sentiment (GRU)\n",
        "Il modello qui sotto riportato è una variante del modello per il calcolo del sentiment appena visto. La differenza si trova nei layer bidirezionali che sfruttano layer GRU invece di quelli LSTM.\n",
        "\n",
        "La valutazione si basa sull'idea che una summary genera lo stesso sentiment del testo da cui viene generata."
      ]
    },
    {
      "cell_type": "code",
      "metadata": {
        "id": "tjlBXoRrscYQ"
      },
      "source": [
        "def get_sentiment_model_gru(h_drop=0, h_rec_drop=0):\n",
        "    sentiment_gru_model = Sequential([\n",
        "        Embedding(x_voc_sent, 64, trainable=True, mask_zero=True),\n",
        "        Bidirectional(GRU(64, return_sequences=True, dropout=h_drop, recurrent_dropout=h_rec_drop)),\n",
        "        Bidirectional(GRU(32, dropout=h_drop, recurrent_dropout=h_rec_drop)),\n",
        "        Dense(64, activation='elu'),\n",
        "        Dropout(0.5),\n",
        "        Dense(2)\n",
        "        ], name=\"sentiment_GRU_evaluation_model\")\n",
        "\n",
        "    tb_dir = pj_path + \"/tensorboard/\"+ sentiment_gru_model.name +\"/\" + date_now\n",
        "\n",
        "    tb = TensorBoard(log_dir=tb_dir, histogram_freq=1)\n",
        "    earlystop = EarlyStopping(monitor = 'val_loss', mode='min', verbose=1, patience=2)\n",
        "\n",
        "    sentiment_gru_model.compile(loss = 'binary_crossentropy', optimizer = 'adam', metrics = ['accuracy'])\n",
        "\n",
        "    sentiment_gru_model.summary()\n",
        "    \n",
        "    if not is_model_sentiment_gru_trained:\n",
        "        # Train del modello. Il train sfrutta come labels le colonne _sentiment_ del dataset create nel seguente modo:\n",
        "        # * se lo score del rating è > 3 allora sentiment uguale a 1 (positivo);\n",
        "        # * se lo score del rating è <= 3 allora sentiment uguale a 0 (negativo).\n",
        "        history = sentiment_gru_model.fit(\n",
        "            x_tr_sent[:,:],\n",
        "            k_tr_sent,\n",
        "            batch_size=128,\n",
        "            validation_data=(x_val_sent[:,:], k_val_sent),\n",
        "            epochs=EPOCHS,\n",
        "            callbacks=[earlystop, tb])\n",
        "\n",
        "        plot_history(history, sentiment_gru_model)\n",
        "        save_model(sentiment_gru_model)\n",
        "    else:\n",
        "        load_model(sentiment_gru_model)\n",
        "\n",
        "    return sentiment_gru_model"
      ],
      "execution_count": 228,
      "outputs": []
    },
    {
      "cell_type": "code",
      "metadata": {
        "id": "SRBLaBjjKV0H",
        "colab": {
          "base_uri": "https://localhost:8080/"
        },
        "outputId": "3c08ca85-0ff0-4aa6-dda7-ea6baf2b271f"
      },
      "source": [
        "sentiment_gru_model = get_sentiment_model_gru()"
      ],
      "execution_count": 229,
      "outputs": [
        {
          "output_type": "stream",
          "text": [
            "Model: \"sentiment_GRU_evaluation_model\"\n",
            "_________________________________________________________________\n",
            "Layer (type)                 Output Shape              Param #   \n",
            "=================================================================\n",
            "embedding_4 (Embedding)      (None, None, 64)          103168    \n",
            "_________________________________________________________________\n",
            "bidirectional_7 (Bidirection (None, None, 128)         49920     \n",
            "_________________________________________________________________\n",
            "bidirectional_8 (Bidirection (None, 64)                31104     \n",
            "_________________________________________________________________\n",
            "dense_5 (Dense)              (None, 64)                4160      \n",
            "_________________________________________________________________\n",
            "dropout_2 (Dropout)          (None, 64)                0         \n",
            "_________________________________________________________________\n",
            "dense_6 (Dense)              (None, 2)                 130       \n",
            "=================================================================\n",
            "Total params: 188,482\n",
            "Trainable params: 188,482\n",
            "Non-trainable params: 0\n",
            "_________________________________________________________________\n",
            "Model loaded\n"
          ],
          "name": "stdout"
        }
      ]
    },
    {
      "cell_type": "markdown",
      "metadata": {
        "id": "0S2ZJvZKscYV"
      },
      "source": [
        "Infine eseguiamo il modello sul dataset di test."
      ]
    },
    {
      "cell_type": "code",
      "metadata": {
        "id": "T-EJGXVbscYV",
        "colab": {
          "base_uri": "https://localhost:8080/"
        },
        "outputId": "3099c001-395e-4c48-fe6d-4a0ead2ffe05"
      },
      "source": [
        "predictions = sentiment_gru_model.predict(x_test_sent_resh[:,:], verbose=1)"
      ],
      "execution_count": 230,
      "outputs": [
        {
          "output_type": "stream",
          "text": [
            "WARNING:tensorflow:Unresolved object in checkpoint: (root).optimizer.iter\n",
            "WARNING:tensorflow:Unresolved object in checkpoint: (root).optimizer.beta_1\n",
            "WARNING:tensorflow:Unresolved object in checkpoint: (root).optimizer.beta_2\n",
            "WARNING:tensorflow:Unresolved object in checkpoint: (root).optimizer.decay\n",
            "WARNING:tensorflow:Unresolved object in checkpoint: (root).optimizer.learning_rate\n",
            "WARNING:tensorflow:A checkpoint was restored (e.g. tf.train.Checkpoint.restore or tf.keras.Model.load_weights) but not all checkpointed values were used. See above for specific issues. Use expect_partial() on the load status object, e.g. tf.train.Checkpoint.restore(...).expect_partial(), to silence these warnings, or use assert_consumed() to make the check explicit. See https://www.tensorflow.org/guide/checkpoint#loading_mechanics for details.\n",
            "WARNING:tensorflow:Unresolved object in checkpoint: (root).optimizer.iter\n",
            "WARNING:tensorflow:Unresolved object in checkpoint: (root).optimizer.beta_1\n",
            "WARNING:tensorflow:Unresolved object in checkpoint: (root).optimizer.beta_2\n",
            "WARNING:tensorflow:Unresolved object in checkpoint: (root).optimizer.decay\n",
            "WARNING:tensorflow:Unresolved object in checkpoint: (root).optimizer.learning_rate\n",
            "WARNING:tensorflow:A checkpoint was restored (e.g. tf.train.Checkpoint.restore or tf.keras.Model.load_weights) but not all checkpointed values were used. See above for specific issues. Use expect_partial() on the load status object, e.g. tf.train.Checkpoint.restore(...).expect_partial(), to silence these warnings, or use assert_consumed() to make the check explicit. See https://www.tensorflow.org/guide/checkpoint#loading_mechanics for details.\n",
            "295/295 [==============================] - 8s 10ms/step\n"
          ],
          "name": "stdout"
        }
      ]
    },
    {
      "cell_type": "markdown",
      "metadata": {
        "id": "gR8CXzGhscYW"
      },
      "source": [
        "Tramite la confusion matrix possiamo calcolarci alcuni diversi indici:\n",
        "\n",
        "* Accuracy $\\frac{TP+TN}{TP+FP+TN+FN}$ che rappresenta la percentuale di classificazioni corrette;\n",
        "* Precision $\\frac{TP}{TP+FP}$ che rappresenta la percentuale di classificazioni positive che sono corrette;\n",
        "* Recall $\\frac{TP}{TP+FN}$ che rappresenta la percentuale di elementi positivi che sono stati classificati come positivi\n",
        "* F1 score $2\\cdot\\frac{Precision \\cdot Recall}{Precision + Recall}$ che rappresenta la media pesata della precisione e della recall.\n"
      ]
    },
    {
      "cell_type": "code",
      "metadata": {
        "id": "M4NvMJ3wscYV",
        "colab": {
          "base_uri": "https://localhost:8080/"
        },
        "outputId": "b5076224-3e4d-43e2-879e-6557260de9f5"
      },
      "source": [
        "test_scores = k_test_sent.argmax(axis=1)\n",
        "test_predicted_scores = predictions.argmax(axis=1)\n",
        "\n",
        "get_test_results(test_scores, test_predicted_scores, sentiment_gru_model.name, \"test\")"
      ],
      "execution_count": 231,
      "outputs": [
        {
          "output_type": "stream",
          "text": [
            "Valori reali: {0: 1865, 1: 7569}\n",
            "Valori predetti: {0: 1319, 1: 8115}\n",
            "\n",
            "Confusion Matrix:\n",
            "[[1030  835]\n",
            " [ 289 7280]]\n",
            "\n",
            "Classification Report:\n",
            "              precision    recall  f1-score   support\n",
            "\n",
            "           0       0.78      0.55      0.65      1865\n",
            "           1       0.90      0.96      0.93      7569\n",
            "\n",
            "    accuracy                           0.88      9434\n",
            "   macro avg       0.84      0.76      0.79      9434\n",
            "weighted avg       0.87      0.88      0.87      9434\n",
            "\n"
          ],
          "name": "stdout"
        }
      ]
    },
    {
      "cell_type": "markdown",
      "metadata": {
        "id": "ZSIX3H_ascYW"
      },
      "source": [
        "In confronto al precedente modello (LSTM) possiamo vedere dei valori di accuracy nettamente peggiori. Questo modello non verrà utilizzato per la valutazione del summary model."
      ]
    },
    {
      "cell_type": "markdown",
      "metadata": {
        "id": "jRTsSacPscYW"
      },
      "source": [
        "# Valutazione dei modelli del summary generator\n",
        "Sulla base dei modelli di valutazione che abbiamo creato nella sezione precedente possiamo procedere con la valutazione del summary model.\n",
        "\n",
        "I risultati precedenti indicano che il modello di sentiment con le migliori prestazioni è il modello con i layers bidirezionali LSTM. Per motivi didattici in questa sezione la RNN verrà comunque valutata con tutti i modelli creati nella sezione precedente.\n",
        "\n",
        "Come già spiegato in precedenza, la valutazione del modello di summary si basa sull'idea che la summary e il suo testo originale producono lo stesso score di rating o di sentiment."
      ]
    },
    {
      "cell_type": "markdown",
      "metadata": {
        "id": "xj4AcKVqscYX"
      },
      "source": [
        "Per prima cosa procediamo con il predire le summaries dal testo originale con le tre reti di summary generation create prima."
      ]
    },
    {
      "cell_type": "code",
      "metadata": {
        "id": "kzhIavHwscYX",
        "colab": {
          "base_uri": "https://localhost:8080/"
        },
        "outputId": "2ff3e219-d50b-4b84-9150-5015645868bc"
      },
      "source": [
        "verbose = True\n",
        "\n",
        "predicted_lstm_list = [] # lista dei summaries predetti tramite il modello LSTM summary model\n",
        "predicted_gru_list = [] # lista dei summaries predetti tramite il modello GRU summary model\n",
        "predicted_bi_list = [] # lista dei summaries predetti tramite il modello Bidirectional summary model\n",
        "\n",
        "dimension = z_test.shape[0]\n",
        "\n",
        "for i in range(dimension):\n",
        "    # decode using the LSTM model\n",
        "    predicted_lstm_list.append(decode_sequence(z_test[i].reshape(1,max_text_len), \"LSTM\", encoder_lstm, decoder_lstm))\n",
        "    # decode using the GRU model\n",
        "    predicted_gru_list.append(decode_sequence(z_test[i].reshape(1,max_text_len), \"GRU\", encoder_gru, decoder_gru))\n",
        "    # decode using the Bidirectional model\n",
        "    predicted_bi_list.append(decode_sequence(z_test[i].reshape(1,max_text_len), \"Bi\", encoder_bi, decoder_bi))\n",
        "\n",
        "    if i%1==0 and verbose:\n",
        "        clear_output(wait=True)\n",
        "        print(\"> {0} / {1} \\t {2:.2f}%\".format(i+1, dimension, ((i+1)/dimension)*100))\n"
      ],
      "execution_count": 232,
      "outputs": [
        {
          "output_type": "stream",
          "text": [
            "> 9434 / 9434 \t 100.00%\n"
          ],
          "name": "stdout"
        }
      ]
    },
    {
      "cell_type": "markdown",
      "metadata": {
        "id": "PmrexIpOscYX"
      },
      "source": [
        "Ora che abbiamo le summaries predette dal modello è importante codificarle tramite un tokenizzatore. Di seguito useremo `x_tokenizer_sent` in quanto è il tokenizzatore utilizzato per codificare le summaries per la sentiment analisys."
      ]
    },
    {
      "cell_type": "code",
      "metadata": {
        "id": "EItyPJ6gscYY"
      },
      "source": [
        "# possiamo utilizzare y_tokenizer in quanto quello che abbiamo generato tramite la predizione è un summary e y_tokenizer si occupa di tokenizzare proprio i summary.\n",
        "# LSTM predictions reshape\n",
        "predicted_lstm_list_original = predicted_lstm_list.copy()\n",
        "predicted_lstm_list_seq = y_tokenizer.texts_to_sequences(predicted_lstm_list)\n",
        "predicted_lstm_list = pad_sequences(predicted_lstm_list_seq, maxlen=max_summary_len, padding='post')\n",
        "predicted_lstm_list_resh = predicted_lstm_list\n",
        "for i in range(predicted_lstm_list.shape[0]):\n",
        "    predicted_lstm_list_resh[i].reshape(1,max_summary_len)\n",
        "\n",
        "# GRU predictions reshape\n",
        "predicted_gru_list_original = predicted_gru_list.copy()\n",
        "predicted_gru_list_seq = y_tokenizer.texts_to_sequences(predicted_gru_list)\n",
        "predicted_gru_list = pad_sequences(predicted_gru_list_seq, maxlen=max_summary_len, padding='post')\n",
        "predicted_gru_list_resh = predicted_gru_list\n",
        "for i in range(predicted_gru_list.shape[0]):\n",
        "    predicted_gru_list_resh[i].reshape(1,max_summary_len)\n",
        "\n",
        "# Bidirectional predictions reshape\n",
        "predicted_bi_list_original = predicted_bi_list.copy()\n",
        "predicted_bi_list_seq = y_tokenizer.texts_to_sequences(predicted_bi_list)\n",
        "predicted_bi_list = pad_sequences(predicted_bi_list_seq, maxlen=max_summary_len, padding='post')\n",
        "predicted_bi_list_resh = predicted_bi_list\n",
        "for i in range(predicted_bi_list.shape[0]):\n",
        "    predicted_bi_list_resh[i].reshape(1,max_summary_len)"
      ],
      "execution_count": 233,
      "outputs": []
    },
    {
      "cell_type": "markdown",
      "metadata": {
        "id": "vSh0zwH5scYY"
      },
      "source": [
        "### Help Functions\n",
        "La funzione che segue sarà richiamata successivamente per creare dei `dict` dei falsi positivi/negativi così da poterli successivamente analizzare per valutare se il risultato sia realmente errato."
      ]
    },
    {
      "cell_type": "code",
      "metadata": {
        "id": "NH6wVoJWscYY"
      },
      "source": [
        "def get_falses(label, pred, text, or_summ, pred_summ):\n",
        "    T = {'text':[], 'original_summary':[], 'predicted_summary':[], 'label':[], 'prediction':[]}\n",
        "\n",
        "    #text = x_tokenizer.sequences_to_texts(text)\n",
        "    #or_summ = y_tokenizer.sequences_to_texts(or_summ)\n",
        "    #pred_summ = y_tokenizer.sequences_to_texts(pred_summ)\n",
        "\n",
        "    for i in range(len(pred)): \n",
        "        if label[i]!=pred[i]:\n",
        "           # T['text'].append(z_tokenizer.sequences_to_texts(text[i]))\n",
        "           T['text'].append(seq2text(text[i]))\n",
        "           T['original_summary'].append(seq2summary(or_summ[i]))\n",
        "           T['predicted_summary'].append(seq2summary(pred_summ[i]))\n",
        "\n",
        "           T['label'].append(label[i])\n",
        "           T['prediction'].append(pred[i])\n",
        "\n",
        "    return T"
      ],
      "execution_count": 234,
      "outputs": []
    },
    {
      "cell_type": "code",
      "metadata": {
        "id": "gTndQxlfKV0J"
      },
      "source": [
        "def save_falses_to_csv(falses, evaluation_model, prediction_model_name:str):\n",
        "    falses_df = pd.DataFrame(data=falses)\n",
        "\n",
        "    path_falses = f\"{pj_path}/falses/{prediction_model_name}/{evaluation_model.name}/\"\n",
        "    if not os.path.exists(os.path.dirname(path_falses)):\n",
        "      try:\n",
        "          Path(path_falses).mkdir(parents=True, exist_ok=True)\n",
        "      except:\n",
        "          print(\"Creation of the directory %s failed\" % path_falses)\n",
        "\n",
        "    falses_df.to_csv(path_falses+\"falses_ratings.csv\", index=False)\n",
        "    print(f\"Falses saved successfully in {path_falses}falses_ratings.csv\")"
      ],
      "execution_count": 235,
      "outputs": []
    },
    {
      "cell_type": "markdown",
      "metadata": {
        "id": "SsGBRZCUscYY"
      },
      "source": [
        "### Valutazione tramite predizione dei Ratings"
      ]
    },
    {
      "cell_type": "markdown",
      "metadata": {
        "id": "DiTckR0uKV0J"
      },
      "source": [
        "Valutazione del LSTM Model Summary con l'evaluation Rating Model"
      ]
    },
    {
      "cell_type": "code",
      "metadata": {
        "id": "6eJJLdoOKV0J",
        "colab": {
          "base_uri": "https://localhost:8080/"
        },
        "outputId": "74b9c5e7-9de0-4ea2-98ae-54de34cb9d14"
      },
      "source": [
        "# Valutazione del LSTM Model Summary con l'evaluation Rating Model\n",
        "evaluation_model = rating_model\n",
        "prediction_model_name = \"model_lstm\"\n",
        "prediction_input_data_original = predicted_lstm_list_original\n",
        "prediction_input_data = predicted_lstm_list\n",
        "prediction_input_data_resh = predicted_lstm_list_resh\n",
        "\n",
        "# Predizione delle summaries\n",
        "predictions = evaluation_model.predict(prediction_input_data_resh[:,:], verbose=1)\n",
        "\n",
        "# Stampa dei risultati\n",
        "test_scores = y_test_sent.argmax(axis=1)\n",
        "test_predicted_scores = predictions.argmax(axis=1)\n",
        "get_test_results(test_scores, test_predicted_scores, prediction_model_name, evaluation_model.name)\n",
        "bleu_s, rouge_s = get_bleu_rouge_score(z_test_original, prediction_input_data_original)\n",
        "print(f\"BLEU score: {bleu_s}\\nROUGE score: {rouge_s}\")\n",
        "\n",
        "# Salvataggio dei falsi positivi/negativi per una revisione futura\n",
        "falses = get_falses(label=test_scores,pred=test_predicted_scores, or_summ=x_test_sent, text=z_test, pred_summ=prediction_input_data)\n",
        "save_falses_to_csv(falses, evaluation_model, prediction_model_name)"
      ],
      "execution_count": 261,
      "outputs": [
        {
          "output_type": "stream",
          "text": [
            "295/295 [==============================] - 1s 5ms/step\n",
            "Valori reali: {0: 806, 1: 468, 2: 591, 3: 1199, 4: 6370}\n",
            "Valori predetti: {0: 677, 1: 84, 2: 313, 3: 62, 4: 8298}\n",
            "\n",
            "Confusion Matrix:\n",
            "[[ 242   18  103    7  436]\n",
            " [ 117   15   63    8  265]\n",
            " [  96   16   56    9  414]\n",
            " [  88   11   36   14 1050]\n",
            " [ 134   24   55   24 6133]]\n",
            "\n",
            "Classification Report:\n",
            "              precision    recall  f1-score   support\n",
            "\n",
            "           0       0.36      0.30      0.33       806\n",
            "           1       0.18      0.03      0.05       468\n",
            "           2       0.18      0.09      0.12       591\n",
            "           3       0.23      0.01      0.02      1199\n",
            "           4       0.74      0.96      0.84      6370\n",
            "\n",
            "    accuracy                           0.68      9434\n",
            "   macro avg       0.34      0.28      0.27      9434\n",
            "weighted avg       0.58      0.68      0.61      9434\n",
            "\n",
            "BLEU score: 0.3094963001100381\n",
            "ROUGE score: 0.07511303220435198\n",
            "Falses saved successfully in /content/drive/MyDrive/Colab Notebooks/falses/model_lstm/rating_LSTM_evaluation_model/falses_ratings.csv\n"
          ],
          "name": "stdout"
        }
      ]
    },
    {
      "cell_type": "markdown",
      "metadata": {
        "id": "67FdcbOUKV0J"
      },
      "source": [
        "Valutazione del GRU Model Summary con l'evaluation Rating Model"
      ]
    },
    {
      "cell_type": "code",
      "metadata": {
        "id": "Rsy823mUKV0J",
        "colab": {
          "base_uri": "https://localhost:8080/"
        },
        "outputId": "75ef4c1b-7573-4dc0-944a-b2a813a5ac5c"
      },
      "source": [
        "# Valutazione del GRU Model Summary con l'evaluation Rating Model\n",
        "evaluation_model = rating_model\n",
        "prediction_model_name = \"model_gru\"\n",
        "prediction_input_data_original = predicted_gru_list_original\n",
        "prediction_input_data = predicted_gru_list\n",
        "prediction_input_data_resh = predicted_gru_list_resh\n",
        "\n",
        "# Predizione delle summaries\n",
        "predictions = evaluation_model.predict(prediction_input_data_resh[:,:], verbose=1)\n",
        "\n",
        "# Stampa dei risultati\n",
        "test_scores = y_test_sent.argmax(axis=1)\n",
        "test_predicted_scores = predictions.argmax(axis=1)\n",
        "get_test_results(test_scores, test_predicted_scores, prediction_model_name, evaluation_model.name)\n",
        "bleu_s, rouge_s = get_bleu_rouge_score(z_test_original, prediction_input_data_original)\n",
        "print(f\"BLEU score: {bleu_s}\\nROUGE score: {rouge_s}\")\n",
        "\n",
        "# Salvataggio dei falsi positivi/negativi per una revisione futura\n",
        "falses = get_falses(label=test_scores,pred=test_predicted_scores, or_summ=x_test_sent, text=z_test, pred_summ=prediction_input_data)\n",
        "save_falses_to_csv(falses, evaluation_model, prediction_model_name)"
      ],
      "execution_count": 262,
      "outputs": [
        {
          "output_type": "stream",
          "text": [
            "295/295 [==============================] - 1s 5ms/step\n",
            "Valori reali: {0: 806, 1: 468, 2: 591, 3: 1199, 4: 6370}\n",
            "Valori predetti: {0: 473, 1: 198, 2: 631, 3: 177, 4: 7955}\n",
            "\n",
            "Confusion Matrix:\n",
            "[[ 209   41  206   24  326]\n",
            " [  79   30  113   17  229]\n",
            " [  65   30  110   29  357]\n",
            " [  44   30   86   43  996]\n",
            " [  76   67  116   64 6047]]\n",
            "\n",
            "Classification Report:\n",
            "              precision    recall  f1-score   support\n",
            "\n",
            "           0       0.44      0.26      0.33       806\n",
            "           1       0.15      0.06      0.09       468\n",
            "           2       0.17      0.19      0.18       591\n",
            "           3       0.24      0.04      0.06      1199\n",
            "           4       0.76      0.95      0.84      6370\n",
            "\n",
            "    accuracy                           0.68      9434\n",
            "   macro avg       0.35      0.30      0.30      9434\n",
            "weighted avg       0.60      0.68      0.62      9434\n",
            "\n",
            "BLEU score: 0.33297419667464195\n",
            "ROUGE score: 0.08113662649071186\n",
            "Falses saved successfully in /content/drive/MyDrive/Colab Notebooks/falses/model_gru/rating_LSTM_evaluation_model/falses_ratings.csv\n"
          ],
          "name": "stdout"
        }
      ]
    },
    {
      "cell_type": "markdown",
      "metadata": {
        "id": "lfu80fE2KV0K"
      },
      "source": [
        "Valutazione del Bidirectional Model Summary con l'evaluation Rating Model"
      ]
    },
    {
      "cell_type": "code",
      "metadata": {
        "id": "JaAg_r3iKV0K",
        "colab": {
          "base_uri": "https://localhost:8080/"
        },
        "outputId": "98809576-f265-4983-d2f3-d5b2837d353a"
      },
      "source": [
        "# Valutazione del Bidirectional Model Summary con l'evaluation Rating Model\n",
        "evaluation_model = rating_model\n",
        "prediction_model_name = \"model_bi\"\n",
        "prediction_input_data_original = predicted_bi_list_original\n",
        "prediction_input_data = predicted_bi_list\n",
        "prediction_input_data_resh = predicted_bi_list_resh\n",
        "\n",
        "# Predizione delle summaries\n",
        "predictions = evaluation_model.predict(prediction_input_data_resh[:,:], verbose=1)\n",
        "\n",
        "# Stampa dei risultati\n",
        "test_scores = y_test_sent.argmax(axis=1)\n",
        "test_predicted_scores = predictions.argmax(axis=1)\n",
        "get_test_results(test_scores, test_predicted_scores, prediction_model_name, evaluation_model.name)\n",
        "bleu_s, rouge_s = get_bleu_rouge_score(z_test_original, prediction_input_data_original)\n",
        "print(f\"BLEU score: {bleu_s}\\nROUGE score: {rouge_s}\")\n",
        "\n",
        "# Salvataggio dei falsi positivi/negativi per una revisione futura\n",
        "falses = get_falses(label=test_scores,pred=test_predicted_scores, or_summ=x_test_sent, text=z_test, pred_summ=prediction_input_data)\n",
        "save_falses_to_csv(falses, evaluation_model, prediction_model_name)"
      ],
      "execution_count": 270,
      "outputs": [
        {
          "output_type": "stream",
          "text": [
            "295/295 [==============================] - 1s 5ms/step\n",
            "Valori reali: {0: 806, 1: 468, 2: 591, 3: 1199, 4: 6370}\n",
            "Valori predetti: {2: 268, 4: 9166}\n",
            "\n",
            "Confusion Matrix:\n",
            "[[   0    0   98    0  708]\n",
            " [   0    0   37    0  431]\n",
            " [   0    0   34    0  557]\n",
            " [   0    0   31    0 1168]\n",
            " [   0    0   68    0 6302]]\n",
            "\n",
            "Classification Report:\n",
            "              precision    recall  f1-score   support\n",
            "\n",
            "           0       0.00      0.00      0.00       806\n",
            "           1       0.00      0.00      0.00       468\n",
            "           2       0.13      0.06      0.08       591\n",
            "           3       0.00      0.00      0.00      1199\n",
            "           4       0.69      0.99      0.81      6370\n",
            "\n",
            "    accuracy                           0.67      9434\n",
            "   macro avg       0.16      0.21      0.18      9434\n",
            "weighted avg       0.47      0.67      0.55      9434\n",
            "\n",
            "BLEU score: 0.27723305773443574\n",
            "ROUGE score: 0.06817289809557574\n",
            "Falses saved successfully in /content/drive/MyDrive/Colab Notebooks/falses/model_bi/rating_LSTM_evaluation_model/falses_ratings.csv\n"
          ],
          "name": "stdout"
        }
      ]
    },
    {
      "cell_type": "markdown",
      "metadata": {
        "id": "EC7endyyscYa"
      },
      "source": [
        "### Valutazione tramite predizione del Sentiment (LSTM)"
      ]
    },
    {
      "cell_type": "markdown",
      "metadata": {
        "id": "1p9PipiyKV0K"
      },
      "source": [
        "Valutazione del LSTM Model Summary con l'evaluation Sentiment LSTM Model"
      ]
    },
    {
      "cell_type": "code",
      "metadata": {
        "id": "32C3fJVrKV0K",
        "colab": {
          "base_uri": "https://localhost:8080/"
        },
        "outputId": "d36ee254-9625-4b37-d7e6-e7358c944d2a"
      },
      "source": [
        "# Valutazione del LSTM Model Summary con l'evaluation Sentiment LSTM Model\n",
        "evaluation_model = sentiment_model\n",
        "prediction_model_name = \"model_lstm\"\n",
        "prediction_input_data_original = predicted_lstm_list_original\n",
        "prediction_input_data = predicted_lstm_list\n",
        "prediction_input_data_resh = predicted_lstm_list_resh\n",
        "\n",
        "# Predizione delle summaries\n",
        "predictions = evaluation_model.predict(prediction_input_data_resh[:,:], verbose=1)\n",
        "\n",
        "# Stampa dei risultati\n",
        "test_scores = k_test_sent.argmax(axis=1)\n",
        "test_predicted_scores = predictions.argmax(axis=1)\n",
        "get_test_results(test_scores, test_predicted_scores, prediction_model_name, evaluation_model.name)\n",
        "bleu_s, rouge_s = get_bleu_rouge_score(z_test_original, prediction_input_data_original)\n",
        "print(f\"BLEU score: {bleu_s}\\nROUGE score: {rouge_s}\")\n",
        "\n",
        "# Salvataggio dei falsi positivi/negativi per una revisione futura\n",
        "falses = get_falses(label=test_scores,pred=test_predicted_scores, or_summ=x_test_sent, text=z_test, pred_summ=prediction_input_data)\n",
        "save_falses_to_csv(falses, evaluation_model, prediction_model_name)"
      ],
      "execution_count": 264,
      "outputs": [
        {
          "output_type": "stream",
          "text": [
            "295/295 [==============================] - 1s 5ms/step\n",
            "Valori reali: {0: 1865, 1: 7569}\n",
            "Valori predetti: {0: 993, 1: 8441}\n",
            "\n",
            "Confusion Matrix:\n",
            "[[ 682 1183]\n",
            " [ 311 7258]]\n",
            "\n",
            "Classification Report:\n",
            "              precision    recall  f1-score   support\n",
            "\n",
            "           0       0.69      0.37      0.48      1865\n",
            "           1       0.86      0.96      0.91      7569\n",
            "\n",
            "    accuracy                           0.84      9434\n",
            "   macro avg       0.77      0.66      0.69      9434\n",
            "weighted avg       0.83      0.84      0.82      9434\n",
            "\n",
            "BLEU score: 0.3094963001100381\n",
            "ROUGE score: 0.07511303220435198\n",
            "Falses saved successfully in /content/drive/MyDrive/Colab Notebooks/falses/model_lstm/sentiment_LSTM_evaluation_model/falses_ratings.csv\n"
          ],
          "name": "stdout"
        }
      ]
    },
    {
      "cell_type": "markdown",
      "metadata": {
        "id": "X7xYNhb4KV0L"
      },
      "source": [
        "Valutazione del GRU Model Summary con l'evaluation Sentiment LSTM Model"
      ]
    },
    {
      "cell_type": "code",
      "metadata": {
        "id": "-jCAcBvXKV0L",
        "colab": {
          "base_uri": "https://localhost:8080/"
        },
        "outputId": "c10af8f0-3f7b-42ee-dbe3-c7f32ec896b9"
      },
      "source": [
        "# Valutazione del GRU Model Summary con l'evaluation Sentiment LSTM Model\n",
        "evaluation_model = sentiment_model\n",
        "prediction_model_name = \"model_gru\"\n",
        "prediction_input_data_original = predicted_gru_list_original\n",
        "prediction_input_data = predicted_gru_list\n",
        "prediction_input_data_resh = predicted_gru_list_resh\n",
        "\n",
        "# Predizione delle summaries\n",
        "predictions = evaluation_model.predict(prediction_input_data_resh[:,:], verbose=1)\n",
        "\n",
        "# Stampa dei risultati\n",
        "test_scores = k_test_sent.argmax(axis=1)\n",
        "test_predicted_scores = predictions.argmax(axis=1)\n",
        "get_test_results(test_scores, test_predicted_scores, prediction_model_name, evaluation_model.name)\n",
        "bleu_s, rouge_s = get_bleu_rouge_score(z_test_original, prediction_input_data_original)\n",
        "print(f\"BLEU score: {bleu_s}\\nROUGE score: {rouge_s}\")\n",
        "\n",
        "# Salvataggio dei falsi positivi/negativi per una revisione futura\n",
        "falses = get_falses(label=test_scores,pred=test_predicted_scores, or_summ=x_test_sent, text=z_test, pred_summ=prediction_input_data)\n",
        "save_falses_to_csv(falses, evaluation_model, prediction_model_name)"
      ],
      "execution_count": 265,
      "outputs": [
        {
          "output_type": "stream",
          "text": [
            "295/295 [==============================] - 1s 5ms/step\n",
            "Valori reali: {0: 1865, 1: 7569}\n",
            "Valori predetti: {0: 1053, 1: 8381}\n",
            "\n",
            "Confusion Matrix:\n",
            "[[ 761 1104]\n",
            " [ 292 7277]]\n",
            "\n",
            "Classification Report:\n",
            "              precision    recall  f1-score   support\n",
            "\n",
            "           0       0.72      0.41      0.52      1865\n",
            "           1       0.87      0.96      0.91      7569\n",
            "\n",
            "    accuracy                           0.85      9434\n",
            "   macro avg       0.80      0.68      0.72      9434\n",
            "weighted avg       0.84      0.85      0.84      9434\n",
            "\n",
            "BLEU score: 0.33297419667464195\n",
            "ROUGE score: 0.08113662649071186\n",
            "Falses saved successfully in /content/drive/MyDrive/Colab Notebooks/falses/model_gru/sentiment_LSTM_evaluation_model/falses_ratings.csv\n"
          ],
          "name": "stdout"
        }
      ]
    },
    {
      "cell_type": "markdown",
      "metadata": {
        "id": "Z4yqaDmnKV0L"
      },
      "source": [
        "Valutazione del Bidirectional Model Summary con l'evaluation Sentiment LSTM Model"
      ]
    },
    {
      "cell_type": "code",
      "metadata": {
        "id": "VczxMC_YKV0L",
        "colab": {
          "base_uri": "https://localhost:8080/"
        },
        "outputId": "199256d0-7178-4808-9822-2fd94d6250e5"
      },
      "source": [
        "# Valutazione del Bidirectional Model Summary con l'evaluation Sentiment LSTM Model\n",
        "evaluation_model = sentiment_model\n",
        "prediction_model_name = \"model_bi\"\n",
        "prediction_input_data_original = predicted_bi_list_original\n",
        "prediction_input_data = predicted_bi_list\n",
        "prediction_input_data_resh = predicted_bi_list_resh\n",
        "\n",
        "# Predizione delle summaries\n",
        "predictions = evaluation_model.predict(prediction_input_data_resh[:,:], verbose=1)\n",
        "\n",
        "# Stampa dei risultati\n",
        "test_scores = k_test_sent.argmax(axis=1)\n",
        "test_predicted_scores = predictions.argmax(axis=1)\n",
        "get_test_results(test_scores, test_predicted_scores, prediction_model_name, evaluation_model.name)\n",
        "bleu_s, rouge_s = get_bleu_rouge_score(z_test_original, prediction_input_data_original)\n",
        "print(f\"BLEU score: {bleu_s}\\nROUGE score: {rouge_s}\")\n",
        "\n",
        "# Salvataggio dei falsi positivi/negativi per una revisione futura\n",
        "falses = get_falses(label=test_scores,pred=test_predicted_scores, or_summ=x_test_sent, text=z_test, pred_summ=prediction_input_data)\n",
        "save_falses_to_csv(falses, evaluation_model, prediction_model_name)"
      ],
      "execution_count": 266,
      "outputs": [
        {
          "output_type": "stream",
          "text": [
            "295/295 [==============================] - 1s 5ms/step\n",
            "Valori reali: {0: 1865, 1: 7569}\n",
            "Valori predetti: {0: 258, 1: 9176}\n",
            "\n",
            "Confusion Matrix:\n",
            "[[ 163 1702]\n",
            " [  95 7474]]\n",
            "\n",
            "Classification Report:\n",
            "              precision    recall  f1-score   support\n",
            "\n",
            "           0       0.63      0.09      0.15      1865\n",
            "           1       0.81      0.99      0.89      7569\n",
            "\n",
            "    accuracy                           0.81      9434\n",
            "   macro avg       0.72      0.54      0.52      9434\n",
            "weighted avg       0.78      0.81      0.75      9434\n",
            "\n",
            "BLEU score: 0.27723305773443574\n",
            "ROUGE score: 0.06817289809557574\n",
            "Falses saved successfully in /content/drive/MyDrive/Colab Notebooks/falses/model_bi/sentiment_LSTM_evaluation_model/falses_ratings.csv\n"
          ],
          "name": "stdout"
        }
      ]
    },
    {
      "cell_type": "markdown",
      "metadata": {
        "id": "ppplLuN-scYb"
      },
      "source": [
        "### Valutazione tramite predizione del Sentiment (GRU)"
      ]
    },
    {
      "cell_type": "markdown",
      "metadata": {
        "id": "dAbvaFwVKV0L"
      },
      "source": [
        "Valutazione del LSTM Model Summary con l'evaluation Sentiment GRU Model"
      ]
    },
    {
      "cell_type": "code",
      "metadata": {
        "id": "C4YrZAD5KV0L",
        "colab": {
          "base_uri": "https://localhost:8080/"
        },
        "outputId": "d14a6954-01aa-4097-8102-d47f48631e7d"
      },
      "source": [
        "# Valutazione del LSTM Model Summary con l'evaluation Sentiment LSTM Model\n",
        "evaluation_model = sentiment_gru_model\n",
        "prediction_model_name = \"model_lstm\"\n",
        "prediction_input_data_original = predicted_lstm_list_original\n",
        "prediction_input_data = predicted_lstm_list\n",
        "prediction_input_data_resh = predicted_lstm_list_resh\n",
        "\n",
        "# Predizione delle summaries\n",
        "predictions = evaluation_model.predict(prediction_input_data_resh[:,:], verbose=1)\n",
        "\n",
        "# Stampa dei risultati\n",
        "test_scores = k_test_sent.argmax(axis=1)\n",
        "test_predicted_scores = predictions.argmax(axis=1)\n",
        "get_test_results(test_scores, test_predicted_scores, prediction_model_name, evaluation_model.name)\n",
        "bleu_s, rouge_s = get_bleu_rouge_score(z_test_original, prediction_input_data_original)\n",
        "print(f\"BLEU score: {bleu_s}\\nROUGE score: {rouge_s}\")\n",
        "\n",
        "# Salvataggio dei falsi positivi/negativi per una revisione futura\n",
        "falses = get_falses(label=test_scores,pred=test_predicted_scores, or_summ=x_test_sent, text=z_test, pred_summ=prediction_input_data)\n",
        "save_falses_to_csv(falses, evaluation_model, prediction_model_name)"
      ],
      "execution_count": 267,
      "outputs": [
        {
          "output_type": "stream",
          "text": [
            "295/295 [==============================] - 1s 4ms/step\n",
            "Valori reali: {0: 1865, 1: 7569}\n",
            "Valori predetti: {0: 1064, 1: 8370}\n",
            "\n",
            "Confusion Matrix:\n",
            "[[ 717 1148]\n",
            " [ 347 7222]]\n",
            "\n",
            "Classification Report:\n",
            "              precision    recall  f1-score   support\n",
            "\n",
            "           0       0.67      0.38      0.49      1865\n",
            "           1       0.86      0.95      0.91      7569\n",
            "\n",
            "    accuracy                           0.84      9434\n",
            "   macro avg       0.77      0.67      0.70      9434\n",
            "weighted avg       0.83      0.84      0.82      9434\n",
            "\n",
            "BLEU score: 0.3094963001100381\n",
            "ROUGE score: 0.07511303220435198\n",
            "Falses saved successfully in /content/drive/MyDrive/Colab Notebooks/falses/model_lstm/sentiment_GRU_evaluation_model/falses_ratings.csv\n"
          ],
          "name": "stdout"
        }
      ]
    },
    {
      "cell_type": "markdown",
      "metadata": {
        "id": "C3vFF3DfKV0M"
      },
      "source": [
        "Valutazione del GRU Model Summary con l'evaluation Sentiment LSTM Model"
      ]
    },
    {
      "cell_type": "code",
      "metadata": {
        "id": "FjQu2nX6KV0M",
        "colab": {
          "base_uri": "https://localhost:8080/",
          "height": 680
        },
        "outputId": "ff8754c2-21b1-4de2-8b3e-7f8b29ac623e"
      },
      "source": [
        "# Valutazione del GRU Model Summary con l'evaluation Sentiment LSTM Model\n",
        "evaluation_model = sentiment_gru_model\n",
        "prediction_model_name = \"model_gru\"\n",
        "prediction_input_data_original = predicted_gru_list_original\n",
        "prediction_input_data = predicted_gru_list\n",
        "prediction_input_data_resh = predicted_gru_list_resh\n",
        "\n",
        "# Predizione delle summaries\n",
        "predictions = evaluation_model.predict(prediction_input_data_resh[:,:], verbose=1)\n",
        "\n",
        "# Stampa dei risultati\n",
        "test_scores = k_test_sent.argmax(axis=1)\n",
        "test_predicted_scores = predictions.argmax(axis=1)\n",
        "get_test_results(test_scores, test_predicted_scores, prediction_model_name, evaluation_model.name)\n",
        "bleu_s, rouge_s = get_bleu_rouge_score(z_test_original, prediction_input_data_original)\n",
        "print(f\"BLEU score: {bleu_s}\\nROUGE score: {rouge_s}\")\n",
        "\n",
        "# Salvataggio dei falsi positivi/negativi per una revisione futura\n",
        "falses = get_falses(label=test_scores,pred=test_predicted_scores, or_summ=x_test_sent, text=z_test, pred_summ=prediction_input_data)\n",
        "save_falses_to_csv(falses, evaluation_model, prediction_model_name)"
      ],
      "execution_count": 268,
      "outputs": [
        {
          "output_type": "stream",
          "text": [
            "295/295 [==============================] - 1s 4ms/step\n",
            "Valori reali: {0: 1865, 1: 7569}\n",
            "Valori predetti: {0: 1134, 1: 8300}\n",
            "\n",
            "Confusion Matrix:\n",
            "[[ 798 1067]\n",
            " [ 336 7233]]\n",
            "\n",
            "Classification Report:\n",
            "              precision    recall  f1-score   support\n",
            "\n",
            "           0       0.70      0.43      0.53      1865\n",
            "           1       0.87      0.96      0.91      7569\n",
            "\n",
            "    accuracy                           0.85      9434\n",
            "   macro avg       0.79      0.69      0.72      9434\n",
            "weighted avg       0.84      0.85      0.84      9434\n",
            "\n"
          ],
          "name": "stdout"
        },
        {
          "output_type": "error",
          "ename": "KeyboardInterrupt",
          "evalue": "ignored",
          "traceback": [
            "\u001b[0;31m---------------------------------------------------------------------------\u001b[0m",
            "\u001b[0;31mKeyboardInterrupt\u001b[0m                         Traceback (most recent call last)",
            "\u001b[0;32m<ipython-input-268-13ba1d1f511b>\u001b[0m in \u001b[0;36m<module>\u001b[0;34m()\u001b[0m\n\u001b[1;32m     13\u001b[0m \u001b[0mtest_predicted_scores\u001b[0m \u001b[0;34m=\u001b[0m \u001b[0mpredictions\u001b[0m\u001b[0;34m.\u001b[0m\u001b[0margmax\u001b[0m\u001b[0;34m(\u001b[0m\u001b[0maxis\u001b[0m\u001b[0;34m=\u001b[0m\u001b[0;36m1\u001b[0m\u001b[0;34m)\u001b[0m\u001b[0;34m\u001b[0m\u001b[0;34m\u001b[0m\u001b[0m\n\u001b[1;32m     14\u001b[0m \u001b[0mget_test_results\u001b[0m\u001b[0;34m(\u001b[0m\u001b[0mtest_scores\u001b[0m\u001b[0;34m,\u001b[0m \u001b[0mtest_predicted_scores\u001b[0m\u001b[0;34m,\u001b[0m \u001b[0mprediction_model_name\u001b[0m\u001b[0;34m,\u001b[0m \u001b[0mevaluation_model\u001b[0m\u001b[0;34m.\u001b[0m\u001b[0mname\u001b[0m\u001b[0;34m)\u001b[0m\u001b[0;34m\u001b[0m\u001b[0;34m\u001b[0m\u001b[0m\n\u001b[0;32m---> 15\u001b[0;31m \u001b[0mbleu_s\u001b[0m\u001b[0;34m,\u001b[0m \u001b[0mrouge_s\u001b[0m \u001b[0;34m=\u001b[0m \u001b[0mget_bleu_rouge_score\u001b[0m\u001b[0;34m(\u001b[0m\u001b[0mz_test_original\u001b[0m\u001b[0;34m,\u001b[0m \u001b[0mprediction_input_data_original\u001b[0m\u001b[0;34m)\u001b[0m\u001b[0;34m\u001b[0m\u001b[0;34m\u001b[0m\u001b[0m\n\u001b[0m\u001b[1;32m     16\u001b[0m \u001b[0mprint\u001b[0m\u001b[0;34m(\u001b[0m\u001b[0;34mf\"BLEU score: {bleu_s}\\nROUGE score: {rouge_s}\"\u001b[0m\u001b[0;34m)\u001b[0m\u001b[0;34m\u001b[0m\u001b[0;34m\u001b[0m\u001b[0m\n\u001b[1;32m     17\u001b[0m \u001b[0;34m\u001b[0m\u001b[0m\n",
            "\u001b[0;32m<ipython-input-260-93b2f3227961>\u001b[0m in \u001b[0;36mget_bleu_rouge_score\u001b[0;34m(labels, predictions)\u001b[0m\n\u001b[1;32m     35\u001b[0m \u001b[0;32mdef\u001b[0m \u001b[0mget_bleu_rouge_score\u001b[0m\u001b[0;34m(\u001b[0m\u001b[0mlabels\u001b[0m\u001b[0;34m,\u001b[0m \u001b[0mpredictions\u001b[0m\u001b[0;34m)\u001b[0m\u001b[0;34m:\u001b[0m\u001b[0;34m\u001b[0m\u001b[0;34m\u001b[0m\u001b[0m\n\u001b[1;32m     36\u001b[0m     \u001b[0mbleau_s\u001b[0m \u001b[0;34m=\u001b[0m \u001b[0mbleu_score\u001b[0m\u001b[0;34m(\u001b[0m\u001b[0mlabels\u001b[0m\u001b[0;34m,\u001b[0m \u001b[0mpredictions\u001b[0m\u001b[0;34m)\u001b[0m\u001b[0;34m\u001b[0m\u001b[0;34m\u001b[0m\u001b[0m\n\u001b[0;32m---> 37\u001b[0;31m     \u001b[0mrouge_s\u001b[0m \u001b[0;34m=\u001b[0m \u001b[0mrouge_score_avg\u001b[0m\u001b[0;34m(\u001b[0m\u001b[0mlabels\u001b[0m\u001b[0;34m,\u001b[0m \u001b[0mpredictions\u001b[0m\u001b[0;34m)\u001b[0m\u001b[0;34m\u001b[0m\u001b[0;34m\u001b[0m\u001b[0m\n\u001b[0m\u001b[1;32m     38\u001b[0m     \u001b[0;32mreturn\u001b[0m \u001b[0mbleau_s\u001b[0m\u001b[0;34m,\u001b[0m \u001b[0mrouge_s\u001b[0m\u001b[0;34m\u001b[0m\u001b[0;34m\u001b[0m\u001b[0m\n",
            "\u001b[0;32m<ipython-input-260-93b2f3227961>\u001b[0m in \u001b[0;36mrouge_score_avg\u001b[0;34m(labels, predictions)\u001b[0m\n\u001b[1;32m     28\u001b[0m             \u001b[0mall_hypothesis\u001b[0m\u001b[0;34m.\u001b[0m\u001b[0mappend\u001b[0m\u001b[0;34m(\u001b[0m\u001b[0mp\u001b[0m\u001b[0;34m)\u001b[0m\u001b[0;34m\u001b[0m\u001b[0;34m\u001b[0m\u001b[0m\n\u001b[1;32m     29\u001b[0m             \u001b[0mall_references\u001b[0m\u001b[0;34m.\u001b[0m\u001b[0mappend\u001b[0m\u001b[0;34m(\u001b[0m\u001b[0ml\u001b[0m\u001b[0;34m)\u001b[0m\u001b[0;34m\u001b[0m\u001b[0;34m\u001b[0m\u001b[0m\n\u001b[0;32m---> 30\u001b[0;31m         \u001b[0mscores\u001b[0m \u001b[0;34m=\u001b[0m \u001b[0mevaluator\u001b[0m\u001b[0;34m.\u001b[0m\u001b[0mget_scores\u001b[0m\u001b[0;34m(\u001b[0m\u001b[0mall_hypothesis\u001b[0m\u001b[0;34m,\u001b[0m \u001b[0mall_references\u001b[0m\u001b[0;34m)\u001b[0m\u001b[0;34m\u001b[0m\u001b[0;34m\u001b[0m\u001b[0m\n\u001b[0m\u001b[1;32m     31\u001b[0m         \u001b[0;32mfor\u001b[0m \u001b[0mmetric\u001b[0m\u001b[0;34m,\u001b[0m \u001b[0mresults\u001b[0m \u001b[0;32min\u001b[0m \u001b[0msorted\u001b[0m\u001b[0;34m(\u001b[0m\u001b[0mscores\u001b[0m\u001b[0;34m.\u001b[0m\u001b[0mitems\u001b[0m\u001b[0;34m(\u001b[0m\u001b[0;34m)\u001b[0m\u001b[0;34m,\u001b[0m \u001b[0mkey\u001b[0m\u001b[0;34m=\u001b[0m\u001b[0;32mlambda\u001b[0m \u001b[0mx\u001b[0m\u001b[0;34m:\u001b[0m \u001b[0mx\u001b[0m\u001b[0;34m[\u001b[0m\u001b[0;36m0\u001b[0m\u001b[0;34m]\u001b[0m\u001b[0;34m)\u001b[0m\u001b[0;34m:\u001b[0m\u001b[0;34m\u001b[0m\u001b[0;34m\u001b[0m\u001b[0m\n\u001b[1;32m     32\u001b[0m             \u001b[0;32mif\u001b[0m \u001b[0mapply_avg\u001b[0m \u001b[0;32mand\u001b[0m \u001b[0mmetric\u001b[0m \u001b[0;34m==\u001b[0m \u001b[0;34m'rouge-1'\u001b[0m\u001b[0;34m:\u001b[0m\u001b[0;34m\u001b[0m\u001b[0;34m\u001b[0m\u001b[0m\n",
            "\u001b[0;32m/usr/local/lib/python3.7/dist-packages/rouge/rouge.py\u001b[0m in \u001b[0;36mget_scores\u001b[0;34m(self, hypothesis, references)\u001b[0m\n\u001b[1;32m    483\u001b[0m         \u001b[0mhas_rouge_w_metric\u001b[0m \u001b[0;34m=\u001b[0m \u001b[0mlen\u001b[0m\u001b[0;34m(\u001b[0m\u001b[0;34m[\u001b[0m\u001b[0mmetric\u001b[0m \u001b[0;32mfor\u001b[0m \u001b[0mmetric\u001b[0m \u001b[0;32min\u001b[0m \u001b[0mself\u001b[0m\u001b[0;34m.\u001b[0m\u001b[0mmetrics\u001b[0m \u001b[0;32mif\u001b[0m \u001b[0mmetric\u001b[0m\u001b[0;34m.\u001b[0m\u001b[0msplit\u001b[0m\u001b[0;34m(\u001b[0m\u001b[0;34m'-'\u001b[0m\u001b[0;34m)\u001b[0m\u001b[0;34m[\u001b[0m\u001b[0;34m-\u001b[0m\u001b[0;36m1\u001b[0m\u001b[0;34m]\u001b[0m\u001b[0;34m.\u001b[0m\u001b[0mlower\u001b[0m\u001b[0;34m(\u001b[0m\u001b[0;34m)\u001b[0m \u001b[0;34m==\u001b[0m \u001b[0;34m'w'\u001b[0m\u001b[0;34m]\u001b[0m\u001b[0;34m)\u001b[0m \u001b[0;34m>\u001b[0m \u001b[0;36m0\u001b[0m\u001b[0;34m\u001b[0m\u001b[0;34m\u001b[0m\u001b[0m\n\u001b[1;32m    484\u001b[0m         \u001b[0;32mif\u001b[0m \u001b[0mhas_rouge_w_metric\u001b[0m\u001b[0;34m:\u001b[0m\u001b[0;34m\u001b[0m\u001b[0;34m\u001b[0m\u001b[0m\n\u001b[0;32m--> 485\u001b[0;31m             \u001b[0mscores\u001b[0m \u001b[0;34m=\u001b[0m \u001b[0;34m{\u001b[0m\u001b[0;34m**\u001b[0m\u001b[0mscores\u001b[0m\u001b[0;34m,\u001b[0m \u001b[0;34m**\u001b[0m\u001b[0mself\u001b[0m\u001b[0;34m.\u001b[0m\u001b[0m_get_scores_rouge_l_or_w\u001b[0m\u001b[0;34m(\u001b[0m\u001b[0mhypothesis\u001b[0m\u001b[0;34m,\u001b[0m \u001b[0mreferences\u001b[0m\u001b[0;34m,\u001b[0m \u001b[0;32mTrue\u001b[0m\u001b[0;34m)\u001b[0m\u001b[0;34m}\u001b[0m\u001b[0;34m\u001b[0m\u001b[0;34m\u001b[0m\u001b[0m\n\u001b[0m\u001b[1;32m    486\u001b[0m \u001b[0;34m\u001b[0m\u001b[0m\n\u001b[1;32m    487\u001b[0m         \u001b[0;32mreturn\u001b[0m \u001b[0mscores\u001b[0m\u001b[0;34m\u001b[0m\u001b[0;34m\u001b[0m\u001b[0m\n",
            "\u001b[0;32m/usr/local/lib/python3.7/dist-packages/rouge/rouge.py\u001b[0m in \u001b[0;36m_get_scores_rouge_l_or_w\u001b[0;34m(self, all_hypothesis, all_references, use_w)\u001b[0m\n\u001b[1;32m    605\u001b[0m \u001b[0;34m\u001b[0m\u001b[0m\n\u001b[1;32m    606\u001b[0m                 \u001b[0;32mfor\u001b[0m \u001b[0mreference_sentences\u001b[0m \u001b[0;32min\u001b[0m \u001b[0mreferences_sentences\u001b[0m\u001b[0;34m:\u001b[0m\u001b[0;34m\u001b[0m\u001b[0;34m\u001b[0m\u001b[0m\n\u001b[0;32m--> 607\u001b[0;31m                     \u001b[0mhypothesis_count\u001b[0m\u001b[0;34m,\u001b[0m \u001b[0mreference_count\u001b[0m\u001b[0;34m,\u001b[0m \u001b[0moverlapping_ngrams\u001b[0m \u001b[0;34m=\u001b[0m \u001b[0mRouge\u001b[0m\u001b[0;34m.\u001b[0m\u001b[0m_compute_ngrams_lcs\u001b[0m\u001b[0;34m(\u001b[0m\u001b[0mhypothesis_sentences\u001b[0m\u001b[0;34m,\u001b[0m \u001b[0mreference_sentences\u001b[0m\u001b[0;34m,\u001b[0m \u001b[0mself\u001b[0m\u001b[0;34m.\u001b[0m\u001b[0mweight_factor\u001b[0m \u001b[0;32mif\u001b[0m \u001b[0muse_w\u001b[0m \u001b[0;32melse\u001b[0m \u001b[0;36m1.0\u001b[0m\u001b[0;34m)\u001b[0m\u001b[0;34m\u001b[0m\u001b[0;34m\u001b[0m\u001b[0m\n\u001b[0m\u001b[1;32m    608\u001b[0m                     \u001b[0mtotal_hypothesis_ngrams_count\u001b[0m \u001b[0;34m+=\u001b[0m \u001b[0mhypothesis_count\u001b[0m\u001b[0;34m\u001b[0m\u001b[0;34m\u001b[0m\u001b[0m\n\u001b[1;32m    609\u001b[0m                     \u001b[0mtotal_reference_ngrams_count\u001b[0m \u001b[0;34m+=\u001b[0m \u001b[0mreference_count\u001b[0m\u001b[0;34m\u001b[0m\u001b[0;34m\u001b[0m\u001b[0m\n",
            "\u001b[0;32m/usr/local/lib/python3.7/dist-packages/rouge/rouge.py\u001b[0m in \u001b[0;36m_compute_ngrams_lcs\u001b[0;34m(evaluated_sentences, reference_sentences, weight_factor)\u001b[0m\n\u001b[1;32m    422\u001b[0m \u001b[0;34m\u001b[0m\u001b[0m\n\u001b[1;32m    423\u001b[0m                 \u001b[0;32mif\u001b[0m \u001b[0muse_WLCS\u001b[0m\u001b[0;34m:\u001b[0m\u001b[0;34m\u001b[0m\u001b[0;34m\u001b[0m\u001b[0m\n\u001b[0;32m--> 424\u001b[0;31m                     \u001b[0m_\u001b[0m\u001b[0;34m,\u001b[0m \u001b[0mlcs_dirs\u001b[0m \u001b[0;34m=\u001b[0m \u001b[0m_wlcs\u001b[0m\u001b[0;34m(\u001b[0m\u001b[0mreference_sentence_tokens\u001b[0m\u001b[0;34m,\u001b[0m \u001b[0mevaluated_sentence_tokens\u001b[0m\u001b[0;34m,\u001b[0m \u001b[0mweight_factor\u001b[0m\u001b[0;34m)\u001b[0m\u001b[0;34m\u001b[0m\u001b[0;34m\u001b[0m\u001b[0m\n\u001b[0m\u001b[1;32m    425\u001b[0m                 \u001b[0;32melse\u001b[0m\u001b[0;34m:\u001b[0m\u001b[0;34m\u001b[0m\u001b[0;34m\u001b[0m\u001b[0m\n\u001b[1;32m    426\u001b[0m                     \u001b[0m_\u001b[0m\u001b[0;34m,\u001b[0m \u001b[0mlcs_dirs\u001b[0m \u001b[0;34m=\u001b[0m \u001b[0m_lcs\u001b[0m\u001b[0;34m(\u001b[0m\u001b[0mreference_sentence_tokens\u001b[0m\u001b[0;34m,\u001b[0m \u001b[0mevaluated_sentence_tokens\u001b[0m\u001b[0;34m)\u001b[0m\u001b[0;34m\u001b[0m\u001b[0;34m\u001b[0m\u001b[0m\n",
            "\u001b[0;31mKeyboardInterrupt\u001b[0m: "
          ]
        }
      ]
    },
    {
      "cell_type": "markdown",
      "metadata": {
        "id": "CNU00Wf9KV0M"
      },
      "source": [
        "Valutazione del Bidirectional Model Summary con l'evaluation Sentiment LSTM Model"
      ]
    },
    {
      "cell_type": "code",
      "metadata": {
        "id": "N9pDM_oJKV0M"
      },
      "source": [
        "# Valutazione del Bidirectional Model Summary con l'evaluation Sentiment LSTM Model\n",
        "evaluation_model = sentiment_gru_model\n",
        "prediction_model_name = \"model_bi\"\n",
        "prediction_input_data_original = predicted_bi_list_original\n",
        "prediction_input_data = predicted_bi_list\n",
        "prediction_input_data_resh = predicted_bi_list_resh\n",
        "\n",
        "# Predizione delle summaries\n",
        "predictions = evaluation_model.predict(prediction_input_data_resh[:,:], verbose=1)\n",
        "\n",
        "# Stampa dei risultati\n",
        "test_scores = k_test_sent.argmax(axis=1)\n",
        "test_predicted_scores = predictions.argmax(axis=1)\n",
        "get_test_results(test_scores, test_predicted_scores, prediction_model_name, evaluation_model.name)\n",
        "bleu_s, rouge_s = get_bleu_rouge_score(z_test_original, prediction_input_data_original)\n",
        "print(f\"BLEU score: {bleu_s}\\nROUGE score: {rouge_s}\")\n",
        "\n",
        "# Salvataggio dei falsi positivi/negativi per una revisione futura\n",
        "falses = get_falses(label=test_scores,pred=test_predicted_scores, or_summ=x_test_sent, text=z_test, pred_summ=prediction_input_data)\n",
        "save_falses_to_csv(falses, evaluation_model, prediction_model_name)"
      ],
      "execution_count": null,
      "outputs": []
    },
    {
      "cell_type": "markdown",
      "metadata": {
        "id": "OTkaYNjHW4lC"
      },
      "source": [
        "This is really cool stuff. Even though the actual summary and the summary generated by our model do not match in terms of words, both of them are conveying the same meaning. Our model is able to generate a legible summary based on the context present in the text.\n",
        "\n",
        "This is how we can perform text summarization using deep learning concepts in Python.\n",
        "\n",
        "# How can we Improve the Model’s Performance Even Further?\n",
        "\n",
        "Your learning doesn’t stop here! There’s a lot more you can do to play around and experiment with the model:\n",
        "\n",
        "I recommend you to **increase the training dataset** size and build the model. The generalization capability of a deep learning model enhances with an increase in the training dataset size\n",
        "\n",
        "Try implementing **Bi-Directional LSTM** which is capable of capturing the context from both the directions and results in a better context vector\n",
        "\n",
        "Try implementing a GRU neural network\n",
        "\n",
        "Use the **beam search strategy** for decoding the test sequence instead of using the greedy approach (argmax)\n",
        "\n",
        "Evaluate the performance of your model based on the **BLEU score**\n",
        "\n",
        "Implement **pointer-generator networks** and **coverage mechanisms**\n",
        " \n",
        "\n"
      ]
    },
    {
      "cell_type": "markdown",
      "metadata": {
        "id": "R_qIecuvY5GT"
      },
      "source": [
        "# End Notes\n",
        "\n",
        "If you have any feedback on this article or any doubts/queries, kindly share them in the comments section over [here](https://www.analyticsvidhya.com/blog/2019/06/comprehensive-guide-text-summarization-using-deep-learning-python/) and I will get back to you. And make sure you experiment with the model we built here and share your results with me!"
      ]
    }
  ]
}